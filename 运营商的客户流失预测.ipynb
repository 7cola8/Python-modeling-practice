{
 "cells": [
  {
   "cell_type": "code",
   "execution_count": 1,
   "metadata": {},
   "outputs": [
    {
     "name": "stdout",
     "output_type": "stream",
     "text": [
      "1.1.4\n",
      "1.19.2\n"
     ]
    }
   ],
   "source": [
    "import pandas as pd\n",
    "import numpy as np\n",
    "import matplotlib.pyplot as plt\n",
    "\n",
    "print(pd.__version__)\n",
    "print(np.__version__)"
   ]
  },
  {
   "cell_type": "markdown",
   "metadata": {
    "heading_collapsed": true
   },
   "source": [
    "# 数据加载与探索"
   ]
  },
  {
   "cell_type": "code",
   "execution_count": 2,
   "metadata": {
    "hidden": true
   },
   "outputs": [
    {
     "name": "stdout",
     "output_type": "stream",
     "text": [
      "(900000, 35)\n"
     ]
    },
    {
     "data": {
      "text/html": [
       "<div>\n",
       "<style scoped>\n",
       "    .dataframe tbody tr th:only-of-type {\n",
       "        vertical-align: middle;\n",
       "    }\n",
       "\n",
       "    .dataframe tbody tr th {\n",
       "        vertical-align: top;\n",
       "    }\n",
       "\n",
       "    .dataframe thead th {\n",
       "        text-align: right;\n",
       "    }\n",
       "</style>\n",
       "<table border=\"1\" class=\"dataframe\">\n",
       "  <thead>\n",
       "    <tr style=\"text-align: right;\">\n",
       "      <th></th>\n",
       "      <th>MONTH_ID</th>\n",
       "      <th>USER_ID</th>\n",
       "      <th>INNET_MONTH</th>\n",
       "      <th>IS_AGREE</th>\n",
       "      <th>AGREE_EXP_DATE</th>\n",
       "      <th>CREDIT_LEVEL</th>\n",
       "      <th>VIP_LVL</th>\n",
       "      <th>ACCT_FEE</th>\n",
       "      <th>CALL_DURA</th>\n",
       "      <th>NO_ROAM_LOCAL_CALL_DURA</th>\n",
       "      <th>...</th>\n",
       "      <th>CALLING_RING</th>\n",
       "      <th>CALLED_RING</th>\n",
       "      <th>CUST_SEX</th>\n",
       "      <th>CERT_AGE</th>\n",
       "      <th>CONSTELLATION_DESC</th>\n",
       "      <th>MANU_NAME</th>\n",
       "      <th>MODEL_NAME</th>\n",
       "      <th>OS_DESC</th>\n",
       "      <th>TERM_TYPE</th>\n",
       "      <th>IS_LOST</th>\n",
       "    </tr>\n",
       "  </thead>\n",
       "  <tbody>\n",
       "    <tr>\n",
       "      <th>0</th>\n",
       "      <td>201601</td>\n",
       "      <td>U3115092040504266</td>\n",
       "      <td>62</td>\n",
       "      <td>1</td>\n",
       "      <td>201609.0</td>\n",
       "      <td>65</td>\n",
       "      <td>99.0</td>\n",
       "      <td>84.95</td>\n",
       "      <td>36891</td>\n",
       "      <td>2699</td>\n",
       "      <td>...</td>\n",
       "      <td>48</td>\n",
       "      <td>64</td>\n",
       "      <td>1.0</td>\n",
       "      <td>29.0</td>\n",
       "      <td>射手座</td>\n",
       "      <td>赫比</td>\n",
       "      <td>YD206</td>\n",
       "      <td>ANDROID 4.4.3</td>\n",
       "      <td>4</td>\n",
       "      <td>NaN</td>\n",
       "    </tr>\n",
       "    <tr>\n",
       "      <th>1</th>\n",
       "      <td>201601</td>\n",
       "      <td>U3115090138635105</td>\n",
       "      <td>5</td>\n",
       "      <td>1</td>\n",
       "      <td>201609.0</td>\n",
       "      <td>66</td>\n",
       "      <td>NaN</td>\n",
       "      <td>251.78</td>\n",
       "      <td>28858</td>\n",
       "      <td>889</td>\n",
       "      <td>...</td>\n",
       "      <td>39</td>\n",
       "      <td>30</td>\n",
       "      <td>1.0</td>\n",
       "      <td>23.0</td>\n",
       "      <td>白羊座</td>\n",
       "      <td>赫比</td>\n",
       "      <td>YD206</td>\n",
       "      <td>ANDROID 4.4.3</td>\n",
       "      <td>4</td>\n",
       "      <td>NaN</td>\n",
       "    </tr>\n",
       "    <tr>\n",
       "      <th>2</th>\n",
       "      <td>201601</td>\n",
       "      <td>U3115062769878916</td>\n",
       "      <td>171</td>\n",
       "      <td>0</td>\n",
       "      <td>NaN</td>\n",
       "      <td>67</td>\n",
       "      <td>99.0</td>\n",
       "      <td>26.00</td>\n",
       "      <td>14838</td>\n",
       "      <td>14812</td>\n",
       "      <td>...</td>\n",
       "      <td>20</td>\n",
       "      <td>66</td>\n",
       "      <td>1.0</td>\n",
       "      <td>38.0</td>\n",
       "      <td>射手座</td>\n",
       "      <td>赫比</td>\n",
       "      <td>YD206</td>\n",
       "      <td>ANDROID 4.4.3</td>\n",
       "      <td>4</td>\n",
       "      <td>NaN</td>\n",
       "    </tr>\n",
       "    <tr>\n",
       "      <th>3</th>\n",
       "      <td>201601</td>\n",
       "      <td>U3115061733263650</td>\n",
       "      <td>8</td>\n",
       "      <td>1</td>\n",
       "      <td>201606.0</td>\n",
       "      <td>66</td>\n",
       "      <td>99.0</td>\n",
       "      <td>139.30</td>\n",
       "      <td>11144</td>\n",
       "      <td>0</td>\n",
       "      <td>...</td>\n",
       "      <td>27</td>\n",
       "      <td>31</td>\n",
       "      <td>2.0</td>\n",
       "      <td>23.0</td>\n",
       "      <td>天蝎座</td>\n",
       "      <td>赫比</td>\n",
       "      <td>YD206</td>\n",
       "      <td>ANDROID 4.4.3</td>\n",
       "      <td>4</td>\n",
       "      <td>NaN</td>\n",
       "    </tr>\n",
       "    <tr>\n",
       "      <th>4</th>\n",
       "      <td>201601</td>\n",
       "      <td>U3115060569699130</td>\n",
       "      <td>8</td>\n",
       "      <td>0</td>\n",
       "      <td>NaN</td>\n",
       "      <td>67</td>\n",
       "      <td>99.0</td>\n",
       "      <td>31.95</td>\n",
       "      <td>5528</td>\n",
       "      <td>5528</td>\n",
       "      <td>...</td>\n",
       "      <td>9</td>\n",
       "      <td>13</td>\n",
       "      <td>2.0</td>\n",
       "      <td>33.0</td>\n",
       "      <td>双子座</td>\n",
       "      <td>赫比</td>\n",
       "      <td>YD206</td>\n",
       "      <td>ANDROID 4.4.3</td>\n",
       "      <td>4</td>\n",
       "      <td>NaN</td>\n",
       "    </tr>\n",
       "  </tbody>\n",
       "</table>\n",
       "<p>5 rows × 35 columns</p>\n",
       "</div>"
      ],
      "text/plain": [
       "   MONTH_ID            USER_ID  INNET_MONTH  IS_AGREE  AGREE_EXP_DATE  \\\n",
       "0    201601  U3115092040504266           62         1        201609.0   \n",
       "1    201601  U3115090138635105            5         1        201609.0   \n",
       "2    201601  U3115062769878916          171         0             NaN   \n",
       "3    201601  U3115061733263650            8         1        201606.0   \n",
       "4    201601  U3115060569699130            8         0             NaN   \n",
       "\n",
       "   CREDIT_LEVEL  VIP_LVL  ACCT_FEE  CALL_DURA  NO_ROAM_LOCAL_CALL_DURA  ...  \\\n",
       "0            65     99.0     84.95      36891                     2699  ...   \n",
       "1            66      NaN    251.78      28858                      889  ...   \n",
       "2            67     99.0     26.00      14838                    14812  ...   \n",
       "3            66     99.0    139.30      11144                        0  ...   \n",
       "4            67     99.0     31.95       5528                     5528  ...   \n",
       "\n",
       "   CALLING_RING  CALLED_RING  CUST_SEX  CERT_AGE  CONSTELLATION_DESC  \\\n",
       "0            48           64       1.0      29.0                 射手座   \n",
       "1            39           30       1.0      23.0                 白羊座   \n",
       "2            20           66       1.0      38.0                 射手座   \n",
       "3            27           31       2.0      23.0                 天蝎座   \n",
       "4             9           13       2.0      33.0                 双子座   \n",
       "\n",
       "   MANU_NAME  MODEL_NAME        OS_DESC  TERM_TYPE  IS_LOST  \n",
       "0         赫比       YD206  ANDROID 4.4.3          4      NaN  \n",
       "1         赫比       YD206  ANDROID 4.4.3          4      NaN  \n",
       "2         赫比       YD206  ANDROID 4.4.3          4      NaN  \n",
       "3         赫比       YD206  ANDROID 4.4.3          4      NaN  \n",
       "4         赫比       YD206  ANDROID 4.4.3          4      NaN  \n",
       "\n",
       "[5 rows x 35 columns]"
      ]
     },
     "execution_count": 2,
     "metadata": {},
     "output_type": "execute_result"
    }
   ],
   "source": [
    "data = pd.read_csv('./data/USER_INFO_M.csv', encoding='gbk')\n",
    "print(data.shape)\n",
    "data.head()"
   ]
  },
  {
   "cell_type": "code",
   "execution_count": 3,
   "metadata": {
    "hidden": true
   },
   "outputs": [
    {
     "data": {
      "text/plain": [
       "False    899904\n",
       "True         96\n",
       "dtype: int64"
      ]
     },
     "execution_count": 3,
     "metadata": {},
     "output_type": "execute_result"
    }
   ],
   "source": [
    "# 重复值   ===> 去重\n",
    "data.duplicated().value_counts()"
   ]
  },
  {
   "cell_type": "code",
   "execution_count": 4,
   "metadata": {
    "hidden": true
   },
   "outputs": [
    {
     "data": {
      "text/html": [
       "<div>\n",
       "<style scoped>\n",
       "    .dataframe tbody tr th:only-of-type {\n",
       "        vertical-align: middle;\n",
       "    }\n",
       "\n",
       "    .dataframe tbody tr th {\n",
       "        vertical-align: top;\n",
       "    }\n",
       "\n",
       "    .dataframe thead th {\n",
       "        text-align: right;\n",
       "    }\n",
       "</style>\n",
       "<table border=\"1\" class=\"dataframe\">\n",
       "  <thead>\n",
       "    <tr style=\"text-align: right;\">\n",
       "      <th></th>\n",
       "      <th>count</th>\n",
       "      <th>mean</th>\n",
       "      <th>std</th>\n",
       "      <th>min</th>\n",
       "      <th>25%</th>\n",
       "      <th>50%</th>\n",
       "      <th>75%</th>\n",
       "      <th>max</th>\n",
       "    </tr>\n",
       "  </thead>\n",
       "  <tbody>\n",
       "    <tr>\n",
       "      <th>MONTH_ID</th>\n",
       "      <td>900000.0</td>\n",
       "      <td>201602.000601</td>\n",
       "      <td>0.816549</td>\n",
       "      <td>201601.00</td>\n",
       "      <td>201601.000000</td>\n",
       "      <td>201602.000000</td>\n",
       "      <td>201603.000000</td>\n",
       "      <td>2.016030e+05</td>\n",
       "    </tr>\n",
       "    <tr>\n",
       "      <th>INNET_MONTH</th>\n",
       "      <td>900000.0</td>\n",
       "      <td>34.506348</td>\n",
       "      <td>34.231761</td>\n",
       "      <td>-251.00</td>\n",
       "      <td>10.000000</td>\n",
       "      <td>24.000000</td>\n",
       "      <td>49.000000</td>\n",
       "      <td>2.490000e+02</td>\n",
       "    </tr>\n",
       "    <tr>\n",
       "      <th>IS_AGREE</th>\n",
       "      <td>900000.0</td>\n",
       "      <td>0.510372</td>\n",
       "      <td>0.499893</td>\n",
       "      <td>0.00</td>\n",
       "      <td>0.000000</td>\n",
       "      <td>1.000000</td>\n",
       "      <td>1.000000</td>\n",
       "      <td>1.000000e+00</td>\n",
       "    </tr>\n",
       "    <tr>\n",
       "      <th>AGREE_EXP_DATE</th>\n",
       "      <td>459335.0</td>\n",
       "      <td>201646.870680</td>\n",
       "      <td>75.167367</td>\n",
       "      <td>201601.00</td>\n",
       "      <td>201606.000000</td>\n",
       "      <td>201610.000000</td>\n",
       "      <td>201703.000000</td>\n",
       "      <td>2.050120e+05</td>\n",
       "    </tr>\n",
       "    <tr>\n",
       "      <th>CREDIT_LEVEL</th>\n",
       "      <td>900000.0</td>\n",
       "      <td>66.016860</td>\n",
       "      <td>0.958600</td>\n",
       "      <td>0.00</td>\n",
       "      <td>65.000000</td>\n",
       "      <td>66.000000</td>\n",
       "      <td>67.000000</td>\n",
       "      <td>6.700000e+01</td>\n",
       "    </tr>\n",
       "    <tr>\n",
       "      <th>VIP_LVL</th>\n",
       "      <td>588717.0</td>\n",
       "      <td>80.084567</td>\n",
       "      <td>37.983347</td>\n",
       "      <td>2.00</td>\n",
       "      <td>99.000000</td>\n",
       "      <td>99.000000</td>\n",
       "      <td>99.000000</td>\n",
       "      <td>9.900000e+01</td>\n",
       "    </tr>\n",
       "    <tr>\n",
       "      <th>ACCT_FEE</th>\n",
       "      <td>900000.0</td>\n",
       "      <td>118.587759</td>\n",
       "      <td>167.786270</td>\n",
       "      <td>0.01</td>\n",
       "      <td>54.807500</td>\n",
       "      <td>86.000000</td>\n",
       "      <td>143.550000</td>\n",
       "      <td>6.500721e+04</td>\n",
       "    </tr>\n",
       "    <tr>\n",
       "      <th>CALL_DURA</th>\n",
       "      <td>900000.0</td>\n",
       "      <td>21880.720647</td>\n",
       "      <td>25492.145239</td>\n",
       "      <td>1.00</td>\n",
       "      <td>5729.000000</td>\n",
       "      <td>14097.000000</td>\n",
       "      <td>28703.000000</td>\n",
       "      <td>1.333863e+06</td>\n",
       "    </tr>\n",
       "    <tr>\n",
       "      <th>NO_ROAM_LOCAL_CALL_DURA</th>\n",
       "      <td>900000.0</td>\n",
       "      <td>12828.793494</td>\n",
       "      <td>18234.072608</td>\n",
       "      <td>0.00</td>\n",
       "      <td>1599.000000</td>\n",
       "      <td>6629.000000</td>\n",
       "      <td>16735.000000</td>\n",
       "      <td>1.333863e+06</td>\n",
       "    </tr>\n",
       "    <tr>\n",
       "      <th>NO_ROAM_GN_LONG_CALL_DURA</th>\n",
       "      <td>900000.0</td>\n",
       "      <td>3517.969780</td>\n",
       "      <td>6687.748777</td>\n",
       "      <td>0.00</td>\n",
       "      <td>0.000000</td>\n",
       "      <td>914.000000</td>\n",
       "      <td>4292.000000</td>\n",
       "      <td>2.934830e+05</td>\n",
       "    </tr>\n",
       "    <tr>\n",
       "      <th>GN_ROAM_CALL_DURA</th>\n",
       "      <td>900000.0</td>\n",
       "      <td>5466.948448</td>\n",
       "      <td>13525.894381</td>\n",
       "      <td>0.00</td>\n",
       "      <td>0.000000</td>\n",
       "      <td>219.000000</td>\n",
       "      <td>4607.000000</td>\n",
       "      <td>5.124480e+05</td>\n",
       "    </tr>\n",
       "    <tr>\n",
       "      <th>CDR_NUM</th>\n",
       "      <td>900000.0</td>\n",
       "      <td>186.351040</td>\n",
       "      <td>216.452668</td>\n",
       "      <td>1.00</td>\n",
       "      <td>55.000000</td>\n",
       "      <td>121.000000</td>\n",
       "      <td>237.000000</td>\n",
       "      <td>6.342000e+03</td>\n",
       "    </tr>\n",
       "    <tr>\n",
       "      <th>NO_ROAM_CDR_NUM</th>\n",
       "      <td>900000.0</td>\n",
       "      <td>139.679884</td>\n",
       "      <td>192.606374</td>\n",
       "      <td>0.00</td>\n",
       "      <td>24.000000</td>\n",
       "      <td>80.000000</td>\n",
       "      <td>179.000000</td>\n",
       "      <td>5.706000e+03</td>\n",
       "    </tr>\n",
       "    <tr>\n",
       "      <th>NO_ROAM_LOCAL_CDR_NUM</th>\n",
       "      <td>900000.0</td>\n",
       "      <td>123.664702</td>\n",
       "      <td>175.892314</td>\n",
       "      <td>0.00</td>\n",
       "      <td>19.000000</td>\n",
       "      <td>68.000000</td>\n",
       "      <td>157.000000</td>\n",
       "      <td>5.446000e+03</td>\n",
       "    </tr>\n",
       "    <tr>\n",
       "      <th>NO_ROAM_GN_LONG_CDR_NUM</th>\n",
       "      <td>900000.0</td>\n",
       "      <td>15.885314</td>\n",
       "      <td>30.682639</td>\n",
       "      <td>0.00</td>\n",
       "      <td>0.000000</td>\n",
       "      <td>6.000000</td>\n",
       "      <td>20.000000</td>\n",
       "      <td>3.399000e+03</td>\n",
       "    </tr>\n",
       "    <tr>\n",
       "      <th>GN_ROAM_CDR_NUM</th>\n",
       "      <td>900000.0</td>\n",
       "      <td>46.429790</td>\n",
       "      <td>107.815637</td>\n",
       "      <td>0.00</td>\n",
       "      <td>0.000000</td>\n",
       "      <td>4.000000</td>\n",
       "      <td>46.000000</td>\n",
       "      <td>6.246000e+03</td>\n",
       "    </tr>\n",
       "    <tr>\n",
       "      <th>P2P_SMS_CNT_UP</th>\n",
       "      <td>900000.0</td>\n",
       "      <td>21.573623</td>\n",
       "      <td>56.511283</td>\n",
       "      <td>0.00</td>\n",
       "      <td>1.000000</td>\n",
       "      <td>6.000000</td>\n",
       "      <td>21.000000</td>\n",
       "      <td>8.119000e+03</td>\n",
       "    </tr>\n",
       "    <tr>\n",
       "      <th>TOTAL_FLUX</th>\n",
       "      <td>900000.0</td>\n",
       "      <td>1108.008260</td>\n",
       "      <td>2022.863517</td>\n",
       "      <td>0.00</td>\n",
       "      <td>194.102608</td>\n",
       "      <td>604.549763</td>\n",
       "      <td>1308.265652</td>\n",
       "      <td>4.813631e+05</td>\n",
       "    </tr>\n",
       "    <tr>\n",
       "      <th>LOCAL_FLUX</th>\n",
       "      <td>900000.0</td>\n",
       "      <td>783.079195</td>\n",
       "      <td>1709.987652</td>\n",
       "      <td>0.00</td>\n",
       "      <td>42.024210</td>\n",
       "      <td>356.596526</td>\n",
       "      <td>934.149431</td>\n",
       "      <td>4.813589e+05</td>\n",
       "    </tr>\n",
       "    <tr>\n",
       "      <th>GN_ROAM_FLUX</th>\n",
       "      <td>900000.0</td>\n",
       "      <td>323.103178</td>\n",
       "      <td>1007.337758</td>\n",
       "      <td>0.00</td>\n",
       "      <td>0.000000</td>\n",
       "      <td>11.514612</td>\n",
       "      <td>273.864657</td>\n",
       "      <td>7.419287e+04</td>\n",
       "    </tr>\n",
       "    <tr>\n",
       "      <th>CALL_DAYS</th>\n",
       "      <td>900000.0</td>\n",
       "      <td>23.419233</td>\n",
       "      <td>8.082977</td>\n",
       "      <td>1.00</td>\n",
       "      <td>19.000000</td>\n",
       "      <td>27.000000</td>\n",
       "      <td>29.000000</td>\n",
       "      <td>3.100000e+01</td>\n",
       "    </tr>\n",
       "    <tr>\n",
       "      <th>CALLING_DAYS</th>\n",
       "      <td>900000.0</td>\n",
       "      <td>19.260233</td>\n",
       "      <td>8.950069</td>\n",
       "      <td>0.00</td>\n",
       "      <td>13.000000</td>\n",
       "      <td>21.000000</td>\n",
       "      <td>27.000000</td>\n",
       "      <td>3.100000e+01</td>\n",
       "    </tr>\n",
       "    <tr>\n",
       "      <th>CALLED_DAYS</th>\n",
       "      <td>900000.0</td>\n",
       "      <td>20.005326</td>\n",
       "      <td>9.003920</td>\n",
       "      <td>0.00</td>\n",
       "      <td>14.000000</td>\n",
       "      <td>22.000000</td>\n",
       "      <td>28.000000</td>\n",
       "      <td>3.100000e+01</td>\n",
       "    </tr>\n",
       "    <tr>\n",
       "      <th>CALL_RING</th>\n",
       "      <td>900000.0</td>\n",
       "      <td>47.649570</td>\n",
       "      <td>56.115391</td>\n",
       "      <td>1.00</td>\n",
       "      <td>16.000000</td>\n",
       "      <td>32.000000</td>\n",
       "      <td>61.000000</td>\n",
       "      <td>4.419000e+03</td>\n",
       "    </tr>\n",
       "    <tr>\n",
       "      <th>CALLING_RING</th>\n",
       "      <td>900000.0</td>\n",
       "      <td>29.049902</td>\n",
       "      <td>40.153907</td>\n",
       "      <td>0.00</td>\n",
       "      <td>9.000000</td>\n",
       "      <td>19.000000</td>\n",
       "      <td>36.000000</td>\n",
       "      <td>4.367000e+03</td>\n",
       "    </tr>\n",
       "    <tr>\n",
       "      <th>CALLED_RING</th>\n",
       "      <td>900000.0</td>\n",
       "      <td>31.714017</td>\n",
       "      <td>35.399154</td>\n",
       "      <td>0.00</td>\n",
       "      <td>10.000000</td>\n",
       "      <td>21.000000</td>\n",
       "      <td>41.000000</td>\n",
       "      <td>1.978000e+03</td>\n",
       "    </tr>\n",
       "    <tr>\n",
       "      <th>CUST_SEX</th>\n",
       "      <td>865713.0</td>\n",
       "      <td>1.329849</td>\n",
       "      <td>0.470159</td>\n",
       "      <td>1.00</td>\n",
       "      <td>1.000000</td>\n",
       "      <td>1.000000</td>\n",
       "      <td>2.000000</td>\n",
       "      <td>2.000000e+00</td>\n",
       "    </tr>\n",
       "    <tr>\n",
       "      <th>CERT_AGE</th>\n",
       "      <td>865029.0</td>\n",
       "      <td>32.944663</td>\n",
       "      <td>10.073679</td>\n",
       "      <td>6.00</td>\n",
       "      <td>26.000000</td>\n",
       "      <td>31.000000</td>\n",
       "      <td>38.000000</td>\n",
       "      <td>9.300000e+01</td>\n",
       "    </tr>\n",
       "    <tr>\n",
       "      <th>TERM_TYPE</th>\n",
       "      <td>900000.0</td>\n",
       "      <td>3.737976</td>\n",
       "      <td>0.494628</td>\n",
       "      <td>2.00</td>\n",
       "      <td>4.000000</td>\n",
       "      <td>4.000000</td>\n",
       "      <td>4.000000</td>\n",
       "      <td>4.000000e+00</td>\n",
       "    </tr>\n",
       "    <tr>\n",
       "      <th>IS_LOST</th>\n",
       "      <td>300309.0</td>\n",
       "      <td>0.032343</td>\n",
       "      <td>0.176911</td>\n",
       "      <td>0.00</td>\n",
       "      <td>0.000000</td>\n",
       "      <td>0.000000</td>\n",
       "      <td>0.000000</td>\n",
       "      <td>1.000000e+00</td>\n",
       "    </tr>\n",
       "  </tbody>\n",
       "</table>\n",
       "</div>"
      ],
      "text/plain": [
       "                              count           mean           std        min  \\\n",
       "MONTH_ID                   900000.0  201602.000601      0.816549  201601.00   \n",
       "INNET_MONTH                900000.0      34.506348     34.231761    -251.00   \n",
       "IS_AGREE                   900000.0       0.510372      0.499893       0.00   \n",
       "AGREE_EXP_DATE             459335.0  201646.870680     75.167367  201601.00   \n",
       "CREDIT_LEVEL               900000.0      66.016860      0.958600       0.00   \n",
       "VIP_LVL                    588717.0      80.084567     37.983347       2.00   \n",
       "ACCT_FEE                   900000.0     118.587759    167.786270       0.01   \n",
       "CALL_DURA                  900000.0   21880.720647  25492.145239       1.00   \n",
       "NO_ROAM_LOCAL_CALL_DURA    900000.0   12828.793494  18234.072608       0.00   \n",
       "NO_ROAM_GN_LONG_CALL_DURA  900000.0    3517.969780   6687.748777       0.00   \n",
       "GN_ROAM_CALL_DURA          900000.0    5466.948448  13525.894381       0.00   \n",
       "CDR_NUM                    900000.0     186.351040    216.452668       1.00   \n",
       "NO_ROAM_CDR_NUM            900000.0     139.679884    192.606374       0.00   \n",
       "NO_ROAM_LOCAL_CDR_NUM      900000.0     123.664702    175.892314       0.00   \n",
       "NO_ROAM_GN_LONG_CDR_NUM    900000.0      15.885314     30.682639       0.00   \n",
       "GN_ROAM_CDR_NUM            900000.0      46.429790    107.815637       0.00   \n",
       "P2P_SMS_CNT_UP             900000.0      21.573623     56.511283       0.00   \n",
       "TOTAL_FLUX                 900000.0    1108.008260   2022.863517       0.00   \n",
       "LOCAL_FLUX                 900000.0     783.079195   1709.987652       0.00   \n",
       "GN_ROAM_FLUX               900000.0     323.103178   1007.337758       0.00   \n",
       "CALL_DAYS                  900000.0      23.419233      8.082977       1.00   \n",
       "CALLING_DAYS               900000.0      19.260233      8.950069       0.00   \n",
       "CALLED_DAYS                900000.0      20.005326      9.003920       0.00   \n",
       "CALL_RING                  900000.0      47.649570     56.115391       1.00   \n",
       "CALLING_RING               900000.0      29.049902     40.153907       0.00   \n",
       "CALLED_RING                900000.0      31.714017     35.399154       0.00   \n",
       "CUST_SEX                   865713.0       1.329849      0.470159       1.00   \n",
       "CERT_AGE                   865029.0      32.944663     10.073679       6.00   \n",
       "TERM_TYPE                  900000.0       3.737976      0.494628       2.00   \n",
       "IS_LOST                    300309.0       0.032343      0.176911       0.00   \n",
       "\n",
       "                                     25%            50%            75%  \\\n",
       "MONTH_ID                   201601.000000  201602.000000  201603.000000   \n",
       "INNET_MONTH                    10.000000      24.000000      49.000000   \n",
       "IS_AGREE                        0.000000       1.000000       1.000000   \n",
       "AGREE_EXP_DATE             201606.000000  201610.000000  201703.000000   \n",
       "CREDIT_LEVEL                   65.000000      66.000000      67.000000   \n",
       "VIP_LVL                        99.000000      99.000000      99.000000   \n",
       "ACCT_FEE                       54.807500      86.000000     143.550000   \n",
       "CALL_DURA                    5729.000000   14097.000000   28703.000000   \n",
       "NO_ROAM_LOCAL_CALL_DURA      1599.000000    6629.000000   16735.000000   \n",
       "NO_ROAM_GN_LONG_CALL_DURA       0.000000     914.000000    4292.000000   \n",
       "GN_ROAM_CALL_DURA               0.000000     219.000000    4607.000000   \n",
       "CDR_NUM                        55.000000     121.000000     237.000000   \n",
       "NO_ROAM_CDR_NUM                24.000000      80.000000     179.000000   \n",
       "NO_ROAM_LOCAL_CDR_NUM          19.000000      68.000000     157.000000   \n",
       "NO_ROAM_GN_LONG_CDR_NUM         0.000000       6.000000      20.000000   \n",
       "GN_ROAM_CDR_NUM                 0.000000       4.000000      46.000000   \n",
       "P2P_SMS_CNT_UP                  1.000000       6.000000      21.000000   \n",
       "TOTAL_FLUX                    194.102608     604.549763    1308.265652   \n",
       "LOCAL_FLUX                     42.024210     356.596526     934.149431   \n",
       "GN_ROAM_FLUX                    0.000000      11.514612     273.864657   \n",
       "CALL_DAYS                      19.000000      27.000000      29.000000   \n",
       "CALLING_DAYS                   13.000000      21.000000      27.000000   \n",
       "CALLED_DAYS                    14.000000      22.000000      28.000000   \n",
       "CALL_RING                      16.000000      32.000000      61.000000   \n",
       "CALLING_RING                    9.000000      19.000000      36.000000   \n",
       "CALLED_RING                    10.000000      21.000000      41.000000   \n",
       "CUST_SEX                        1.000000       1.000000       2.000000   \n",
       "CERT_AGE                       26.000000      31.000000      38.000000   \n",
       "TERM_TYPE                       4.000000       4.000000       4.000000   \n",
       "IS_LOST                         0.000000       0.000000       0.000000   \n",
       "\n",
       "                                    max  \n",
       "MONTH_ID                   2.016030e+05  \n",
       "INNET_MONTH                2.490000e+02  \n",
       "IS_AGREE                   1.000000e+00  \n",
       "AGREE_EXP_DATE             2.050120e+05  \n",
       "CREDIT_LEVEL               6.700000e+01  \n",
       "VIP_LVL                    9.900000e+01  \n",
       "ACCT_FEE                   6.500721e+04  \n",
       "CALL_DURA                  1.333863e+06  \n",
       "NO_ROAM_LOCAL_CALL_DURA    1.333863e+06  \n",
       "NO_ROAM_GN_LONG_CALL_DURA  2.934830e+05  \n",
       "GN_ROAM_CALL_DURA          5.124480e+05  \n",
       "CDR_NUM                    6.342000e+03  \n",
       "NO_ROAM_CDR_NUM            5.706000e+03  \n",
       "NO_ROAM_LOCAL_CDR_NUM      5.446000e+03  \n",
       "NO_ROAM_GN_LONG_CDR_NUM    3.399000e+03  \n",
       "GN_ROAM_CDR_NUM            6.246000e+03  \n",
       "P2P_SMS_CNT_UP             8.119000e+03  \n",
       "TOTAL_FLUX                 4.813631e+05  \n",
       "LOCAL_FLUX                 4.813589e+05  \n",
       "GN_ROAM_FLUX               7.419287e+04  \n",
       "CALL_DAYS                  3.100000e+01  \n",
       "CALLING_DAYS               3.100000e+01  \n",
       "CALLED_DAYS                3.100000e+01  \n",
       "CALL_RING                  4.419000e+03  \n",
       "CALLING_RING               4.367000e+03  \n",
       "CALLED_RING                1.978000e+03  \n",
       "CUST_SEX                   2.000000e+00  \n",
       "CERT_AGE                   9.300000e+01  \n",
       "TERM_TYPE                  4.000000e+00  \n",
       "IS_LOST                    1.000000e+00  "
      ]
     },
     "execution_count": 4,
     "metadata": {},
     "output_type": "execute_result"
    }
   ],
   "source": [
    "data.describe().T"
   ]
  },
  {
   "cell_type": "code",
   "execution_count": 5,
   "metadata": {
    "hidden": true
   },
   "outputs": [
    {
     "data": {
      "text/plain": [
       "1    459335\n",
       "0    440665\n",
       "Name: IS_AGREE, dtype: int64"
      ]
     },
     "execution_count": 5,
     "metadata": {},
     "output_type": "execute_result"
    }
   ],
   "source": [
    "data['IS_AGREE'].value_counts()"
   ]
  },
  {
   "cell_type": "code",
   "execution_count": 6,
   "metadata": {
    "hidden": true
   },
   "outputs": [
    {
     "data": {
      "text/plain": [
       "Index(['MONTH_ID', 'USER_ID', 'INNET_MONTH', 'IS_AGREE', 'AGREE_EXP_DATE',\n",
       "       'CREDIT_LEVEL', 'VIP_LVL', 'ACCT_FEE', 'CALL_DURA',\n",
       "       'NO_ROAM_LOCAL_CALL_DURA', 'NO_ROAM_GN_LONG_CALL_DURA',\n",
       "       'GN_ROAM_CALL_DURA', 'CDR_NUM', 'NO_ROAM_CDR_NUM',\n",
       "       'NO_ROAM_LOCAL_CDR_NUM', 'NO_ROAM_GN_LONG_CDR_NUM', 'GN_ROAM_CDR_NUM',\n",
       "       'P2P_SMS_CNT_UP', 'TOTAL_FLUX', 'LOCAL_FLUX', 'GN_ROAM_FLUX',\n",
       "       'CALL_DAYS', 'CALLING_DAYS', 'CALLED_DAYS', 'CALL_RING', 'CALLING_RING',\n",
       "       'CALLED_RING', 'CUST_SEX', 'CERT_AGE', 'CONSTELLATION_DESC',\n",
       "       'MANU_NAME', 'MODEL_NAME', 'OS_DESC', 'TERM_TYPE', 'IS_LOST'],\n",
       "      dtype='object')"
      ]
     },
     "execution_count": 6,
     "metadata": {},
     "output_type": "execute_result"
    }
   ],
   "source": [
    "data.columns"
   ]
  },
  {
   "cell_type": "code",
   "execution_count": 7,
   "metadata": {
    "hidden": true
   },
   "outputs": [
    {
     "data": {
      "text/html": [
       "<div>\n",
       "<style scoped>\n",
       "    .dataframe tbody tr th:only-of-type {\n",
       "        vertical-align: middle;\n",
       "    }\n",
       "\n",
       "    .dataframe tbody tr th {\n",
       "        vertical-align: top;\n",
       "    }\n",
       "\n",
       "    .dataframe thead th {\n",
       "        text-align: right;\n",
       "    }\n",
       "</style>\n",
       "<table border=\"1\" class=\"dataframe\">\n",
       "  <thead>\n",
       "    <tr style=\"text-align: right;\">\n",
       "      <th></th>\n",
       "      <th>USER_ID</th>\n",
       "      <th>CONSTELLATION_DESC</th>\n",
       "      <th>MANU_NAME</th>\n",
       "      <th>MODEL_NAME</th>\n",
       "      <th>OS_DESC</th>\n",
       "    </tr>\n",
       "  </thead>\n",
       "  <tbody>\n",
       "    <tr>\n",
       "      <th>count</th>\n",
       "      <td>900000</td>\n",
       "      <td>865029</td>\n",
       "      <td>899998</td>\n",
       "      <td>900000</td>\n",
       "      <td>861806</td>\n",
       "    </tr>\n",
       "    <tr>\n",
       "      <th>unique</th>\n",
       "      <td>299968</td>\n",
       "      <td>12</td>\n",
       "      <td>681</td>\n",
       "      <td>6751</td>\n",
       "      <td>49</td>\n",
       "    </tr>\n",
       "    <tr>\n",
       "      <th>top</th>\n",
       "      <td>U3116013103546397</td>\n",
       "      <td>天秤座</td>\n",
       "      <td>苹果</td>\n",
       "      <td>A1586</td>\n",
       "      <td>IOS 8.0</td>\n",
       "    </tr>\n",
       "    <tr>\n",
       "      <th>freq</th>\n",
       "      <td>6</td>\n",
       "      <td>88479</td>\n",
       "      <td>437239</td>\n",
       "      <td>115125</td>\n",
       "      <td>202538</td>\n",
       "    </tr>\n",
       "  </tbody>\n",
       "</table>\n",
       "</div>"
      ],
      "text/plain": [
       "                  USER_ID CONSTELLATION_DESC MANU_NAME MODEL_NAME  OS_DESC\n",
       "count              900000             865029    899998     900000   861806\n",
       "unique             299968                 12       681       6751       49\n",
       "top     U3116013103546397                天秤座        苹果      A1586  IOS 8.0\n",
       "freq                    6              88479    437239     115125   202538"
      ]
     },
     "execution_count": 7,
     "metadata": {},
     "output_type": "execute_result"
    }
   ],
   "source": [
    "data[['USER_ID', 'CONSTELLATION_DESC', 'MANU_NAME', 'MODEL_NAME', 'OS_DESC']].describe()"
   ]
  },
  {
   "cell_type": "markdown",
   "metadata": {
    "heading_collapsed": true
   },
   "source": [
    "# 数据预处理"
   ]
  },
  {
   "cell_type": "code",
   "execution_count": 8,
   "metadata": {
    "hidden": true
   },
   "outputs": [],
   "source": [
    "data = pd.read_csv('./data/USER_INFO_M.csv', encoding='gbk')"
   ]
  },
  {
   "cell_type": "markdown",
   "metadata": {
    "heading_collapsed": true,
    "hidden": true
   },
   "source": [
    "## 重复数据处理"
   ]
  },
  {
   "cell_type": "code",
   "execution_count": 9,
   "metadata": {
    "hidden": true
   },
   "outputs": [],
   "source": [
    "data_drop = data.drop_duplicates()"
   ]
  },
  {
   "cell_type": "code",
   "execution_count": 10,
   "metadata": {
    "hidden": true
   },
   "outputs": [
    {
     "name": "stdout",
     "output_type": "stream",
     "text": [
      "(900000, 35)\n",
      "(899904, 35)\n"
     ]
    }
   ],
   "source": [
    "print(data.shape)\n",
    "print(data_drop.shape)"
   ]
  },
  {
   "cell_type": "markdown",
   "metadata": {
    "heading_collapsed": true,
    "hidden": true
   },
   "source": [
    "## 降维"
   ]
  },
  {
   "cell_type": "code",
   "execution_count": 11,
   "metadata": {
    "hidden": true
   },
   "outputs": [
    {
     "name": "stdout",
     "output_type": "stream",
     "text": [
      "(899904, 32)\n"
     ]
    }
   ],
   "source": [
    "data_drop[['MANU_NAME', 'MODEL_NAME', 'OS_DESC']]\n",
    "for i in ['MANU_NAME', 'MODEL_NAME', 'OS_DESC']:\n",
    "    del data_drop[i]\n",
    "print(data_drop.shape)"
   ]
  },
  {
   "cell_type": "markdown",
   "metadata": {
    "heading_collapsed": true,
    "hidden": true
   },
   "source": [
    "## 特征整合"
   ]
  },
  {
   "cell_type": "code",
   "execution_count": 12,
   "metadata": {
    "hidden": true
   },
   "outputs": [],
   "source": [
    "data_gb = data_drop.groupby(['USER_ID'])"
   ]
  },
  {
   "cell_type": "code",
   "execution_count": 13,
   "metadata": {
    "hidden": true
   },
   "outputs": [
    {
     "data": {
      "text/html": [
       "<div>\n",
       "<style scoped>\n",
       "    .dataframe tbody tr th:only-of-type {\n",
       "        vertical-align: middle;\n",
       "    }\n",
       "\n",
       "    .dataframe tbody tr th {\n",
       "        vertical-align: top;\n",
       "    }\n",
       "\n",
       "    .dataframe thead th {\n",
       "        text-align: right;\n",
       "    }\n",
       "</style>\n",
       "<table border=\"1\" class=\"dataframe\">\n",
       "  <thead>\n",
       "    <tr style=\"text-align: right;\">\n",
       "      <th></th>\n",
       "      <th>IS_LOST</th>\n",
       "    </tr>\n",
       "    <tr>\n",
       "      <th>USER_ID</th>\n",
       "      <th></th>\n",
       "    </tr>\n",
       "  </thead>\n",
       "  <tbody>\n",
       "    <tr>\n",
       "      <th>U3116011101365327</th>\n",
       "      <td>0.0</td>\n",
       "    </tr>\n",
       "    <tr>\n",
       "      <th>U3115122549657565</th>\n",
       "      <td>0.0</td>\n",
       "    </tr>\n",
       "    <tr>\n",
       "      <th>U3115122771884179</th>\n",
       "      <td>1.0</td>\n",
       "    </tr>\n",
       "    <tr>\n",
       "      <th>U3115122749792284</th>\n",
       "      <td>0.0</td>\n",
       "    </tr>\n",
       "    <tr>\n",
       "      <th>U3115121571754202</th>\n",
       "      <td>0.0</td>\n",
       "    </tr>\n",
       "    <tr>\n",
       "      <th>...</th>\n",
       "      <td>...</td>\n",
       "    </tr>\n",
       "    <tr>\n",
       "      <th>U3114120767704089</th>\n",
       "      <td>0.0</td>\n",
       "    </tr>\n",
       "    <tr>\n",
       "      <th>U3114090724981212</th>\n",
       "      <td>0.0</td>\n",
       "    </tr>\n",
       "    <tr>\n",
       "      <th>U3114082024818825</th>\n",
       "      <td>0.0</td>\n",
       "    </tr>\n",
       "    <tr>\n",
       "      <th>U3114062124438736</th>\n",
       "      <td>0.0</td>\n",
       "    </tr>\n",
       "    <tr>\n",
       "      <th>U3114051824292743</th>\n",
       "      <td>0.0</td>\n",
       "    </tr>\n",
       "  </tbody>\n",
       "</table>\n",
       "<p>299968 rows × 1 columns</p>\n",
       "</div>"
      ],
      "text/plain": [
       "                   IS_LOST\n",
       "USER_ID                   \n",
       "U3116011101365327      0.0\n",
       "U3115122549657565      0.0\n",
       "U3115122771884179      1.0\n",
       "U3115122749792284      0.0\n",
       "U3115121571754202      0.0\n",
       "...                    ...\n",
       "U3114120767704089      0.0\n",
       "U3114090724981212      0.0\n",
       "U3114082024818825      0.0\n",
       "U3114062124438736      0.0\n",
       "U3114051824292743      0.0\n",
       "\n",
       "[299968 rows x 1 columns]"
      ]
     },
     "execution_count": 13,
     "metadata": {},
     "output_type": "execute_result"
    }
   ],
   "source": [
    "# （0）标签\n",
    "data_label = data_gb[['USER_ID', 'IS_LOST']].tail(n=1)\n",
    "data_label.set_index('USER_ID', inplace=True)\n",
    "data_label"
   ]
  },
  {
   "cell_type": "code",
   "execution_count": 14,
   "metadata": {
    "hidden": true
   },
   "outputs": [],
   "source": [
    "# （1） 用户基本信息\n",
    "data_f1 = data_gb[['CUST_SEX', 'CERT_AGE', 'CONSTELLATION_DESC', 'TERM_TYPE']].first()"
   ]
  },
  {
   "cell_type": "code",
   "execution_count": 15,
   "metadata": {
    "hidden": true
   },
   "outputs": [],
   "source": [
    "# (2) 在网时长\n",
    "data_f2 = data_gb[['USER_ID', 'INNET_MONTH']].tail(n=1)\n",
    "data_f2.set_index('USER_ID', inplace=True)"
   ]
  },
  {
   "cell_type": "code",
   "execution_count": 16,
   "metadata": {
    "hidden": true
   },
   "outputs": [
    {
     "data": {
      "text/html": [
       "<div>\n",
       "<style scoped>\n",
       "    .dataframe tbody tr th:only-of-type {\n",
       "        vertical-align: middle;\n",
       "    }\n",
       "\n",
       "    .dataframe tbody tr th {\n",
       "        vertical-align: top;\n",
       "    }\n",
       "\n",
       "    .dataframe thead th {\n",
       "        text-align: right;\n",
       "    }\n",
       "</style>\n",
       "<table border=\"1\" class=\"dataframe\">\n",
       "  <thead>\n",
       "    <tr style=\"text-align: right;\">\n",
       "      <th></th>\n",
       "      <th>INNET_MONTH</th>\n",
       "    </tr>\n",
       "    <tr>\n",
       "      <th>USER_ID</th>\n",
       "      <th></th>\n",
       "    </tr>\n",
       "  </thead>\n",
       "  <tbody>\n",
       "    <tr>\n",
       "      <th>U3116011101365327</th>\n",
       "      <td>3</td>\n",
       "    </tr>\n",
       "    <tr>\n",
       "      <th>U3115122549657565</th>\n",
       "      <td>4</td>\n",
       "    </tr>\n",
       "    <tr>\n",
       "      <th>U3115122771884179</th>\n",
       "      <td>3</td>\n",
       "    </tr>\n",
       "    <tr>\n",
       "      <th>U3115122749792284</th>\n",
       "      <td>4</td>\n",
       "    </tr>\n",
       "    <tr>\n",
       "      <th>U3115121571754202</th>\n",
       "      <td>4</td>\n",
       "    </tr>\n",
       "  </tbody>\n",
       "</table>\n",
       "</div>"
      ],
      "text/plain": [
       "                   INNET_MONTH\n",
       "USER_ID                       \n",
       "U3116011101365327            3\n",
       "U3115122549657565            4\n",
       "U3115122771884179            3\n",
       "U3115122749792284            4\n",
       "U3115121571754202            4"
      ]
     },
     "execution_count": 16,
     "metadata": {},
     "output_type": "execute_result"
    }
   ],
   "source": [
    "data_f2.head()"
   ]
  },
  {
   "cell_type": "code",
   "execution_count": 17,
   "metadata": {
    "hidden": true
   },
   "outputs": [
    {
     "data": {
      "text/html": [
       "<div>\n",
       "<style scoped>\n",
       "    .dataframe tbody tr th:only-of-type {\n",
       "        vertical-align: middle;\n",
       "    }\n",
       "\n",
       "    .dataframe tbody tr th {\n",
       "        vertical-align: top;\n",
       "    }\n",
       "\n",
       "    .dataframe thead th {\n",
       "        text-align: right;\n",
       "    }\n",
       "</style>\n",
       "<table border=\"1\" class=\"dataframe\">\n",
       "  <thead>\n",
       "    <tr style=\"text-align: right;\">\n",
       "      <th></th>\n",
       "      <th>IS_AGREE</th>\n",
       "    </tr>\n",
       "    <tr>\n",
       "      <th>USER_ID</th>\n",
       "      <th></th>\n",
       "    </tr>\n",
       "  </thead>\n",
       "  <tbody>\n",
       "    <tr>\n",
       "      <th>U3114031824148707</th>\n",
       "      <td>0.0</td>\n",
       "    </tr>\n",
       "    <tr>\n",
       "      <th>U3114031824148874</th>\n",
       "      <td>1.5</td>\n",
       "    </tr>\n",
       "    <tr>\n",
       "      <th>U3114031824148975</th>\n",
       "      <td>1.5</td>\n",
       "    </tr>\n",
       "    <tr>\n",
       "      <th>U3114031824149138</th>\n",
       "      <td>0.0</td>\n",
       "    </tr>\n",
       "    <tr>\n",
       "      <th>U3114031824149150</th>\n",
       "      <td>0.0</td>\n",
       "    </tr>\n",
       "  </tbody>\n",
       "</table>\n",
       "</div>"
      ],
      "text/plain": [
       "                   IS_AGREE\n",
       "USER_ID                    \n",
       "U3114031824148707       0.0\n",
       "U3114031824148874       1.5\n",
       "U3114031824148975       1.5\n",
       "U3114031824149138       0.0\n",
       "U3114031824149150       0.0"
      ]
     },
     "execution_count": 17,
     "metadata": {},
     "output_type": "execute_result"
    }
   ],
   "source": [
    "# (3) 合约是否有效\n",
    "def cal_is_agree(x):\n",
    "    a = np.array(x)\n",
    "    if sum(a) == 3:\n",
    "        return 1.5\n",
    "    else:\n",
    "        return a[2] - np.mean(a[:2])\n",
    "\n",
    "data_f3 = pd.DataFrame(data_gb['IS_AGREE'].apply(cal_is_agree))\n",
    "data_f3.head()"
   ]
  },
  {
   "cell_type": "code",
   "execution_count": 18,
   "metadata": {
    "hidden": true
   },
   "outputs": [],
   "source": [
    "# (4) 合约计划到期时间\n",
    "tmp = data_gb[['USER_ID', 'AGREE_EXP_DATE']].tail(n=1)\n",
    "tmp = tmp.set_index('USER_ID')\n",
    "tmp = (pd.to_datetime(tmp['AGREE_EXP_DATE'], format='%Y%m') - pd.to_datetime('2016-3-1')).dt.days/30\n",
    "data_f4 = pd.DataFrame(tmp.fillna(-1), dtype=int)"
   ]
  },
  {
   "cell_type": "code",
   "execution_count": 19,
   "metadata": {
    "hidden": true
   },
   "outputs": [],
   "source": [
    "# （5） 信用等级\n",
    "data_f5 = data_gb[['USER_ID', 'CREDIT_LEVEL']].mean()"
   ]
  },
  {
   "cell_type": "code",
   "execution_count": 20,
   "metadata": {
    "hidden": true
   },
   "outputs": [
    {
     "data": {
      "text/html": [
       "<div>\n",
       "<style scoped>\n",
       "    .dataframe tbody tr th:only-of-type {\n",
       "        vertical-align: middle;\n",
       "    }\n",
       "\n",
       "    .dataframe tbody tr th {\n",
       "        vertical-align: top;\n",
       "    }\n",
       "\n",
       "    .dataframe thead th {\n",
       "        text-align: right;\n",
       "    }\n",
       "</style>\n",
       "<table border=\"1\" class=\"dataframe\">\n",
       "  <thead>\n",
       "    <tr style=\"text-align: right;\">\n",
       "      <th></th>\n",
       "      <th>VIP_LVL</th>\n",
       "    </tr>\n",
       "    <tr>\n",
       "      <th>USER_ID</th>\n",
       "      <th></th>\n",
       "    </tr>\n",
       "  </thead>\n",
       "  <tbody>\n",
       "    <tr>\n",
       "      <th>U3114031824148707</th>\n",
       "      <td>99.0</td>\n",
       "    </tr>\n",
       "    <tr>\n",
       "      <th>U3114031824148874</th>\n",
       "      <td>99.0</td>\n",
       "    </tr>\n",
       "    <tr>\n",
       "      <th>U3114031824148975</th>\n",
       "      <td>99.0</td>\n",
       "    </tr>\n",
       "    <tr>\n",
       "      <th>U3114031824149138</th>\n",
       "      <td>99.0</td>\n",
       "    </tr>\n",
       "    <tr>\n",
       "      <th>U3114031824149150</th>\n",
       "      <td>99.0</td>\n",
       "    </tr>\n",
       "  </tbody>\n",
       "</table>\n",
       "</div>"
      ],
      "text/plain": [
       "                   VIP_LVL\n",
       "USER_ID                   \n",
       "U3114031824148707     99.0\n",
       "U3114031824148874     99.0\n",
       "U3114031824148975     99.0\n",
       "U3114031824149138     99.0\n",
       "U3114031824149150     99.0"
      ]
     },
     "execution_count": 20,
     "metadata": {},
     "output_type": "execute_result"
    }
   ],
   "source": [
    "# （6） VIP等级\n",
    "def cal_vip_lvl(x):\n",
    "    a = np.array(x)\n",
    "    if a[0] == a[2] == a[1]:\n",
    "        return a[2]\n",
    "    else:\n",
    "        return a[2] - np.mean(a[:2])\n",
    "    \n",
    "data_f6 = pd.DataFrame(data_gb['VIP_LVL'].apply(cal_vip_lvl).fillna(0))\n",
    "data_f6.head()"
   ]
  },
  {
   "cell_type": "code",
   "execution_count": 21,
   "metadata": {
    "hidden": true
   },
   "outputs": [],
   "source": [
    "#     （7） 本月费用：取三个月的平均值。\n",
    "data_f7 = pd.DataFrame(data_gb['ACCT_FEE'].mean())"
   ]
  },
  {
   "cell_type": "code",
   "execution_count": 22,
   "metadata": {
    "hidden": true
   },
   "outputs": [],
   "source": [
    "# （8） 平均每次通话时长\n",
    "# 8.1 总通话\n",
    "data_f81 = pd.DataFrame(data_gb['CALL_DURA'].sum()/data_gb['CDR_NUM'].sum(), \n",
    "                        columns=['Total_mean'])\n",
    "# 8.2 本地通话\n",
    "data_f82 = pd.DataFrame(data_gb['NO_ROAM_LOCAL_CALL_DURA'].sum()/data_gb['NO_ROAM_LOCAL_CDR_NUM'].sum(),\n",
    "                        columns=['Local_mean'])\n",
    "# 8.3 国内长途通话\n",
    "data_f83 = pd.DataFrame(data_gb['NO_ROAM_GN_LONG_CALL_DURA'].sum()/data_gb['NO_ROAM_GN_LONG_CDR_NUM'].sum(), \n",
    "                        columns=['GN_Long_mean'])\n",
    "# 8.4 国内漫游通话\n",
    "data_f84 = pd.DataFrame(data_gb['GN_ROAM_CALL_DURA'].sum()/data_gb['GN_ROAM_CDR_NUM'].sum(), \n",
    "                        columns=['GN_Roam_mean'])\n",
    "\n",
    "# 数据拼接\n",
    "data_f8 = pd.concat([data_f81, data_f82, data_f83, data_f84], axis=1).fillna(0)"
   ]
  },
  {
   "cell_type": "code",
   "execution_count": 23,
   "metadata": {
    "hidden": true
   },
   "outputs": [],
   "source": [
    "# (9) 其他变量\n",
    "data_f9 = data_gb[['NO_ROAM_CDR_NUM', 'P2P_SMS_CNT_UP', 'TOTAL_FLUX', 'LOCAL_FLUX', \n",
    "                   'GN_ROAM_FLUX', 'CALL_DAYS', 'CALLING_DAYS', 'CALLED_DAYS', 'CALL_RING', \n",
    "                   'CALLING_RING', 'CALLED_RING',]].mean()"
   ]
  },
  {
   "cell_type": "code",
   "execution_count": 24,
   "metadata": {
    "hidden": true
   },
   "outputs": [],
   "source": [
    "new_data = pd.concat([data_f1, data_f2, data_f3, data_f4, data_f5, \n",
    "                      data_f6, data_f7, data_f8, data_f9, data_label], \n",
    "                     axis=1)"
   ]
  },
  {
   "cell_type": "code",
   "execution_count": 25,
   "metadata": {
    "hidden": true,
    "scrolled": true
   },
   "outputs": [
    {
     "data": {
      "text/plain": [
       "Index(['MONTH_ID', 'USER_ID', 'INNET_MONTH', 'IS_AGREE', 'AGREE_EXP_DATE',\n",
       "       'CREDIT_LEVEL', 'VIP_LVL', 'ACCT_FEE', 'CALL_DURA',\n",
       "       'NO_ROAM_LOCAL_CALL_DURA', 'NO_ROAM_GN_LONG_CALL_DURA',\n",
       "       'GN_ROAM_CALL_DURA', 'CDR_NUM', 'NO_ROAM_CDR_NUM',\n",
       "       'NO_ROAM_LOCAL_CDR_NUM', 'NO_ROAM_GN_LONG_CDR_NUM', 'GN_ROAM_CDR_NUM',\n",
       "       'P2P_SMS_CNT_UP', 'TOTAL_FLUX', 'LOCAL_FLUX', 'GN_ROAM_FLUX',\n",
       "       'CALL_DAYS', 'CALLING_DAYS', 'CALLED_DAYS', 'CALL_RING', 'CALLING_RING',\n",
       "       'CALLED_RING', 'CUST_SEX', 'CERT_AGE', 'CONSTELLATION_DESC',\n",
       "       'TERM_TYPE', 'IS_LOST'],\n",
       "      dtype='object')"
      ]
     },
     "execution_count": 25,
     "metadata": {},
     "output_type": "execute_result"
    }
   ],
   "source": [
    "data_drop.columns"
   ]
  },
  {
   "cell_type": "markdown",
   "metadata": {
    "heading_collapsed": true,
    "hidden": true
   },
   "source": [
    "## 缺失值处理"
   ]
  },
  {
   "cell_type": "code",
   "execution_count": 26,
   "metadata": {
    "hidden": true
   },
   "outputs": [
    {
     "name": "stdout",
     "output_type": "stream",
     "text": [
      "(299968, 26)\n",
      "(8, 25)\n"
     ]
    }
   ],
   "source": [
    "print(new_data.shape)\n",
    "print(new_data.describe().shape)"
   ]
  },
  {
   "cell_type": "code",
   "execution_count": 27,
   "metadata": {
    "hidden": true
   },
   "outputs": [
    {
     "data": {
      "text/html": [
       "<div>\n",
       "<style scoped>\n",
       "    .dataframe tbody tr th:only-of-type {\n",
       "        vertical-align: middle;\n",
       "    }\n",
       "\n",
       "    .dataframe tbody tr th {\n",
       "        vertical-align: top;\n",
       "    }\n",
       "\n",
       "    .dataframe thead th {\n",
       "        text-align: right;\n",
       "    }\n",
       "</style>\n",
       "<table border=\"1\" class=\"dataframe\">\n",
       "  <thead>\n",
       "    <tr style=\"text-align: right;\">\n",
       "      <th></th>\n",
       "      <th>count</th>\n",
       "      <th>mean</th>\n",
       "      <th>std</th>\n",
       "      <th>min</th>\n",
       "      <th>25%</th>\n",
       "      <th>50%</th>\n",
       "      <th>75%</th>\n",
       "      <th>max</th>\n",
       "    </tr>\n",
       "  </thead>\n",
       "  <tbody>\n",
       "    <tr>\n",
       "      <th>CUST_SEX</th>\n",
       "      <td>288539.0</td>\n",
       "      <td>1.329855</td>\n",
       "      <td>0.470161</td>\n",
       "      <td>1.00</td>\n",
       "      <td>1.000000</td>\n",
       "      <td>1.000000</td>\n",
       "      <td>2.000000</td>\n",
       "      <td>2.000000</td>\n",
       "    </tr>\n",
       "    <tr>\n",
       "      <th>CERT_AGE</th>\n",
       "      <td>288311.0</td>\n",
       "      <td>32.944605</td>\n",
       "      <td>10.073672</td>\n",
       "      <td>6.00</td>\n",
       "      <td>26.000000</td>\n",
       "      <td>31.000000</td>\n",
       "      <td>38.000000</td>\n",
       "      <td>93.000000</td>\n",
       "    </tr>\n",
       "    <tr>\n",
       "      <th>TERM_TYPE</th>\n",
       "      <td>299968.0</td>\n",
       "      <td>3.722564</td>\n",
       "      <td>0.503301</td>\n",
       "      <td>2.00</td>\n",
       "      <td>3.000000</td>\n",
       "      <td>4.000000</td>\n",
       "      <td>4.000000</td>\n",
       "      <td>4.000000</td>\n",
       "    </tr>\n",
       "    <tr>\n",
       "      <th>INNET_MONTH</th>\n",
       "      <td>299968.0</td>\n",
       "      <td>35.507381</td>\n",
       "      <td>34.222636</td>\n",
       "      <td>-249.00</td>\n",
       "      <td>11.000000</td>\n",
       "      <td>25.000000</td>\n",
       "      <td>50.000000</td>\n",
       "      <td>249.000000</td>\n",
       "    </tr>\n",
       "    <tr>\n",
       "      <th>IS_AGREE</th>\n",
       "      <td>299968.0</td>\n",
       "      <td>0.720794</td>\n",
       "      <td>0.768233</td>\n",
       "      <td>-1.00</td>\n",
       "      <td>0.000000</td>\n",
       "      <td>0.500000</td>\n",
       "      <td>1.500000</td>\n",
       "      <td>1.500000</td>\n",
       "    </tr>\n",
       "    <tr>\n",
       "      <th>AGREE_EXP_DATE</th>\n",
       "      <td>299968.0</td>\n",
       "      <td>4.203495</td>\n",
       "      <td>8.552898</td>\n",
       "      <td>-1.00</td>\n",
       "      <td>-1.000000</td>\n",
       "      <td>0.000000</td>\n",
       "      <td>8.000000</td>\n",
       "      <td>423.000000</td>\n",
       "    </tr>\n",
       "    <tr>\n",
       "      <th>CREDIT_LEVEL</th>\n",
       "      <td>299968.0</td>\n",
       "      <td>66.016826</td>\n",
       "      <td>0.957528</td>\n",
       "      <td>0.00</td>\n",
       "      <td>65.000000</td>\n",
       "      <td>66.000000</td>\n",
       "      <td>67.000000</td>\n",
       "      <td>67.000000</td>\n",
       "    </tr>\n",
       "    <tr>\n",
       "      <th>VIP_LVL</th>\n",
       "      <td>299968.0</td>\n",
       "      <td>46.679804</td>\n",
       "      <td>48.924503</td>\n",
       "      <td>0.00</td>\n",
       "      <td>0.000000</td>\n",
       "      <td>4.000000</td>\n",
       "      <td>99.000000</td>\n",
       "      <td>99.000000</td>\n",
       "    </tr>\n",
       "    <tr>\n",
       "      <th>ACCT_FEE</th>\n",
       "      <td>299968.0</td>\n",
       "      <td>118.595064</td>\n",
       "      <td>148.610159</td>\n",
       "      <td>0.15</td>\n",
       "      <td>56.000000</td>\n",
       "      <td>89.300000</td>\n",
       "      <td>144.000000</td>\n",
       "      <td>42951.556667</td>\n",
       "    </tr>\n",
       "    <tr>\n",
       "      <th>Total_mean</th>\n",
       "      <td>299968.0</td>\n",
       "      <td>130.390656</td>\n",
       "      <td>85.117982</td>\n",
       "      <td>1.00</td>\n",
       "      <td>78.728634</td>\n",
       "      <td>109.763283</td>\n",
       "      <td>156.491832</td>\n",
       "      <td>2733.461783</td>\n",
       "    </tr>\n",
       "    <tr>\n",
       "      <th>Local_mean</th>\n",
       "      <td>299968.0</td>\n",
       "      <td>107.355527</td>\n",
       "      <td>83.429622</td>\n",
       "      <td>0.00</td>\n",
       "      <td>63.412641</td>\n",
       "      <td>91.456440</td>\n",
       "      <td>131.315789</td>\n",
       "      <td>3009.000000</td>\n",
       "    </tr>\n",
       "    <tr>\n",
       "      <th>GN_Long_mean</th>\n",
       "      <td>299968.0</td>\n",
       "      <td>197.314637</td>\n",
       "      <td>207.206479</td>\n",
       "      <td>0.00</td>\n",
       "      <td>58.147876</td>\n",
       "      <td>148.762698</td>\n",
       "      <td>272.207986</td>\n",
       "      <td>3594.000000</td>\n",
       "    </tr>\n",
       "    <tr>\n",
       "      <th>GN_Roam_mean</th>\n",
       "      <td>299968.0</td>\n",
       "      <td>88.048052</td>\n",
       "      <td>88.356647</td>\n",
       "      <td>0.00</td>\n",
       "      <td>37.333333</td>\n",
       "      <td>74.467914</td>\n",
       "      <td>117.279569</td>\n",
       "      <td>4102.500000</td>\n",
       "    </tr>\n",
       "    <tr>\n",
       "      <th>NO_ROAM_CDR_NUM</th>\n",
       "      <td>299968.0</td>\n",
       "      <td>139.682717</td>\n",
       "      <td>176.028691</td>\n",
       "      <td>0.00</td>\n",
       "      <td>31.666667</td>\n",
       "      <td>85.333333</td>\n",
       "      <td>180.666667</td>\n",
       "      <td>4440.000000</td>\n",
       "    </tr>\n",
       "    <tr>\n",
       "      <th>P2P_SMS_CNT_UP</th>\n",
       "      <td>299968.0</td>\n",
       "      <td>21.574122</td>\n",
       "      <td>48.022425</td>\n",
       "      <td>0.00</td>\n",
       "      <td>2.333333</td>\n",
       "      <td>8.333333</td>\n",
       "      <td>23.000000</td>\n",
       "      <td>4073.666667</td>\n",
       "    </tr>\n",
       "    <tr>\n",
       "      <th>TOTAL_FLUX</th>\n",
       "      <td>299968.0</td>\n",
       "      <td>1108.088205</td>\n",
       "      <td>1838.063939</td>\n",
       "      <td>0.00</td>\n",
       "      <td>250.718821</td>\n",
       "      <td>646.691837</td>\n",
       "      <td>1313.666660</td>\n",
       "      <td>423563.381500</td>\n",
       "    </tr>\n",
       "    <tr>\n",
       "      <th>LOCAL_FLUX</th>\n",
       "      <td>299968.0</td>\n",
       "      <td>783.138673</td>\n",
       "      <td>1545.083159</td>\n",
       "      <td>0.00</td>\n",
       "      <td>91.155367</td>\n",
       "      <td>401.168622</td>\n",
       "      <td>941.433369</td>\n",
       "      <td>418738.140767</td>\n",
       "    </tr>\n",
       "    <tr>\n",
       "      <th>GN_ROAM_FLUX</th>\n",
       "      <td>299968.0</td>\n",
       "      <td>323.123453</td>\n",
       "      <td>824.029205</td>\n",
       "      <td>0.00</td>\n",
       "      <td>2.981725</td>\n",
       "      <td>84.803653</td>\n",
       "      <td>316.965805</td>\n",
       "      <td>38976.817450</td>\n",
       "    </tr>\n",
       "    <tr>\n",
       "      <th>CALL_DAYS</th>\n",
       "      <td>299968.0</td>\n",
       "      <td>23.420267</td>\n",
       "      <td>7.356093</td>\n",
       "      <td>1.00</td>\n",
       "      <td>19.666667</td>\n",
       "      <td>26.333333</td>\n",
       "      <td>29.333333</td>\n",
       "      <td>31.000000</td>\n",
       "    </tr>\n",
       "    <tr>\n",
       "      <th>CALLING_DAYS</th>\n",
       "      <td>299968.0</td>\n",
       "      <td>19.261159</td>\n",
       "      <td>8.233195</td>\n",
       "      <td>0.00</td>\n",
       "      <td>13.333333</td>\n",
       "      <td>21.000000</td>\n",
       "      <td>26.333333</td>\n",
       "      <td>30.333333</td>\n",
       "    </tr>\n",
       "    <tr>\n",
       "      <th>CALLED_DAYS</th>\n",
       "      <td>299968.0</td>\n",
       "      <td>20.006227</td>\n",
       "      <td>8.322780</td>\n",
       "      <td>0.00</td>\n",
       "      <td>14.333333</td>\n",
       "      <td>22.000000</td>\n",
       "      <td>27.000000</td>\n",
       "      <td>30.333333</td>\n",
       "    </tr>\n",
       "    <tr>\n",
       "      <th>CALL_RING</th>\n",
       "      <td>299968.0</td>\n",
       "      <td>47.650314</td>\n",
       "      <td>51.839453</td>\n",
       "      <td>1.00</td>\n",
       "      <td>17.000000</td>\n",
       "      <td>33.000000</td>\n",
       "      <td>61.666667</td>\n",
       "      <td>3550.666667</td>\n",
       "    </tr>\n",
       "    <tr>\n",
       "      <th>CALLING_RING</th>\n",
       "      <td>299968.0</td>\n",
       "      <td>29.050419</td>\n",
       "      <td>36.762032</td>\n",
       "      <td>0.00</td>\n",
       "      <td>10.000000</td>\n",
       "      <td>19.333333</td>\n",
       "      <td>36.000000</td>\n",
       "      <td>3516.333333</td>\n",
       "    </tr>\n",
       "    <tr>\n",
       "      <th>CALLED_RING</th>\n",
       "      <td>299968.0</td>\n",
       "      <td>31.714583</td>\n",
       "      <td>33.033143</td>\n",
       "      <td>0.00</td>\n",
       "      <td>10.666667</td>\n",
       "      <td>22.000000</td>\n",
       "      <td>41.666667</td>\n",
       "      <td>1460.000000</td>\n",
       "    </tr>\n",
       "    <tr>\n",
       "      <th>IS_LOST</th>\n",
       "      <td>299968.0</td>\n",
       "      <td>0.032267</td>\n",
       "      <td>0.176708</td>\n",
       "      <td>0.00</td>\n",
       "      <td>0.000000</td>\n",
       "      <td>0.000000</td>\n",
       "      <td>0.000000</td>\n",
       "      <td>1.000000</td>\n",
       "    </tr>\n",
       "  </tbody>\n",
       "</table>\n",
       "</div>"
      ],
      "text/plain": [
       "                    count         mean          std     min         25%  \\\n",
       "CUST_SEX         288539.0     1.329855     0.470161    1.00    1.000000   \n",
       "CERT_AGE         288311.0    32.944605    10.073672    6.00   26.000000   \n",
       "TERM_TYPE        299968.0     3.722564     0.503301    2.00    3.000000   \n",
       "INNET_MONTH      299968.0    35.507381    34.222636 -249.00   11.000000   \n",
       "IS_AGREE         299968.0     0.720794     0.768233   -1.00    0.000000   \n",
       "AGREE_EXP_DATE   299968.0     4.203495     8.552898   -1.00   -1.000000   \n",
       "CREDIT_LEVEL     299968.0    66.016826     0.957528    0.00   65.000000   \n",
       "VIP_LVL          299968.0    46.679804    48.924503    0.00    0.000000   \n",
       "ACCT_FEE         299968.0   118.595064   148.610159    0.15   56.000000   \n",
       "Total_mean       299968.0   130.390656    85.117982    1.00   78.728634   \n",
       "Local_mean       299968.0   107.355527    83.429622    0.00   63.412641   \n",
       "GN_Long_mean     299968.0   197.314637   207.206479    0.00   58.147876   \n",
       "GN_Roam_mean     299968.0    88.048052    88.356647    0.00   37.333333   \n",
       "NO_ROAM_CDR_NUM  299968.0   139.682717   176.028691    0.00   31.666667   \n",
       "P2P_SMS_CNT_UP   299968.0    21.574122    48.022425    0.00    2.333333   \n",
       "TOTAL_FLUX       299968.0  1108.088205  1838.063939    0.00  250.718821   \n",
       "LOCAL_FLUX       299968.0   783.138673  1545.083159    0.00   91.155367   \n",
       "GN_ROAM_FLUX     299968.0   323.123453   824.029205    0.00    2.981725   \n",
       "CALL_DAYS        299968.0    23.420267     7.356093    1.00   19.666667   \n",
       "CALLING_DAYS     299968.0    19.261159     8.233195    0.00   13.333333   \n",
       "CALLED_DAYS      299968.0    20.006227     8.322780    0.00   14.333333   \n",
       "CALL_RING        299968.0    47.650314    51.839453    1.00   17.000000   \n",
       "CALLING_RING     299968.0    29.050419    36.762032    0.00   10.000000   \n",
       "CALLED_RING      299968.0    31.714583    33.033143    0.00   10.666667   \n",
       "IS_LOST          299968.0     0.032267     0.176708    0.00    0.000000   \n",
       "\n",
       "                        50%          75%            max  \n",
       "CUST_SEX           1.000000     2.000000       2.000000  \n",
       "CERT_AGE          31.000000    38.000000      93.000000  \n",
       "TERM_TYPE          4.000000     4.000000       4.000000  \n",
       "INNET_MONTH       25.000000    50.000000     249.000000  \n",
       "IS_AGREE           0.500000     1.500000       1.500000  \n",
       "AGREE_EXP_DATE     0.000000     8.000000     423.000000  \n",
       "CREDIT_LEVEL      66.000000    67.000000      67.000000  \n",
       "VIP_LVL            4.000000    99.000000      99.000000  \n",
       "ACCT_FEE          89.300000   144.000000   42951.556667  \n",
       "Total_mean       109.763283   156.491832    2733.461783  \n",
       "Local_mean        91.456440   131.315789    3009.000000  \n",
       "GN_Long_mean     148.762698   272.207986    3594.000000  \n",
       "GN_Roam_mean      74.467914   117.279569    4102.500000  \n",
       "NO_ROAM_CDR_NUM   85.333333   180.666667    4440.000000  \n",
       "P2P_SMS_CNT_UP     8.333333    23.000000    4073.666667  \n",
       "TOTAL_FLUX       646.691837  1313.666660  423563.381500  \n",
       "LOCAL_FLUX       401.168622   941.433369  418738.140767  \n",
       "GN_ROAM_FLUX      84.803653   316.965805   38976.817450  \n",
       "CALL_DAYS         26.333333    29.333333      31.000000  \n",
       "CALLING_DAYS      21.000000    26.333333      30.333333  \n",
       "CALLED_DAYS       22.000000    27.000000      30.333333  \n",
       "CALL_RING         33.000000    61.666667    3550.666667  \n",
       "CALLING_RING      19.333333    36.000000    3516.333333  \n",
       "CALLED_RING       22.000000    41.666667    1460.000000  \n",
       "IS_LOST            0.000000     0.000000       1.000000  "
      ]
     },
     "execution_count": 27,
     "metadata": {},
     "output_type": "execute_result"
    }
   ],
   "source": [
    "new_data.describe().T"
   ]
  },
  {
   "cell_type": "code",
   "execution_count": 28,
   "metadata": {
    "hidden": true
   },
   "outputs": [
    {
     "data": {
      "text/plain": [
       "288311"
      ]
     },
     "execution_count": 28,
     "metadata": {},
     "output_type": "execute_result"
    }
   ],
   "source": [
    "new_data['CONSTELLATION_DESC'].value_counts().sum()"
   ]
  },
  {
   "cell_type": "code",
   "execution_count": 29,
   "metadata": {
    "hidden": true
   },
   "outputs": [],
   "source": [
    "# 'CUST_SEX', 'CERT_AGE', 'CONSTELLATION_DESC'存在缺失值\n",
    "# new_data.columns\n",
    "new_data['CUST_SEX'] = new_data['CUST_SEX'].fillna(3)\n",
    "new_data['CERT_AGE'] = new_data['CERT_AGE'].fillna(0)\n",
    "new_data['CONSTELLATION_DESC'] = new_data['CONSTELLATION_DESC'].fillna(0)"
   ]
  },
  {
   "cell_type": "code",
   "execution_count": 30,
   "metadata": {
    "hidden": true
   },
   "outputs": [
    {
     "name": "stdout",
     "output_type": "stream",
     "text": [
      "299968\n"
     ]
    },
    {
     "data": {
      "text/html": [
       "<div>\n",
       "<style scoped>\n",
       "    .dataframe tbody tr th:only-of-type {\n",
       "        vertical-align: middle;\n",
       "    }\n",
       "\n",
       "    .dataframe tbody tr th {\n",
       "        vertical-align: top;\n",
       "    }\n",
       "\n",
       "    .dataframe thead th {\n",
       "        text-align: right;\n",
       "    }\n",
       "</style>\n",
       "<table border=\"1\" class=\"dataframe\">\n",
       "  <thead>\n",
       "    <tr style=\"text-align: right;\">\n",
       "      <th></th>\n",
       "      <th>count</th>\n",
       "      <th>mean</th>\n",
       "      <th>std</th>\n",
       "      <th>min</th>\n",
       "      <th>25%</th>\n",
       "      <th>50%</th>\n",
       "      <th>75%</th>\n",
       "      <th>max</th>\n",
       "    </tr>\n",
       "  </thead>\n",
       "  <tbody>\n",
       "    <tr>\n",
       "      <th>CUST_SEX</th>\n",
       "      <td>299968.0</td>\n",
       "      <td>1.393489</td>\n",
       "      <td>0.561122</td>\n",
       "      <td>1.00</td>\n",
       "      <td>1.000000</td>\n",
       "      <td>1.000000</td>\n",
       "      <td>2.000000</td>\n",
       "      <td>3.000000</td>\n",
       "    </tr>\n",
       "    <tr>\n",
       "      <th>CERT_AGE</th>\n",
       "      <td>299968.0</td>\n",
       "      <td>31.664351</td>\n",
       "      <td>11.750483</td>\n",
       "      <td>0.00</td>\n",
       "      <td>25.000000</td>\n",
       "      <td>30.000000</td>\n",
       "      <td>38.000000</td>\n",
       "      <td>93.000000</td>\n",
       "    </tr>\n",
       "    <tr>\n",
       "      <th>TERM_TYPE</th>\n",
       "      <td>299968.0</td>\n",
       "      <td>3.722564</td>\n",
       "      <td>0.503301</td>\n",
       "      <td>2.00</td>\n",
       "      <td>3.000000</td>\n",
       "      <td>4.000000</td>\n",
       "      <td>4.000000</td>\n",
       "      <td>4.000000</td>\n",
       "    </tr>\n",
       "    <tr>\n",
       "      <th>INNET_MONTH</th>\n",
       "      <td>299968.0</td>\n",
       "      <td>35.507381</td>\n",
       "      <td>34.222636</td>\n",
       "      <td>-249.00</td>\n",
       "      <td>11.000000</td>\n",
       "      <td>25.000000</td>\n",
       "      <td>50.000000</td>\n",
       "      <td>249.000000</td>\n",
       "    </tr>\n",
       "    <tr>\n",
       "      <th>IS_AGREE</th>\n",
       "      <td>299968.0</td>\n",
       "      <td>0.720794</td>\n",
       "      <td>0.768233</td>\n",
       "      <td>-1.00</td>\n",
       "      <td>0.000000</td>\n",
       "      <td>0.500000</td>\n",
       "      <td>1.500000</td>\n",
       "      <td>1.500000</td>\n",
       "    </tr>\n",
       "    <tr>\n",
       "      <th>AGREE_EXP_DATE</th>\n",
       "      <td>299968.0</td>\n",
       "      <td>4.203495</td>\n",
       "      <td>8.552898</td>\n",
       "      <td>-1.00</td>\n",
       "      <td>-1.000000</td>\n",
       "      <td>0.000000</td>\n",
       "      <td>8.000000</td>\n",
       "      <td>423.000000</td>\n",
       "    </tr>\n",
       "    <tr>\n",
       "      <th>CREDIT_LEVEL</th>\n",
       "      <td>299968.0</td>\n",
       "      <td>66.016826</td>\n",
       "      <td>0.957528</td>\n",
       "      <td>0.00</td>\n",
       "      <td>65.000000</td>\n",
       "      <td>66.000000</td>\n",
       "      <td>67.000000</td>\n",
       "      <td>67.000000</td>\n",
       "    </tr>\n",
       "    <tr>\n",
       "      <th>VIP_LVL</th>\n",
       "      <td>299968.0</td>\n",
       "      <td>46.679804</td>\n",
       "      <td>48.924503</td>\n",
       "      <td>0.00</td>\n",
       "      <td>0.000000</td>\n",
       "      <td>4.000000</td>\n",
       "      <td>99.000000</td>\n",
       "      <td>99.000000</td>\n",
       "    </tr>\n",
       "    <tr>\n",
       "      <th>ACCT_FEE</th>\n",
       "      <td>299968.0</td>\n",
       "      <td>118.595064</td>\n",
       "      <td>148.610159</td>\n",
       "      <td>0.15</td>\n",
       "      <td>56.000000</td>\n",
       "      <td>89.300000</td>\n",
       "      <td>144.000000</td>\n",
       "      <td>42951.556667</td>\n",
       "    </tr>\n",
       "    <tr>\n",
       "      <th>Total_mean</th>\n",
       "      <td>299968.0</td>\n",
       "      <td>130.390656</td>\n",
       "      <td>85.117982</td>\n",
       "      <td>1.00</td>\n",
       "      <td>78.728634</td>\n",
       "      <td>109.763283</td>\n",
       "      <td>156.491832</td>\n",
       "      <td>2733.461783</td>\n",
       "    </tr>\n",
       "    <tr>\n",
       "      <th>Local_mean</th>\n",
       "      <td>299968.0</td>\n",
       "      <td>107.355527</td>\n",
       "      <td>83.429622</td>\n",
       "      <td>0.00</td>\n",
       "      <td>63.412641</td>\n",
       "      <td>91.456440</td>\n",
       "      <td>131.315789</td>\n",
       "      <td>3009.000000</td>\n",
       "    </tr>\n",
       "    <tr>\n",
       "      <th>GN_Long_mean</th>\n",
       "      <td>299968.0</td>\n",
       "      <td>197.314637</td>\n",
       "      <td>207.206479</td>\n",
       "      <td>0.00</td>\n",
       "      <td>58.147876</td>\n",
       "      <td>148.762698</td>\n",
       "      <td>272.207986</td>\n",
       "      <td>3594.000000</td>\n",
       "    </tr>\n",
       "    <tr>\n",
       "      <th>GN_Roam_mean</th>\n",
       "      <td>299968.0</td>\n",
       "      <td>88.048052</td>\n",
       "      <td>88.356647</td>\n",
       "      <td>0.00</td>\n",
       "      <td>37.333333</td>\n",
       "      <td>74.467914</td>\n",
       "      <td>117.279569</td>\n",
       "      <td>4102.500000</td>\n",
       "    </tr>\n",
       "    <tr>\n",
       "      <th>NO_ROAM_CDR_NUM</th>\n",
       "      <td>299968.0</td>\n",
       "      <td>139.682717</td>\n",
       "      <td>176.028691</td>\n",
       "      <td>0.00</td>\n",
       "      <td>31.666667</td>\n",
       "      <td>85.333333</td>\n",
       "      <td>180.666667</td>\n",
       "      <td>4440.000000</td>\n",
       "    </tr>\n",
       "    <tr>\n",
       "      <th>P2P_SMS_CNT_UP</th>\n",
       "      <td>299968.0</td>\n",
       "      <td>21.574122</td>\n",
       "      <td>48.022425</td>\n",
       "      <td>0.00</td>\n",
       "      <td>2.333333</td>\n",
       "      <td>8.333333</td>\n",
       "      <td>23.000000</td>\n",
       "      <td>4073.666667</td>\n",
       "    </tr>\n",
       "    <tr>\n",
       "      <th>TOTAL_FLUX</th>\n",
       "      <td>299968.0</td>\n",
       "      <td>1108.088205</td>\n",
       "      <td>1838.063939</td>\n",
       "      <td>0.00</td>\n",
       "      <td>250.718821</td>\n",
       "      <td>646.691837</td>\n",
       "      <td>1313.666660</td>\n",
       "      <td>423563.381500</td>\n",
       "    </tr>\n",
       "    <tr>\n",
       "      <th>LOCAL_FLUX</th>\n",
       "      <td>299968.0</td>\n",
       "      <td>783.138673</td>\n",
       "      <td>1545.083159</td>\n",
       "      <td>0.00</td>\n",
       "      <td>91.155367</td>\n",
       "      <td>401.168622</td>\n",
       "      <td>941.433369</td>\n",
       "      <td>418738.140767</td>\n",
       "    </tr>\n",
       "    <tr>\n",
       "      <th>GN_ROAM_FLUX</th>\n",
       "      <td>299968.0</td>\n",
       "      <td>323.123453</td>\n",
       "      <td>824.029205</td>\n",
       "      <td>0.00</td>\n",
       "      <td>2.981725</td>\n",
       "      <td>84.803653</td>\n",
       "      <td>316.965805</td>\n",
       "      <td>38976.817450</td>\n",
       "    </tr>\n",
       "    <tr>\n",
       "      <th>CALL_DAYS</th>\n",
       "      <td>299968.0</td>\n",
       "      <td>23.420267</td>\n",
       "      <td>7.356093</td>\n",
       "      <td>1.00</td>\n",
       "      <td>19.666667</td>\n",
       "      <td>26.333333</td>\n",
       "      <td>29.333333</td>\n",
       "      <td>31.000000</td>\n",
       "    </tr>\n",
       "    <tr>\n",
       "      <th>CALLING_DAYS</th>\n",
       "      <td>299968.0</td>\n",
       "      <td>19.261159</td>\n",
       "      <td>8.233195</td>\n",
       "      <td>0.00</td>\n",
       "      <td>13.333333</td>\n",
       "      <td>21.000000</td>\n",
       "      <td>26.333333</td>\n",
       "      <td>30.333333</td>\n",
       "    </tr>\n",
       "    <tr>\n",
       "      <th>CALLED_DAYS</th>\n",
       "      <td>299968.0</td>\n",
       "      <td>20.006227</td>\n",
       "      <td>8.322780</td>\n",
       "      <td>0.00</td>\n",
       "      <td>14.333333</td>\n",
       "      <td>22.000000</td>\n",
       "      <td>27.000000</td>\n",
       "      <td>30.333333</td>\n",
       "    </tr>\n",
       "    <tr>\n",
       "      <th>CALL_RING</th>\n",
       "      <td>299968.0</td>\n",
       "      <td>47.650314</td>\n",
       "      <td>51.839453</td>\n",
       "      <td>1.00</td>\n",
       "      <td>17.000000</td>\n",
       "      <td>33.000000</td>\n",
       "      <td>61.666667</td>\n",
       "      <td>3550.666667</td>\n",
       "    </tr>\n",
       "    <tr>\n",
       "      <th>CALLING_RING</th>\n",
       "      <td>299968.0</td>\n",
       "      <td>29.050419</td>\n",
       "      <td>36.762032</td>\n",
       "      <td>0.00</td>\n",
       "      <td>10.000000</td>\n",
       "      <td>19.333333</td>\n",
       "      <td>36.000000</td>\n",
       "      <td>3516.333333</td>\n",
       "    </tr>\n",
       "    <tr>\n",
       "      <th>CALLED_RING</th>\n",
       "      <td>299968.0</td>\n",
       "      <td>31.714583</td>\n",
       "      <td>33.033143</td>\n",
       "      <td>0.00</td>\n",
       "      <td>10.666667</td>\n",
       "      <td>22.000000</td>\n",
       "      <td>41.666667</td>\n",
       "      <td>1460.000000</td>\n",
       "    </tr>\n",
       "    <tr>\n",
       "      <th>IS_LOST</th>\n",
       "      <td>299968.0</td>\n",
       "      <td>0.032267</td>\n",
       "      <td>0.176708</td>\n",
       "      <td>0.00</td>\n",
       "      <td>0.000000</td>\n",
       "      <td>0.000000</td>\n",
       "      <td>0.000000</td>\n",
       "      <td>1.000000</td>\n",
       "    </tr>\n",
       "  </tbody>\n",
       "</table>\n",
       "</div>"
      ],
      "text/plain": [
       "                    count         mean          std     min         25%  \\\n",
       "CUST_SEX         299968.0     1.393489     0.561122    1.00    1.000000   \n",
       "CERT_AGE         299968.0    31.664351    11.750483    0.00   25.000000   \n",
       "TERM_TYPE        299968.0     3.722564     0.503301    2.00    3.000000   \n",
       "INNET_MONTH      299968.0    35.507381    34.222636 -249.00   11.000000   \n",
       "IS_AGREE         299968.0     0.720794     0.768233   -1.00    0.000000   \n",
       "AGREE_EXP_DATE   299968.0     4.203495     8.552898   -1.00   -1.000000   \n",
       "CREDIT_LEVEL     299968.0    66.016826     0.957528    0.00   65.000000   \n",
       "VIP_LVL          299968.0    46.679804    48.924503    0.00    0.000000   \n",
       "ACCT_FEE         299968.0   118.595064   148.610159    0.15   56.000000   \n",
       "Total_mean       299968.0   130.390656    85.117982    1.00   78.728634   \n",
       "Local_mean       299968.0   107.355527    83.429622    0.00   63.412641   \n",
       "GN_Long_mean     299968.0   197.314637   207.206479    0.00   58.147876   \n",
       "GN_Roam_mean     299968.0    88.048052    88.356647    0.00   37.333333   \n",
       "NO_ROAM_CDR_NUM  299968.0   139.682717   176.028691    0.00   31.666667   \n",
       "P2P_SMS_CNT_UP   299968.0    21.574122    48.022425    0.00    2.333333   \n",
       "TOTAL_FLUX       299968.0  1108.088205  1838.063939    0.00  250.718821   \n",
       "LOCAL_FLUX       299968.0   783.138673  1545.083159    0.00   91.155367   \n",
       "GN_ROAM_FLUX     299968.0   323.123453   824.029205    0.00    2.981725   \n",
       "CALL_DAYS        299968.0    23.420267     7.356093    1.00   19.666667   \n",
       "CALLING_DAYS     299968.0    19.261159     8.233195    0.00   13.333333   \n",
       "CALLED_DAYS      299968.0    20.006227     8.322780    0.00   14.333333   \n",
       "CALL_RING        299968.0    47.650314    51.839453    1.00   17.000000   \n",
       "CALLING_RING     299968.0    29.050419    36.762032    0.00   10.000000   \n",
       "CALLED_RING      299968.0    31.714583    33.033143    0.00   10.666667   \n",
       "IS_LOST          299968.0     0.032267     0.176708    0.00    0.000000   \n",
       "\n",
       "                        50%          75%            max  \n",
       "CUST_SEX           1.000000     2.000000       3.000000  \n",
       "CERT_AGE          30.000000    38.000000      93.000000  \n",
       "TERM_TYPE          4.000000     4.000000       4.000000  \n",
       "INNET_MONTH       25.000000    50.000000     249.000000  \n",
       "IS_AGREE           0.500000     1.500000       1.500000  \n",
       "AGREE_EXP_DATE     0.000000     8.000000     423.000000  \n",
       "CREDIT_LEVEL      66.000000    67.000000      67.000000  \n",
       "VIP_LVL            4.000000    99.000000      99.000000  \n",
       "ACCT_FEE          89.300000   144.000000   42951.556667  \n",
       "Total_mean       109.763283   156.491832    2733.461783  \n",
       "Local_mean        91.456440   131.315789    3009.000000  \n",
       "GN_Long_mean     148.762698   272.207986    3594.000000  \n",
       "GN_Roam_mean      74.467914   117.279569    4102.500000  \n",
       "NO_ROAM_CDR_NUM   85.333333   180.666667    4440.000000  \n",
       "P2P_SMS_CNT_UP     8.333333    23.000000    4073.666667  \n",
       "TOTAL_FLUX       646.691837  1313.666660  423563.381500  \n",
       "LOCAL_FLUX       401.168622   941.433369  418738.140767  \n",
       "GN_ROAM_FLUX      84.803653   316.965805   38976.817450  \n",
       "CALL_DAYS         26.333333    29.333333      31.000000  \n",
       "CALLING_DAYS      21.000000    26.333333      30.333333  \n",
       "CALLED_DAYS       22.000000    27.000000      30.333333  \n",
       "CALL_RING         33.000000    61.666667    3550.666667  \n",
       "CALLING_RING      19.333333    36.000000    3516.333333  \n",
       "CALLED_RING       22.000000    41.666667    1460.000000  \n",
       "IS_LOST            0.000000     0.000000       1.000000  "
      ]
     },
     "execution_count": 30,
     "metadata": {},
     "output_type": "execute_result"
    }
   ],
   "source": [
    "print(new_data['CONSTELLATION_DESC'].value_counts().sum())\n",
    "new_data.describe().T"
   ]
  },
  {
   "cell_type": "markdown",
   "metadata": {
    "hidden": true
   },
   "source": [
    "## 异常值处理"
   ]
  },
  {
   "cell_type": "code",
   "execution_count": 31,
   "metadata": {
    "hidden": true
   },
   "outputs": [],
   "source": [
    "new_data.loc[new_data['INNET_MONTH'] < 0, 'INNET_MONTH'] = 0"
   ]
  },
  {
   "cell_type": "code",
   "execution_count": 32,
   "metadata": {
    "hidden": true
   },
   "outputs": [
    {
     "data": {
      "text/html": [
       "<div>\n",
       "<style scoped>\n",
       "    .dataframe tbody tr th:only-of-type {\n",
       "        vertical-align: middle;\n",
       "    }\n",
       "\n",
       "    .dataframe tbody tr th {\n",
       "        vertical-align: top;\n",
       "    }\n",
       "\n",
       "    .dataframe thead th {\n",
       "        text-align: right;\n",
       "    }\n",
       "</style>\n",
       "<table border=\"1\" class=\"dataframe\">\n",
       "  <thead>\n",
       "    <tr style=\"text-align: right;\">\n",
       "      <th></th>\n",
       "      <th>count</th>\n",
       "      <th>mean</th>\n",
       "      <th>std</th>\n",
       "      <th>min</th>\n",
       "      <th>25%</th>\n",
       "      <th>50%</th>\n",
       "      <th>75%</th>\n",
       "      <th>max</th>\n",
       "    </tr>\n",
       "  </thead>\n",
       "  <tbody>\n",
       "    <tr>\n",
       "      <th>CUST_SEX</th>\n",
       "      <td>299968.0</td>\n",
       "      <td>1.393489</td>\n",
       "      <td>0.561122</td>\n",
       "      <td>1.00</td>\n",
       "      <td>1.000000</td>\n",
       "      <td>1.000000</td>\n",
       "      <td>2.000000</td>\n",
       "      <td>3.000000</td>\n",
       "    </tr>\n",
       "    <tr>\n",
       "      <th>CERT_AGE</th>\n",
       "      <td>299968.0</td>\n",
       "      <td>31.664351</td>\n",
       "      <td>11.750483</td>\n",
       "      <td>0.00</td>\n",
       "      <td>25.000000</td>\n",
       "      <td>30.000000</td>\n",
       "      <td>38.000000</td>\n",
       "      <td>93.000000</td>\n",
       "    </tr>\n",
       "    <tr>\n",
       "      <th>TERM_TYPE</th>\n",
       "      <td>299968.0</td>\n",
       "      <td>3.722564</td>\n",
       "      <td>0.503301</td>\n",
       "      <td>2.00</td>\n",
       "      <td>3.000000</td>\n",
       "      <td>4.000000</td>\n",
       "      <td>4.000000</td>\n",
       "      <td>4.000000</td>\n",
       "    </tr>\n",
       "    <tr>\n",
       "      <th>INNET_MONTH</th>\n",
       "      <td>299968.0</td>\n",
       "      <td>35.508211</td>\n",
       "      <td>34.218755</td>\n",
       "      <td>0.00</td>\n",
       "      <td>11.000000</td>\n",
       "      <td>25.000000</td>\n",
       "      <td>50.000000</td>\n",
       "      <td>249.000000</td>\n",
       "    </tr>\n",
       "    <tr>\n",
       "      <th>IS_AGREE</th>\n",
       "      <td>299968.0</td>\n",
       "      <td>0.720794</td>\n",
       "      <td>0.768233</td>\n",
       "      <td>-1.00</td>\n",
       "      <td>0.000000</td>\n",
       "      <td>0.500000</td>\n",
       "      <td>1.500000</td>\n",
       "      <td>1.500000</td>\n",
       "    </tr>\n",
       "    <tr>\n",
       "      <th>AGREE_EXP_DATE</th>\n",
       "      <td>299968.0</td>\n",
       "      <td>4.203495</td>\n",
       "      <td>8.552898</td>\n",
       "      <td>-1.00</td>\n",
       "      <td>-1.000000</td>\n",
       "      <td>0.000000</td>\n",
       "      <td>8.000000</td>\n",
       "      <td>423.000000</td>\n",
       "    </tr>\n",
       "    <tr>\n",
       "      <th>CREDIT_LEVEL</th>\n",
       "      <td>299968.0</td>\n",
       "      <td>66.016826</td>\n",
       "      <td>0.957528</td>\n",
       "      <td>0.00</td>\n",
       "      <td>65.000000</td>\n",
       "      <td>66.000000</td>\n",
       "      <td>67.000000</td>\n",
       "      <td>67.000000</td>\n",
       "    </tr>\n",
       "    <tr>\n",
       "      <th>VIP_LVL</th>\n",
       "      <td>299968.0</td>\n",
       "      <td>46.679804</td>\n",
       "      <td>48.924503</td>\n",
       "      <td>0.00</td>\n",
       "      <td>0.000000</td>\n",
       "      <td>4.000000</td>\n",
       "      <td>99.000000</td>\n",
       "      <td>99.000000</td>\n",
       "    </tr>\n",
       "    <tr>\n",
       "      <th>ACCT_FEE</th>\n",
       "      <td>299968.0</td>\n",
       "      <td>118.595064</td>\n",
       "      <td>148.610159</td>\n",
       "      <td>0.15</td>\n",
       "      <td>56.000000</td>\n",
       "      <td>89.300000</td>\n",
       "      <td>144.000000</td>\n",
       "      <td>42951.556667</td>\n",
       "    </tr>\n",
       "    <tr>\n",
       "      <th>Total_mean</th>\n",
       "      <td>299968.0</td>\n",
       "      <td>130.390656</td>\n",
       "      <td>85.117982</td>\n",
       "      <td>1.00</td>\n",
       "      <td>78.728634</td>\n",
       "      <td>109.763283</td>\n",
       "      <td>156.491832</td>\n",
       "      <td>2733.461783</td>\n",
       "    </tr>\n",
       "    <tr>\n",
       "      <th>Local_mean</th>\n",
       "      <td>299968.0</td>\n",
       "      <td>107.355527</td>\n",
       "      <td>83.429622</td>\n",
       "      <td>0.00</td>\n",
       "      <td>63.412641</td>\n",
       "      <td>91.456440</td>\n",
       "      <td>131.315789</td>\n",
       "      <td>3009.000000</td>\n",
       "    </tr>\n",
       "    <tr>\n",
       "      <th>GN_Long_mean</th>\n",
       "      <td>299968.0</td>\n",
       "      <td>197.314637</td>\n",
       "      <td>207.206479</td>\n",
       "      <td>0.00</td>\n",
       "      <td>58.147876</td>\n",
       "      <td>148.762698</td>\n",
       "      <td>272.207986</td>\n",
       "      <td>3594.000000</td>\n",
       "    </tr>\n",
       "    <tr>\n",
       "      <th>GN_Roam_mean</th>\n",
       "      <td>299968.0</td>\n",
       "      <td>88.048052</td>\n",
       "      <td>88.356647</td>\n",
       "      <td>0.00</td>\n",
       "      <td>37.333333</td>\n",
       "      <td>74.467914</td>\n",
       "      <td>117.279569</td>\n",
       "      <td>4102.500000</td>\n",
       "    </tr>\n",
       "    <tr>\n",
       "      <th>NO_ROAM_CDR_NUM</th>\n",
       "      <td>299968.0</td>\n",
       "      <td>139.682717</td>\n",
       "      <td>176.028691</td>\n",
       "      <td>0.00</td>\n",
       "      <td>31.666667</td>\n",
       "      <td>85.333333</td>\n",
       "      <td>180.666667</td>\n",
       "      <td>4440.000000</td>\n",
       "    </tr>\n",
       "    <tr>\n",
       "      <th>P2P_SMS_CNT_UP</th>\n",
       "      <td>299968.0</td>\n",
       "      <td>21.574122</td>\n",
       "      <td>48.022425</td>\n",
       "      <td>0.00</td>\n",
       "      <td>2.333333</td>\n",
       "      <td>8.333333</td>\n",
       "      <td>23.000000</td>\n",
       "      <td>4073.666667</td>\n",
       "    </tr>\n",
       "    <tr>\n",
       "      <th>TOTAL_FLUX</th>\n",
       "      <td>299968.0</td>\n",
       "      <td>1108.088205</td>\n",
       "      <td>1838.063939</td>\n",
       "      <td>0.00</td>\n",
       "      <td>250.718821</td>\n",
       "      <td>646.691837</td>\n",
       "      <td>1313.666660</td>\n",
       "      <td>423563.381500</td>\n",
       "    </tr>\n",
       "    <tr>\n",
       "      <th>LOCAL_FLUX</th>\n",
       "      <td>299968.0</td>\n",
       "      <td>783.138673</td>\n",
       "      <td>1545.083159</td>\n",
       "      <td>0.00</td>\n",
       "      <td>91.155367</td>\n",
       "      <td>401.168622</td>\n",
       "      <td>941.433369</td>\n",
       "      <td>418738.140767</td>\n",
       "    </tr>\n",
       "    <tr>\n",
       "      <th>GN_ROAM_FLUX</th>\n",
       "      <td>299968.0</td>\n",
       "      <td>323.123453</td>\n",
       "      <td>824.029205</td>\n",
       "      <td>0.00</td>\n",
       "      <td>2.981725</td>\n",
       "      <td>84.803653</td>\n",
       "      <td>316.965805</td>\n",
       "      <td>38976.817450</td>\n",
       "    </tr>\n",
       "    <tr>\n",
       "      <th>CALL_DAYS</th>\n",
       "      <td>299968.0</td>\n",
       "      <td>23.420267</td>\n",
       "      <td>7.356093</td>\n",
       "      <td>1.00</td>\n",
       "      <td>19.666667</td>\n",
       "      <td>26.333333</td>\n",
       "      <td>29.333333</td>\n",
       "      <td>31.000000</td>\n",
       "    </tr>\n",
       "    <tr>\n",
       "      <th>CALLING_DAYS</th>\n",
       "      <td>299968.0</td>\n",
       "      <td>19.261159</td>\n",
       "      <td>8.233195</td>\n",
       "      <td>0.00</td>\n",
       "      <td>13.333333</td>\n",
       "      <td>21.000000</td>\n",
       "      <td>26.333333</td>\n",
       "      <td>30.333333</td>\n",
       "    </tr>\n",
       "    <tr>\n",
       "      <th>CALLED_DAYS</th>\n",
       "      <td>299968.0</td>\n",
       "      <td>20.006227</td>\n",
       "      <td>8.322780</td>\n",
       "      <td>0.00</td>\n",
       "      <td>14.333333</td>\n",
       "      <td>22.000000</td>\n",
       "      <td>27.000000</td>\n",
       "      <td>30.333333</td>\n",
       "    </tr>\n",
       "    <tr>\n",
       "      <th>CALL_RING</th>\n",
       "      <td>299968.0</td>\n",
       "      <td>47.650314</td>\n",
       "      <td>51.839453</td>\n",
       "      <td>1.00</td>\n",
       "      <td>17.000000</td>\n",
       "      <td>33.000000</td>\n",
       "      <td>61.666667</td>\n",
       "      <td>3550.666667</td>\n",
       "    </tr>\n",
       "    <tr>\n",
       "      <th>CALLING_RING</th>\n",
       "      <td>299968.0</td>\n",
       "      <td>29.050419</td>\n",
       "      <td>36.762032</td>\n",
       "      <td>0.00</td>\n",
       "      <td>10.000000</td>\n",
       "      <td>19.333333</td>\n",
       "      <td>36.000000</td>\n",
       "      <td>3516.333333</td>\n",
       "    </tr>\n",
       "    <tr>\n",
       "      <th>CALLED_RING</th>\n",
       "      <td>299968.0</td>\n",
       "      <td>31.714583</td>\n",
       "      <td>33.033143</td>\n",
       "      <td>0.00</td>\n",
       "      <td>10.666667</td>\n",
       "      <td>22.000000</td>\n",
       "      <td>41.666667</td>\n",
       "      <td>1460.000000</td>\n",
       "    </tr>\n",
       "    <tr>\n",
       "      <th>IS_LOST</th>\n",
       "      <td>299968.0</td>\n",
       "      <td>0.032267</td>\n",
       "      <td>0.176708</td>\n",
       "      <td>0.00</td>\n",
       "      <td>0.000000</td>\n",
       "      <td>0.000000</td>\n",
       "      <td>0.000000</td>\n",
       "      <td>1.000000</td>\n",
       "    </tr>\n",
       "  </tbody>\n",
       "</table>\n",
       "</div>"
      ],
      "text/plain": [
       "                    count         mean          std   min         25%  \\\n",
       "CUST_SEX         299968.0     1.393489     0.561122  1.00    1.000000   \n",
       "CERT_AGE         299968.0    31.664351    11.750483  0.00   25.000000   \n",
       "TERM_TYPE        299968.0     3.722564     0.503301  2.00    3.000000   \n",
       "INNET_MONTH      299968.0    35.508211    34.218755  0.00   11.000000   \n",
       "IS_AGREE         299968.0     0.720794     0.768233 -1.00    0.000000   \n",
       "AGREE_EXP_DATE   299968.0     4.203495     8.552898 -1.00   -1.000000   \n",
       "CREDIT_LEVEL     299968.0    66.016826     0.957528  0.00   65.000000   \n",
       "VIP_LVL          299968.0    46.679804    48.924503  0.00    0.000000   \n",
       "ACCT_FEE         299968.0   118.595064   148.610159  0.15   56.000000   \n",
       "Total_mean       299968.0   130.390656    85.117982  1.00   78.728634   \n",
       "Local_mean       299968.0   107.355527    83.429622  0.00   63.412641   \n",
       "GN_Long_mean     299968.0   197.314637   207.206479  0.00   58.147876   \n",
       "GN_Roam_mean     299968.0    88.048052    88.356647  0.00   37.333333   \n",
       "NO_ROAM_CDR_NUM  299968.0   139.682717   176.028691  0.00   31.666667   \n",
       "P2P_SMS_CNT_UP   299968.0    21.574122    48.022425  0.00    2.333333   \n",
       "TOTAL_FLUX       299968.0  1108.088205  1838.063939  0.00  250.718821   \n",
       "LOCAL_FLUX       299968.0   783.138673  1545.083159  0.00   91.155367   \n",
       "GN_ROAM_FLUX     299968.0   323.123453   824.029205  0.00    2.981725   \n",
       "CALL_DAYS        299968.0    23.420267     7.356093  1.00   19.666667   \n",
       "CALLING_DAYS     299968.0    19.261159     8.233195  0.00   13.333333   \n",
       "CALLED_DAYS      299968.0    20.006227     8.322780  0.00   14.333333   \n",
       "CALL_RING        299968.0    47.650314    51.839453  1.00   17.000000   \n",
       "CALLING_RING     299968.0    29.050419    36.762032  0.00   10.000000   \n",
       "CALLED_RING      299968.0    31.714583    33.033143  0.00   10.666667   \n",
       "IS_LOST          299968.0     0.032267     0.176708  0.00    0.000000   \n",
       "\n",
       "                        50%          75%            max  \n",
       "CUST_SEX           1.000000     2.000000       3.000000  \n",
       "CERT_AGE          30.000000    38.000000      93.000000  \n",
       "TERM_TYPE          4.000000     4.000000       4.000000  \n",
       "INNET_MONTH       25.000000    50.000000     249.000000  \n",
       "IS_AGREE           0.500000     1.500000       1.500000  \n",
       "AGREE_EXP_DATE     0.000000     8.000000     423.000000  \n",
       "CREDIT_LEVEL      66.000000    67.000000      67.000000  \n",
       "VIP_LVL            4.000000    99.000000      99.000000  \n",
       "ACCT_FEE          89.300000   144.000000   42951.556667  \n",
       "Total_mean       109.763283   156.491832    2733.461783  \n",
       "Local_mean        91.456440   131.315789    3009.000000  \n",
       "GN_Long_mean     148.762698   272.207986    3594.000000  \n",
       "GN_Roam_mean      74.467914   117.279569    4102.500000  \n",
       "NO_ROAM_CDR_NUM   85.333333   180.666667    4440.000000  \n",
       "P2P_SMS_CNT_UP     8.333333    23.000000    4073.666667  \n",
       "TOTAL_FLUX       646.691837  1313.666660  423563.381500  \n",
       "LOCAL_FLUX       401.168622   941.433369  418738.140767  \n",
       "GN_ROAM_FLUX      84.803653   316.965805   38976.817450  \n",
       "CALL_DAYS         26.333333    29.333333      31.000000  \n",
       "CALLING_DAYS      21.000000    26.333333      30.333333  \n",
       "CALLED_DAYS       22.000000    27.000000      30.333333  \n",
       "CALL_RING         33.000000    61.666667    3550.666667  \n",
       "CALLING_RING      19.333333    36.000000    3516.333333  \n",
       "CALLED_RING       22.000000    41.666667    1460.000000  \n",
       "IS_LOST            0.000000     0.000000       1.000000  "
      ]
     },
     "execution_count": 32,
     "metadata": {},
     "output_type": "execute_result"
    }
   ],
   "source": [
    "new_data.describe().T"
   ]
  },
  {
   "cell_type": "code",
   "execution_count": 33,
   "metadata": {
    "hidden": true
   },
   "outputs": [
    {
     "data": {
      "image/png": "[encoded data removed]",
      "text/plain": [
       "<Figure size 432x288 with 1 Axes>"
      ]
     },
     "metadata": {
      "needs_background": "light"
     },
     "output_type": "display_data"
    }
   ],
   "source": [
    "plt.boxplot(new_data['ACCT_FEE'])\n",
    "plt.show()"
   ]
  },
  {
   "cell_type": "code",
   "execution_count": 34,
   "metadata": {
    "hidden": true
   },
   "outputs": [],
   "source": [
    "# a = new_data['ACCT_FEE'].mean()\n",
    "new_data.loc[new_data['ACCT_FEE'] > 10000, 'ACCT_FEE'] = np.mean(new_data['ACCT_FEE'])"
   ]
  },
  {
   "cell_type": "code",
   "execution_count": 35,
   "metadata": {
    "hidden": true
   },
   "outputs": [
    {
     "data": {
      "image/png": "[encoded data removed]",
      "text/plain": [
       "<Figure size 432x288 with 1 Axes>"
      ]
     },
     "metadata": {
      "needs_background": "light"
     },
     "output_type": "display_data"
    }
   ],
   "source": [
    "plt.boxplot(new_data['ACCT_FEE'])\n",
    "plt.show()"
   ]
  },
  {
   "cell_type": "code",
   "execution_count": 36,
   "metadata": {
    "hidden": true
   },
   "outputs": [
    {
     "data": {
      "image/png": "[encoded data removed]",
      "text/plain": [
       "<Figure size 648x648 with 12 Axes>"
      ]
     },
     "metadata": {
      "needs_background": "light"
     },
     "output_type": "display_data"
    }
   ],
   "source": [
    "plt.figure(figsize=(9, 9))\n",
    "for i, j in enumerate(['Total_mean', 'Local_mean', 'GN_Long_mean', 'GN_Roam_mean',\n",
    "       'NO_ROAM_CDR_NUM', 'P2P_SMS_CNT_UP', 'TOTAL_FLUX', 'LOCAL_FLUX',\n",
    "       'GN_ROAM_FLUX', 'CALL_DAYS', 'CALLING_DAYS', 'CALLED_DAYS']):\n",
    "    plt.subplot(3, 4, i+1)\n",
    "    plt.title(j)\n",
    "    plt.boxplot(new_data[j])\n",
    "plt.show()"
   ]
  },
  {
   "cell_type": "code",
   "execution_count": 37,
   "metadata": {
    "hidden": true
   },
   "outputs": [],
   "source": [
    "new_data.loc[new_data['TOTAL_FLUX'] > 50000, 'TOTAL_FLUX'] = np.mean(new_data['TOTAL_FLUX'])\n",
    "new_data.loc[new_data['LOCAL_FLUX'] > 50000, 'LOCAL_FLUX'] = np.mean(new_data['LOCAL_FLUX'])"
   ]
  },
  {
   "cell_type": "code",
   "execution_count": 38,
   "metadata": {
    "collapsed": true,
    "hidden": true
   },
   "outputs": [
    {
     "data": {
      "image/png": "[encoded data removed]",
      "text/plain": [
       "<Figure size 648x648 with 12 Axes>"
      ]
     },
     "metadata": {
      "needs_background": "light"
     },
     "output_type": "display_data"
    }
   ],
   "source": [
    "plt.figure(figsize=(9, 9))\n",
    "for i, j in enumerate(['Total_mean', 'Local_mean', 'GN_Long_mean', 'GN_Roam_mean',\n",
    "       'NO_ROAM_CDR_NUM', 'P2P_SMS_CNT_UP', 'TOTAL_FLUX', 'LOCAL_FLUX',\n",
    "       'GN_ROAM_FLUX', 'CALL_DAYS', 'CALLING_DAYS', 'CALLED_DAYS']):\n",
    "    plt.subplot(3, 4, i+1)\n",
    "    plt.title(j)\n",
    "    plt.boxplot(new_data[j])\n",
    "plt.show()"
   ]
  },
  {
   "cell_type": "code",
   "execution_count": 39,
   "metadata": {
    "hidden": true
   },
   "outputs": [],
   "source": [
    "new_data.to_csv('./new_data.csv')  # 保存文件"
   ]
  },
  {
   "cell_type": "markdown",
   "metadata": {},
   "source": [
    "# 特征分析"
   ]
  },
  {
   "cell_type": "code",
   "execution_count": 2,
   "metadata": {},
   "outputs": [],
   "source": [
    "import pandas as pd\n",
    "import numpy as np\n",
    "import matplotlib.pyplot as plt"
   ]
  },
  {
   "cell_type": "code",
   "execution_count": 3,
   "metadata": {},
   "outputs": [
    {
     "name": "stdout",
     "output_type": "stream",
     "text": [
      "(299968, 26)\n"
     ]
    }
   ],
   "source": [
    "data = pd.read_csv('./new_data.csv', index_col=0)\n",
    "print(data.shape)"
   ]
  },
  {
   "cell_type": "code",
   "execution_count": 4,
   "metadata": {},
   "outputs": [
    {
     "data": {
      "text/plain": [
       "Index(['CUST_SEX', 'CERT_AGE', 'CONSTELLATION_DESC', 'TERM_TYPE',\n",
       "       'INNET_MONTH', 'IS_AGREE', 'AGREE_EXP_DATE', 'CREDIT_LEVEL', 'VIP_LVL',\n",
       "       'ACCT_FEE', 'Total_mean', 'Local_mean', 'GN_Long_mean', 'GN_Roam_mean',\n",
       "       'NO_ROAM_CDR_NUM', 'P2P_SMS_CNT_UP', 'TOTAL_FLUX', 'LOCAL_FLUX',\n",
       "       'GN_ROAM_FLUX', 'CALL_DAYS', 'CALLING_DAYS', 'CALLED_DAYS', 'CALL_RING',\n",
       "       'CALLING_RING', 'CALLED_RING', 'IS_LOST'],\n",
       "      dtype='object')"
      ]
     },
     "execution_count": 4,
     "metadata": {},
     "output_type": "execute_result"
    }
   ],
   "source": [
    "data.columns"
   ]
  },
  {
   "cell_type": "markdown",
   "metadata": {
    "heading_collapsed": true
   },
   "source": [
    "## 性别特征"
   ]
  },
  {
   "cell_type": "code",
   "execution_count": 5,
   "metadata": {
    "hidden": true
   },
   "outputs": [
    {
     "data": {
      "text/plain": [
       "1.0    0.644612\n",
       "2.0    0.317287\n",
       "3.0    0.038101\n",
       "Name: CUST_SEX, dtype: float64"
      ]
     },
     "execution_count": 5,
     "metadata": {},
     "output_type": "execute_result"
    }
   ],
   "source": [
    "data['CUST_SEX'].value_counts()/data['CUST_SEX'].value_counts().sum()"
   ]
  },
  {
   "cell_type": "code",
   "execution_count": 6,
   "metadata": {
    "hidden": true
   },
   "outputs": [
    {
     "data": {
      "text/html": [
       "<div>\n",
       "<style scoped>\n",
       "    .dataframe tbody tr th:only-of-type {\n",
       "        vertical-align: middle;\n",
       "    }\n",
       "\n",
       "    .dataframe tbody tr th {\n",
       "        vertical-align: top;\n",
       "    }\n",
       "\n",
       "    .dataframe thead th {\n",
       "        text-align: right;\n",
       "    }\n",
       "</style>\n",
       "<table border=\"1\" class=\"dataframe\">\n",
       "  <thead>\n",
       "    <tr style=\"text-align: right;\">\n",
       "      <th>IS_LOST</th>\n",
       "      <th>0.0</th>\n",
       "      <th>1.0</th>\n",
       "    </tr>\n",
       "    <tr>\n",
       "      <th>CUST_SEX</th>\n",
       "      <th></th>\n",
       "      <th></th>\n",
       "    </tr>\n",
       "  </thead>\n",
       "  <tbody>\n",
       "    <tr>\n",
       "      <th>1.0</th>\n",
       "      <td>186781</td>\n",
       "      <td>6582</td>\n",
       "    </tr>\n",
       "    <tr>\n",
       "      <th>2.0</th>\n",
       "      <td>92311</td>\n",
       "      <td>2865</td>\n",
       "    </tr>\n",
       "    <tr>\n",
       "      <th>3.0</th>\n",
       "      <td>11197</td>\n",
       "      <td>232</td>\n",
       "    </tr>\n",
       "  </tbody>\n",
       "</table>\n",
       "</div>"
      ],
      "text/plain": [
       "IS_LOST      0.0   1.0\n",
       "CUST_SEX              \n",
       "1.0       186781  6582\n",
       "2.0        92311  2865\n",
       "3.0        11197   232"
      ]
     },
     "execution_count": 6,
     "metadata": {},
     "output_type": "execute_result"
    }
   ],
   "source": [
    "pd.crosstab(data['CUST_SEX'], data['IS_LOST'])"
   ]
  },
  {
   "cell_type": "code",
   "execution_count": 7,
   "metadata": {
    "hidden": true
   },
   "outputs": [],
   "source": [
    "def get_y_set(y):\n",
    "    anchor_y = []\n",
    "    y = y.value_counts()/y.value_counts().sum()\n",
    "    anchor_y.append(y[1])\n",
    "    anchor_y.append(y[2])\n",
    "    anchor_y.append(y[1]/y[2])\n",
    "    return anchor_y"
   ]
  },
  {
   "cell_type": "code",
   "execution_count": 8,
   "metadata": {
    "hidden": true
   },
   "outputs": [
    {
     "data": {
      "image/png": "[encoded data removed]",
      "text/plain": [
       "<Figure size 648x432 with 1 Axes>"
      ]
     },
     "metadata": {
      "needs_background": "light"
     },
     "output_type": "display_data"
    }
   ],
   "source": [
    "y1 = get_y_set(data.loc[data['IS_LOST'] == 1, 'CUST_SEX'])\n",
    "y2 = get_y_set(data.loc[data['IS_LOST'] == 0, 'CUST_SEX'])\n",
    "x = np.arange(len(y1)) + 1\n",
    "w = 0.3\n",
    "\n",
    "plt.rcParams['font.sans-serif'] = 'SimHei'\n",
    "fig, ax = plt.subplots(figsize=(9, 6))\n",
    "ax.bar(x, y1, w, label='流失用户')\n",
    "ax.bar(x+w, y2, w, label='流失用户')\n",
    "ax.set_xticks(x+w/2)\n",
    "ax.set_xticklabels(['性别1的比率', '性别2的比率', '性别1与性别2的比值'])\n",
    "plt.legend(loc='upper left')\n",
    "plt.show()"
   ]
  },
  {
   "cell_type": "markdown",
   "metadata": {
    "heading_collapsed": true
   },
   "source": [
    "## 年龄特征：不采用"
   ]
  },
  {
   "cell_type": "code",
   "execution_count": 9,
   "metadata": {
    "hidden": true
   },
   "outputs": [
    {
     "data": {
      "image/png": "[encoded data removed]",
      "text/plain": [
       "<Figure size 648x288 with 2 Axes>"
      ]
     },
     "metadata": {
      "needs_background": "light"
     },
     "output_type": "display_data"
    }
   ],
   "source": [
    "plt.figure(figsize=(9, 4))\n",
    "plt.subplot(1, 2, 1)\n",
    "plt.plot(data.loc[data['IS_LOST'] == 0, 'CERT_AGE'].value_counts(), 'ok', linewidth=1)\n",
    "plt.title('非流失用户年龄分布散点图')\n",
    "plt.subplot(1, 2, 2)\n",
    "plt.plot(data.loc[data['IS_LOST'] == 1, 'CERT_AGE'].value_counts(), 'ok', linewidth=1)\n",
    "plt.title('流失用户年龄分布散点图')\n",
    "plt.show()"
   ]
  },
  {
   "cell_type": "markdown",
   "metadata": {
    "heading_collapsed": true
   },
   "source": [
    "## 星座特征: 不采用"
   ]
  },
  {
   "cell_type": "code",
   "execution_count": 10,
   "metadata": {
    "hidden": true
   },
   "outputs": [
    {
     "data": {
      "image/png": "[encoded data removed]",
      "text/plain": [
       "<Figure size 648x432 with 1 Axes>"
      ]
     },
     "metadata": {
      "needs_background": "light"
     },
     "output_type": "display_data"
    }
   ],
   "source": [
    "y1 = data.loc[data['IS_LOST'] == 0, 'CONSTELLATION_DESC'].value_counts()\\\n",
    "/data.loc[data['IS_LOST'] == 0, 'CONSTELLATION_DESC'].value_counts().sum()\n",
    "y2 = data.loc[data['IS_LOST'] == 1, 'CONSTELLATION_DESC'].value_counts()\\\n",
    "/data.loc[data['IS_LOST'] == 1, 'CONSTELLATION_DESC'].value_counts().sum()\n",
    "x = np.arange(len(y1))+1\n",
    "w = 0.3\n",
    "\n",
    "labs = list(y1.index)\n",
    "\n",
    "fig, ax = plt.subplots(figsize=(9, 6))\n",
    "ax.bar(x, y1[labs], w, label='非流失用户')\n",
    "ax.bar(x+w, y2[labs], w, label='流失用户')\n",
    "ax.set_xticks(x+w/2)\n",
    "ax.set_xticklabels(labs)\n",
    "plt.legend()\n",
    "plt.show()"
   ]
  },
  {
   "cell_type": "markdown",
   "metadata": {
    "heading_collapsed": true
   },
   "source": [
    "## 在网时长"
   ]
  },
  {
   "cell_type": "code",
   "execution_count": 11,
   "metadata": {
    "hidden": true
   },
   "outputs": [
    {
     "data": {
      "image/png": "[encoded data removed]",
      "text/plain": [
       "<Figure size 648x288 with 2 Axes>"
      ]
     },
     "metadata": {
      "needs_background": "light"
     },
     "output_type": "display_data"
    }
   ],
   "source": [
    "y1 = data.loc[data['IS_LOST'] == 0, 'INNET_MONTH']\n",
    "y2 = data.loc[data['IS_LOST'] == 1, 'INNET_MONTH']\n",
    "\n",
    "plt.figure(figsize=(9, 4))\n",
    "plt.subplot(1, 2, 1)\n",
    "plt.hist(y1, bins=20)\n",
    "plt.title('非流失用户在网时长分布直方图')\n",
    "# plt.ylim(0, 90000)\n",
    "plt.subplot(1, 2, 2)\n",
    "h = plt.hist(y2, bins=20)\n",
    "plt.title('流失用户在网时长分布直方图')\n",
    "# plt.ylim(0, 90000)\n",
    "plt.show()"
   ]
  },
  {
   "cell_type": "markdown",
   "metadata": {
    "heading_collapsed": true
   },
   "source": [
    "## 合约用户与合约计划到期时间"
   ]
  },
  {
   "cell_type": "code",
   "execution_count": 12,
   "metadata": {
    "hidden": true
   },
   "outputs": [
    {
     "data": {
      "image/png": "[encoded data removed]",
      "text/plain": [
       "<Figure size 648x432 with 1 Axes>"
      ]
     },
     "metadata": {
      "needs_background": "light"
     },
     "output_type": "display_data"
    }
   ],
   "source": [
    "agree1 = data[data['IS_LOST'] == 1]['IS_AGREE'].value_counts()\n",
    "agree2 = data[data['IS_LOST'] == 0]['IS_AGREE'].value_counts()\n",
    "agree_y1 = [agree1[-1]/agree1.sum(),agree1[-0.5]/agree1.sum(),agree1[0]/agree1.sum(),agree1[0.5]/agree1.sum(),agree1[1.5]/agree1.sum()]\n",
    "agree_y2 = [agree2[-1]/agree2.sum(),agree2[-0.5]/agree2.sum(),agree2[0]/agree2.sum(),agree2[0.5]/agree2.sum(),agree2[1.5]/agree2.sum()]\n",
    "agree_x = np.arange(len(agree_y1)) +1\n",
    "plt.rcParams['font.family'] = 'SimHei'\n",
    "fig,ax=plt.subplots(figsize = (9,6))\n",
    "width=0.3\n",
    "ax.bar(agree_x,agree_y1,width,alpha=0.9,label='流失用户')\n",
    "ax.bar(agree_x+width,agree_y2,width,alpha=0.9,label = '非流失用户')\n",
    "ax.set_xticks(agree_x+width/2)\n",
    "ax.set_xticklabels([-1,-0.5,0,0.5,1.5])\n",
    "plt.legend(loc=\"upper left\")\n",
    "plt.show()"
   ]
  },
  {
   "cell_type": "code",
   "execution_count": 13,
   "metadata": {
    "hidden": true
   },
   "outputs": [
    {
     "data": {
      "image/png": "[encoded data removed]",
      "text/plain": [
       "<Figure size 648x288 with 2 Axes>"
      ]
     },
     "metadata": {
      "needs_background": "light"
     },
     "output_type": "display_data"
    }
   ],
   "source": [
    "tt = ['非流失客户合约计划到期时间频数直方图','流失客户合约计划到期时间频数直方图']\n",
    "plt.figure(figsize=(9, 4))\n",
    "for i in range(2):\n",
    "    plt.subplot(1, 2, i+1)\n",
    "    plt.title(tt[i])\n",
    "    plt.hist(data[data['IS_LOST'] == i]['AGREE_EXP_DATE'], bins=20)\n",
    "\n",
    "plt.show()"
   ]
  },
  {
   "cell_type": "markdown",
   "metadata": {
    "heading_collapsed": true
   },
   "source": [
    "## 信用等级"
   ]
  },
  {
   "cell_type": "code",
   "execution_count": 14,
   "metadata": {
    "hidden": true
   },
   "outputs": [
    {
     "data": {
      "image/png": "[encoded data removed]",
      "text/plain": [
       "<Figure size 432x288 with 1 Axes>"
      ]
     },
     "metadata": {
      "needs_background": "light"
     },
     "output_type": "display_data"
    }
   ],
   "source": [
    "labs = ['非流失用户信用等级频率直方图', '流失用户信用等级频率直方图']\n",
    "\n",
    "credit_y1 = data[data['IS_LOST'] == 1]['CREDIT_LEVEL'].value_counts()/data[data['IS_LOST'] == 1]['CREDIT_LEVEL'].value_counts().sum()\n",
    "credit_y2 = data[data['IS_LOST'] == 0]['CREDIT_LEVEL'].value_counts()/data[data['IS_LOST'] == 0]['CREDIT_LEVEL'].value_counts().sum()\n",
    "credit_x = np.arange(len(credit_y1)) +1\n",
    "y_labs = credit_y1.sort_index().index\n",
    "width = 0.3\n",
    "\n",
    "fig,ax = plt.subplots(figsize=(6, 4))\n",
    "ax.bar(credit_x, credit_y1[y_labs], width, alpha=0.9, label='流失用户')\n",
    "ax.bar(credit_x+width, credit_y2[y_labs], width, alpha=0.9, label='非流失用户')\n",
    "ax.set_xticks(credit_x+width/2)\n",
    "ax.set_xticklabels(np.round(y_labs, 2))\n",
    "plt.legend(loc=\"upper left\")\n",
    "plt.title('用户信用等级频率直方图')\n",
    "plt.show()\n"
   ]
  },
  {
   "cell_type": "markdown",
   "metadata": {
    "heading_collapsed": true
   },
   "source": [
    "## VIP等级"
   ]
  },
  {
   "cell_type": "code",
   "execution_count": 15,
   "metadata": {
    "hidden": true
   },
   "outputs": [
    {
     "data": {
      "image/png": "[encoded data removed]",
      "text/plain": [
       "<Figure size 432x288 with 1 Axes>"
      ]
     },
     "metadata": {
      "needs_background": "light"
     },
     "output_type": "display_data"
    }
   ],
   "source": [
    "labs = ['非流失用户VIP等级频率直方图', '流失用户VIP等级频率直方图']\n",
    "\n",
    "vip_y1 = data[data['IS_LOST'] == 1]['VIP_LVL'].value_counts()/data[data['IS_LOST'] == 1]['VIP_LVL'].value_counts().sum()\n",
    "vip_y2 = data[data['IS_LOST'] == 0]['VIP_LVL'].value_counts()/data[data['IS_LOST'] == 0]['VIP_LVL'].value_counts().sum()\n",
    "vip_x = np.arange(len(credit_y1)) +1\n",
    "y_labs = (vip_y1.sort_index().index)\n",
    "width = 0.3\n",
    "\n",
    "fig, ax = plt.subplots(figsize=(6, 4))\n",
    "ax.bar(vip_x, vip_y1[y_labs], width, alpha=0.9, label='流失用户')\n",
    "ax.bar(vip_x+width, vip_y2[y_labs], width, alpha=0.9, label='非流失用户')\n",
    "ax.set_xticks(vip_x+width/2)\n",
    "ax.set_xticklabels(y_labs)\n",
    "plt.legend()\n",
    "plt.title('用户VIP等级频率直方图')\n",
    "plt.show()"
   ]
  },
  {
   "cell_type": "markdown",
   "metadata": {},
   "source": [
    "## 剔除部分特征"
   ]
  },
  {
   "cell_type": "code",
   "execution_count": 5,
   "metadata": {},
   "outputs": [],
   "source": [
    "del data['CERT_AGE']\n",
    "del data['CONSTELLATION_DESC']"
   ]
  },
  {
   "cell_type": "code",
   "execution_count": 6,
   "metadata": {},
   "outputs": [
    {
     "data": {
      "text/plain": [
       "(299968, 24)"
      ]
     },
     "execution_count": 6,
     "metadata": {},
     "output_type": "execute_result"
    }
   ],
   "source": [
    "data.shape"
   ]
  },
  {
   "cell_type": "markdown",
   "metadata": {},
   "source": [
    "## 针对不同费用情况将用户划分成不同类型——聚类"
   ]
  },
  {
   "cell_type": "code",
   "execution_count": 7,
   "metadata": {},
   "outputs": [
    {
     "name": "stdout",
     "output_type": "stream",
     "text": [
      "1      69210.52121349449\n",
      "2      36414.14751816701\n",
      "3      22888.947909451817\n",
      "4      15963.1270828786\n",
      "5      11866.746392721505\n",
      "6      9336.279962785979\n",
      "7      7437.772984231222\n",
      "8      6181.669390865698\n",
      "9      5146.779674312541\n",
      "10      4405.03836150729\n",
      "MIC:     [69210.52121349449, 36414.14751816701, 22888.947909451817, 15963.1270828786, 11866.746392721505, 9336.279962785979, 7437.772984231222, 6181.669390865698, 5146.779674312541, 4405.03836150729]\n",
      "BT:     [3.750052786096229e-26, 0.44636295139906645, 0.6718835184086653, 0.78720986667898, 0.8530098993976454, 0.8908173265937609, 0.9191576497536151, 0.9361802328940172, 0.9502306224017945, 0.9594907644257223]\n"
     ]
    }
   ],
   "source": [
    "# 聚类：Kmeans算法\n",
    "# K取值\n",
    "from myfun import get_mic_bt\n",
    "anchor_MIC, anchor_BT = get_mic_bt(data, 'ACCT_FEE')"
   ]
  },
  {
   "cell_type": "code",
   "execution_count": 8,
   "metadata": {},
   "outputs": [
    {
     "data": {
      "image/png": "[encoded data removed]",
      "text/plain": [
       "<Figure size 432x288 with 1 Axes>"
      ]
     },
     "metadata": {
      "needs_background": "light"
     },
     "output_type": "display_data"
    }
   ],
   "source": [
    "plt.rcParams['font.sans-serif'] = 'SimHei'\n",
    "plt.plot(anchor_MIC, color='r')\n",
    "plt.plot(anchor_MIC, 'o', color='b')\n",
    "plt.xlabel('k值')\n",
    "plt.ylabel('MIC')\n",
    "plt.title('MIC')\n",
    "plt.show()"
   ]
  },
  {
   "cell_type": "code",
   "execution_count": 9,
   "metadata": {},
   "outputs": [
    {
     "data": {
      "image/png": "[encoded data removed]",
      "text/plain": [
       "<Figure size 432x288 with 1 Axes>"
      ]
     },
     "metadata": {},
     "output_type": "display_data"
    }
   ],
   "source": [
    "plt.rcParams['font.sans-serif'] = 'SimHei'\n",
    "plt.style.use('ggplot')\n",
    "plt.plot(anchor_BT)\n",
    "plt.plot(anchor_BT, 'o')\n",
    "plt.xlabel('k值')\n",
    "plt.ylabel('BT')\n",
    "plt.title('BT')\n",
    "plt.show()"
   ]
  },
  {
   "cell_type": "code",
   "execution_count": 10,
   "metadata": {},
   "outputs": [
    {
     "data": {
      "text/plain": [
       "array([4, 2, 0, ..., 4, 4, 4])"
      ]
     },
     "execution_count": 10,
     "metadata": {},
     "output_type": "execute_result"
    }
   ],
   "source": [
    "k = 5\n",
    "from sklearn.cluster import KMeans\n",
    "model = KMeans(n_clusters=k)\n",
    "model.fit(np.array(data['ACCT_FEE'])[:, np.newaxis])\n",
    "model.labels_"
   ]
  },
  {
   "cell_type": "code",
   "execution_count": 11,
   "metadata": {},
   "outputs": [
    {
     "data": {
      "text/html": [
       "<div>\n",
       "<style scoped>\n",
       "    .dataframe tbody tr th:only-of-type {\n",
       "        vertical-align: middle;\n",
       "    }\n",
       "\n",
       "    .dataframe tbody tr th {\n",
       "        vertical-align: top;\n",
       "    }\n",
       "\n",
       "    .dataframe thead th {\n",
       "        text-align: right;\n",
       "    }\n",
       "</style>\n",
       "<table border=\"1\" class=\"dataframe\">\n",
       "  <thead>\n",
       "    <tr style=\"text-align: right;\">\n",
       "      <th></th>\n",
       "      <th>CUST_SEX</th>\n",
       "      <th>TERM_TYPE</th>\n",
       "      <th>INNET_MONTH</th>\n",
       "      <th>IS_AGREE</th>\n",
       "      <th>AGREE_EXP_DATE</th>\n",
       "      <th>CREDIT_LEVEL</th>\n",
       "      <th>VIP_LVL</th>\n",
       "      <th>ACCT_FEE</th>\n",
       "      <th>Total_mean</th>\n",
       "      <th>Local_mean</th>\n",
       "      <th>...</th>\n",
       "      <th>LOCAL_FLUX</th>\n",
       "      <th>GN_ROAM_FLUX</th>\n",
       "      <th>CALL_DAYS</th>\n",
       "      <th>CALLING_DAYS</th>\n",
       "      <th>CALLED_DAYS</th>\n",
       "      <th>CALL_RING</th>\n",
       "      <th>CALLING_RING</th>\n",
       "      <th>CALLED_RING</th>\n",
       "      <th>IS_LOST</th>\n",
       "      <th>cluster</th>\n",
       "    </tr>\n",
       "  </thead>\n",
       "  <tbody>\n",
       "    <tr>\n",
       "      <th>U3114031824148707</th>\n",
       "      <td>1.0</td>\n",
       "      <td>3</td>\n",
       "      <td>25</td>\n",
       "      <td>0.0</td>\n",
       "      <td>-1</td>\n",
       "      <td>67.0</td>\n",
       "      <td>99.0</td>\n",
       "      <td>79.050000</td>\n",
       "      <td>46.749627</td>\n",
       "      <td>0.000000</td>\n",
       "      <td>...</td>\n",
       "      <td>0.000000</td>\n",
       "      <td>436.547473</td>\n",
       "      <td>27.333333</td>\n",
       "      <td>23.000000</td>\n",
       "      <td>25.000000</td>\n",
       "      <td>37.333333</td>\n",
       "      <td>27.666667</td>\n",
       "      <td>25.666667</td>\n",
       "      <td>0.0</td>\n",
       "      <td>4</td>\n",
       "    </tr>\n",
       "    <tr>\n",
       "      <th>U3114031824148874</th>\n",
       "      <td>2.0</td>\n",
       "      <td>4</td>\n",
       "      <td>25</td>\n",
       "      <td>1.5</td>\n",
       "      <td>0</td>\n",
       "      <td>65.0</td>\n",
       "      <td>99.0</td>\n",
       "      <td>258.456667</td>\n",
       "      <td>72.539206</td>\n",
       "      <td>70.639311</td>\n",
       "      <td>...</td>\n",
       "      <td>3865.186314</td>\n",
       "      <td>39.766818</td>\n",
       "      <td>30.000000</td>\n",
       "      <td>25.333333</td>\n",
       "      <td>30.000000</td>\n",
       "      <td>94.333333</td>\n",
       "      <td>42.666667</td>\n",
       "      <td>74.000000</td>\n",
       "      <td>0.0</td>\n",
       "      <td>2</td>\n",
       "    </tr>\n",
       "    <tr>\n",
       "      <th>U3114031824148975</th>\n",
       "      <td>2.0</td>\n",
       "      <td>4</td>\n",
       "      <td>25</td>\n",
       "      <td>1.5</td>\n",
       "      <td>0</td>\n",
       "      <td>65.0</td>\n",
       "      <td>99.0</td>\n",
       "      <td>166.033333</td>\n",
       "      <td>108.124549</td>\n",
       "      <td>88.598540</td>\n",
       "      <td>...</td>\n",
       "      <td>2150.793577</td>\n",
       "      <td>545.570873</td>\n",
       "      <td>29.666667</td>\n",
       "      <td>29.333333</td>\n",
       "      <td>24.666667</td>\n",
       "      <td>37.666667</td>\n",
       "      <td>30.666667</td>\n",
       "      <td>26.000000</td>\n",
       "      <td>0.0</td>\n",
       "      <td>0</td>\n",
       "    </tr>\n",
       "    <tr>\n",
       "      <th>U3114031824149138</th>\n",
       "      <td>2.0</td>\n",
       "      <td>3</td>\n",
       "      <td>25</td>\n",
       "      <td>0.0</td>\n",
       "      <td>-1</td>\n",
       "      <td>65.0</td>\n",
       "      <td>99.0</td>\n",
       "      <td>141.950000</td>\n",
       "      <td>186.905632</td>\n",
       "      <td>147.475248</td>\n",
       "      <td>...</td>\n",
       "      <td>345.069051</td>\n",
       "      <td>298.620997</td>\n",
       "      <td>29.666667</td>\n",
       "      <td>28.333333</td>\n",
       "      <td>27.333333</td>\n",
       "      <td>35.333333</td>\n",
       "      <td>26.333333</td>\n",
       "      <td>21.333333</td>\n",
       "      <td>0.0</td>\n",
       "      <td>0</td>\n",
       "    </tr>\n",
       "    <tr>\n",
       "      <th>U3114031824149150</th>\n",
       "      <td>1.0</td>\n",
       "      <td>4</td>\n",
       "      <td>25</td>\n",
       "      <td>0.0</td>\n",
       "      <td>-1</td>\n",
       "      <td>65.0</td>\n",
       "      <td>99.0</td>\n",
       "      <td>80.666667</td>\n",
       "      <td>49.409639</td>\n",
       "      <td>51.888889</td>\n",
       "      <td>...</td>\n",
       "      <td>161.041526</td>\n",
       "      <td>0.000000</td>\n",
       "      <td>6.666667</td>\n",
       "      <td>5.666667</td>\n",
       "      <td>6.666667</td>\n",
       "      <td>8.666667</td>\n",
       "      <td>1.666667</td>\n",
       "      <td>7.666667</td>\n",
       "      <td>0.0</td>\n",
       "      <td>4</td>\n",
       "    </tr>\n",
       "    <tr>\n",
       "      <th>...</th>\n",
       "      <td>...</td>\n",
       "      <td>...</td>\n",
       "      <td>...</td>\n",
       "      <td>...</td>\n",
       "      <td>...</td>\n",
       "      <td>...</td>\n",
       "      <td>...</td>\n",
       "      <td>...</td>\n",
       "      <td>...</td>\n",
       "      <td>...</td>\n",
       "      <td>...</td>\n",
       "      <td>...</td>\n",
       "      <td>...</td>\n",
       "      <td>...</td>\n",
       "      <td>...</td>\n",
       "      <td>...</td>\n",
       "      <td>...</td>\n",
       "      <td>...</td>\n",
       "      <td>...</td>\n",
       "      <td>...</td>\n",
       "      <td>...</td>\n",
       "    </tr>\n",
       "    <tr>\n",
       "      <th>U3116031072688741</th>\n",
       "      <td>2.0</td>\n",
       "      <td>2</td>\n",
       "      <td>1</td>\n",
       "      <td>0.0</td>\n",
       "      <td>-1</td>\n",
       "      <td>67.0</td>\n",
       "      <td>0.0</td>\n",
       "      <td>18.000000</td>\n",
       "      <td>26.400000</td>\n",
       "      <td>26.400000</td>\n",
       "      <td>...</td>\n",
       "      <td>0.981231</td>\n",
       "      <td>0.000000</td>\n",
       "      <td>1.000000</td>\n",
       "      <td>1.000000</td>\n",
       "      <td>1.000000</td>\n",
       "      <td>2.000000</td>\n",
       "      <td>1.000000</td>\n",
       "      <td>1.000000</td>\n",
       "      <td>0.0</td>\n",
       "      <td>4</td>\n",
       "    </tr>\n",
       "    <tr>\n",
       "      <th>U3116031472722618</th>\n",
       "      <td>1.0</td>\n",
       "      <td>2</td>\n",
       "      <td>1</td>\n",
       "      <td>0.0</td>\n",
       "      <td>-1</td>\n",
       "      <td>67.0</td>\n",
       "      <td>0.0</td>\n",
       "      <td>14.950000</td>\n",
       "      <td>147.142857</td>\n",
       "      <td>136.812500</td>\n",
       "      <td>...</td>\n",
       "      <td>2.762216</td>\n",
       "      <td>0.000000</td>\n",
       "      <td>9.000000</td>\n",
       "      <td>8.000000</td>\n",
       "      <td>4.000000</td>\n",
       "      <td>9.000000</td>\n",
       "      <td>8.000000</td>\n",
       "      <td>4.000000</td>\n",
       "      <td>0.0</td>\n",
       "      <td>4</td>\n",
       "    </tr>\n",
       "    <tr>\n",
       "      <th>U3116031607178768</th>\n",
       "      <td>1.0</td>\n",
       "      <td>3</td>\n",
       "      <td>1</td>\n",
       "      <td>0.0</td>\n",
       "      <td>-1</td>\n",
       "      <td>66.0</td>\n",
       "      <td>0.0</td>\n",
       "      <td>38.000000</td>\n",
       "      <td>53.105263</td>\n",
       "      <td>53.072727</td>\n",
       "      <td>...</td>\n",
       "      <td>0.002353</td>\n",
       "      <td>0.000000</td>\n",
       "      <td>16.000000</td>\n",
       "      <td>1.000000</td>\n",
       "      <td>16.000000</td>\n",
       "      <td>43.000000</td>\n",
       "      <td>1.000000</td>\n",
       "      <td>43.000000</td>\n",
       "      <td>0.0</td>\n",
       "      <td>4</td>\n",
       "    </tr>\n",
       "    <tr>\n",
       "      <th>U3116032708218652</th>\n",
       "      <td>1.0</td>\n",
       "      <td>2</td>\n",
       "      <td>1</td>\n",
       "      <td>0.0</td>\n",
       "      <td>-1</td>\n",
       "      <td>66.0</td>\n",
       "      <td>0.0</td>\n",
       "      <td>0.150000</td>\n",
       "      <td>15.333333</td>\n",
       "      <td>15.333333</td>\n",
       "      <td>...</td>\n",
       "      <td>0.000000</td>\n",
       "      <td>0.000000</td>\n",
       "      <td>1.000000</td>\n",
       "      <td>1.000000</td>\n",
       "      <td>0.000000</td>\n",
       "      <td>2.000000</td>\n",
       "      <td>2.000000</td>\n",
       "      <td>0.000000</td>\n",
       "      <td>0.0</td>\n",
       "      <td>4</td>\n",
       "    </tr>\n",
       "    <tr>\n",
       "      <th>U3116032808334614</th>\n",
       "      <td>1.0</td>\n",
       "      <td>2</td>\n",
       "      <td>1</td>\n",
       "      <td>0.0</td>\n",
       "      <td>-1</td>\n",
       "      <td>67.0</td>\n",
       "      <td>0.0</td>\n",
       "      <td>17.400000</td>\n",
       "      <td>312.333333</td>\n",
       "      <td>233.833333</td>\n",
       "      <td>...</td>\n",
       "      <td>1.016522</td>\n",
       "      <td>0.000000</td>\n",
       "      <td>4.000000</td>\n",
       "      <td>4.000000</td>\n",
       "      <td>3.000000</td>\n",
       "      <td>6.000000</td>\n",
       "      <td>5.000000</td>\n",
       "      <td>4.000000</td>\n",
       "      <td>0.0</td>\n",
       "      <td>4</td>\n",
       "    </tr>\n",
       "  </tbody>\n",
       "</table>\n",
       "<p>299968 rows × 25 columns</p>\n",
       "</div>"
      ],
      "text/plain": [
       "                   CUST_SEX  TERM_TYPE  INNET_MONTH  IS_AGREE  AGREE_EXP_DATE  \\\n",
       "U3114031824148707       1.0          3           25       0.0              -1   \n",
       "U3114031824148874       2.0          4           25       1.5               0   \n",
       "U3114031824148975       2.0          4           25       1.5               0   \n",
       "U3114031824149138       2.0          3           25       0.0              -1   \n",
       "U3114031824149150       1.0          4           25       0.0              -1   \n",
       "...                     ...        ...          ...       ...             ...   \n",
       "U3116031072688741       2.0          2            1       0.0              -1   \n",
       "U3116031472722618       1.0          2            1       0.0              -1   \n",
       "U3116031607178768       1.0          3            1       0.0              -1   \n",
       "U3116032708218652       1.0          2            1       0.0              -1   \n",
       "U3116032808334614       1.0          2            1       0.0              -1   \n",
       "\n",
       "                   CREDIT_LEVEL  VIP_LVL    ACCT_FEE  Total_mean  Local_mean  \\\n",
       "U3114031824148707          67.0     99.0   79.050000   46.749627    0.000000   \n",
       "U3114031824148874          65.0     99.0  258.456667   72.539206   70.639311   \n",
       "U3114031824148975          65.0     99.0  166.033333  108.124549   88.598540   \n",
       "U3114031824149138          65.0     99.0  141.950000  186.905632  147.475248   \n",
       "U3114031824149150          65.0     99.0   80.666667   49.409639   51.888889   \n",
       "...                         ...      ...         ...         ...         ...   \n",
       "U3116031072688741          67.0      0.0   18.000000   26.400000   26.400000   \n",
       "U3116031472722618          67.0      0.0   14.950000  147.142857  136.812500   \n",
       "U3116031607178768          66.0      0.0   38.000000   53.105263   53.072727   \n",
       "U3116032708218652          66.0      0.0    0.150000   15.333333   15.333333   \n",
       "U3116032808334614          67.0      0.0   17.400000  312.333333  233.833333   \n",
       "\n",
       "                   ...   LOCAL_FLUX  GN_ROAM_FLUX  CALL_DAYS  CALLING_DAYS  \\\n",
       "U3114031824148707  ...     0.000000    436.547473  27.333333     23.000000   \n",
       "U3114031824148874  ...  3865.186314     39.766818  30.000000     25.333333   \n",
       "U3114031824148975  ...  2150.793577    545.570873  29.666667     29.333333   \n",
       "U3114031824149138  ...   345.069051    298.620997  29.666667     28.333333   \n",
       "U3114031824149150  ...   161.041526      0.000000   6.666667      5.666667   \n",
       "...                ...          ...           ...        ...           ...   \n",
       "U3116031072688741  ...     0.981231      0.000000   1.000000      1.000000   \n",
       "U3116031472722618  ...     2.762216      0.000000   9.000000      8.000000   \n",
       "U3116031607178768  ...     0.002353      0.000000  16.000000      1.000000   \n",
       "U3116032708218652  ...     0.000000      0.000000   1.000000      1.000000   \n",
       "U3116032808334614  ...     1.016522      0.000000   4.000000      4.000000   \n",
       "\n",
       "                   CALLED_DAYS  CALL_RING  CALLING_RING  CALLED_RING  IS_LOST  \\\n",
       "U3114031824148707    25.000000  37.333333     27.666667    25.666667      0.0   \n",
       "U3114031824148874    30.000000  94.333333     42.666667    74.000000      0.0   \n",
       "U3114031824148975    24.666667  37.666667     30.666667    26.000000      0.0   \n",
       "U3114031824149138    27.333333  35.333333     26.333333    21.333333      0.0   \n",
       "U3114031824149150     6.666667   8.666667      1.666667     7.666667      0.0   \n",
       "...                        ...        ...           ...          ...      ...   \n",
       "U3116031072688741     1.000000   2.000000      1.000000     1.000000      0.0   \n",
       "U3116031472722618     4.000000   9.000000      8.000000     4.000000      0.0   \n",
       "U3116031607178768    16.000000  43.000000      1.000000    43.000000      0.0   \n",
       "U3116032708218652     0.000000   2.000000      2.000000     0.000000      0.0   \n",
       "U3116032808334614     3.000000   6.000000      5.000000     4.000000      0.0   \n",
       "\n",
       "                   cluster  \n",
       "U3114031824148707        4  \n",
       "U3114031824148874        2  \n",
       "U3114031824148975        0  \n",
       "U3114031824149138        0  \n",
       "U3114031824149150        4  \n",
       "...                    ...  \n",
       "U3116031072688741        4  \n",
       "U3116031472722618        4  \n",
       "U3116031607178768        4  \n",
       "U3116032708218652        4  \n",
       "U3116032808334614        4  \n",
       "\n",
       "[299968 rows x 25 columns]"
      ]
     },
     "execution_count": 11,
     "metadata": {},
     "output_type": "execute_result"
    }
   ],
   "source": [
    "data['cluster'] = model.labels_\n",
    "data"
   ]
  },
  {
   "cell_type": "code",
   "execution_count": 12,
   "metadata": {},
   "outputs": [],
   "source": [
    "labs = ['低费用', '中低费用', '一般费用', '中高费用', '高费用']\n",
    "tmp = ((i, j[0]) for i, j in enumerate(model.cluster_centers_))\n",
    "\n",
    "id2lab = {j[0]:labs[i]for i, j in enumerate(sorted(tmp, key=lambda x: x[1]))}"
   ]
  },
  {
   "cell_type": "code",
   "execution_count": 13,
   "metadata": {
    "scrolled": true
   },
   "outputs": [],
   "source": [
    "data['cluster'] = data['cluster'].map(id2lab)"
   ]
  },
  {
   "cell_type": "code",
   "execution_count": 14,
   "metadata": {},
   "outputs": [
    {
     "data": {
      "text/plain": [
       "低费用     174516\n",
       "中低费用     99226\n",
       "一般费用     23561\n",
       "中高费用      2517\n",
       "高费用        148\n",
       "Name: cluster, dtype: int64"
      ]
     },
     "execution_count": 14,
     "metadata": {},
     "output_type": "execute_result"
    }
   ],
   "source": [
    "data['cluster'].value_counts()"
   ]
  },
  {
   "cell_type": "code",
   "execution_count": 15,
   "metadata": {},
   "outputs": [
    {
     "data": {
      "text/html": [
       "<div>\n",
       "<style scoped>\n",
       "    .dataframe tbody tr th:only-of-type {\n",
       "        vertical-align: middle;\n",
       "    }\n",
       "\n",
       "    .dataframe tbody tr th {\n",
       "        vertical-align: top;\n",
       "    }\n",
       "\n",
       "    .dataframe thead th {\n",
       "        text-align: right;\n",
       "    }\n",
       "</style>\n",
       "<table border=\"1\" class=\"dataframe\">\n",
       "  <thead>\n",
       "    <tr style=\"text-align: right;\">\n",
       "      <th>IS_LOST</th>\n",
       "      <th>0.0</th>\n",
       "      <th>1.0</th>\n",
       "    </tr>\n",
       "    <tr>\n",
       "      <th>cluster</th>\n",
       "      <th></th>\n",
       "      <th></th>\n",
       "    </tr>\n",
       "  </thead>\n",
       "  <tbody>\n",
       "    <tr>\n",
       "      <th>一般费用</th>\n",
       "      <td>23363</td>\n",
       "      <td>198</td>\n",
       "    </tr>\n",
       "    <tr>\n",
       "      <th>中低费用</th>\n",
       "      <td>97565</td>\n",
       "      <td>1661</td>\n",
       "    </tr>\n",
       "    <tr>\n",
       "      <th>中高费用</th>\n",
       "      <td>2506</td>\n",
       "      <td>11</td>\n",
       "    </tr>\n",
       "    <tr>\n",
       "      <th>低费用</th>\n",
       "      <td>166708</td>\n",
       "      <td>7808</td>\n",
       "    </tr>\n",
       "    <tr>\n",
       "      <th>高费用</th>\n",
       "      <td>147</td>\n",
       "      <td>1</td>\n",
       "    </tr>\n",
       "  </tbody>\n",
       "</table>\n",
       "</div>"
      ],
      "text/plain": [
       "IS_LOST     0.0   1.0\n",
       "cluster              \n",
       "一般费用      23363   198\n",
       "中低费用      97565  1661\n",
       "中高费用       2506    11\n",
       "低费用      166708  7808\n",
       "高费用         147     1"
      ]
     },
     "execution_count": 15,
     "metadata": {},
     "output_type": "execute_result"
    }
   ],
   "source": [
    "pd.crosstab(data['cluster'], data['IS_LOST'])"
   ]
  },
  {
   "cell_type": "markdown",
   "metadata": {},
   "source": [
    "## 特征选择"
   ]
  },
  {
   "cell_type": "code",
   "execution_count": 16,
   "metadata": {},
   "outputs": [
    {
     "data": {
      "text/plain": [
       "(299968, 25)"
      ]
     },
     "execution_count": 16,
     "metadata": {},
     "output_type": "execute_result"
    }
   ],
   "source": [
    "data.shape"
   ]
  },
  {
   "cell_type": "code",
   "execution_count": 17,
   "metadata": {},
   "outputs": [
    {
     "data": {
      "text/plain": [
       "{'低费用': ['INNET_MONTH',\n",
       "  'ACCT_FEE',\n",
       "  'Local_mean',\n",
       "  'GN_Roam_mean',\n",
       "  'NO_ROAM_CDR_NUM',\n",
       "  'TOTAL_FLUX',\n",
       "  'CALL_DAYS',\n",
       "  'CALLING_DAYS',\n",
       "  'CALLED_DAYS',\n",
       "  'CALLING_RING'],\n",
       " '一般费用': ['INNET_MONTH',\n",
       "  'ACCT_FEE',\n",
       "  'GN_Roam_mean',\n",
       "  'NO_ROAM_CDR_NUM',\n",
       "  'P2P_SMS_CNT_UP',\n",
       "  'CALL_DAYS',\n",
       "  'CALLING_DAYS',\n",
       "  'CALLED_DAYS',\n",
       "  'CALLING_RING',\n",
       "  'CALLED_RING'],\n",
       " '中低费用': ['INNET_MONTH',\n",
       "  'ACCT_FEE',\n",
       "  'NO_ROAM_CDR_NUM',\n",
       "  'P2P_SMS_CNT_UP',\n",
       "  'TOTAL_FLUX',\n",
       "  'CALL_DAYS',\n",
       "  'CALLING_DAYS',\n",
       "  'CALLED_DAYS',\n",
       "  'CALLING_RING',\n",
       "  'CALLED_RING'],\n",
       " '中高费用': ['Local_mean',\n",
       "  'GN_Long_mean',\n",
       "  'NO_ROAM_CDR_NUM',\n",
       "  'TOTAL_FLUX',\n",
       "  'LOCAL_FLUX',\n",
       "  'GN_ROAM_FLUX',\n",
       "  'CALL_DAYS',\n",
       "  'CALLING_DAYS',\n",
       "  'CALLED_DAYS',\n",
       "  'CALL_RING'],\n",
       " '高费用': ['TERM_TYPE',\n",
       "  'INNET_MONTH',\n",
       "  'IS_AGREE',\n",
       "  'ACCT_FEE',\n",
       "  'Local_mean',\n",
       "  'NO_ROAM_CDR_NUM',\n",
       "  'TOTAL_FLUX',\n",
       "  'LOCAL_FLUX',\n",
       "  'CALL_RING',\n",
       "  'CALLED_RING']}"
      ]
     },
     "execution_count": 17,
     "metadata": {},
     "output_type": "execute_result"
    }
   ],
   "source": [
    "from sklearn.ensemble import ExtraTreesClassifier  # 导入信息熵的树\n",
    "from sklearn.feature_selection import SelectFromModel  # 导入特征筛选模块\n",
    "\n",
    "# labs = ['低费用', '中低费用', '一般费用', '中高费用', '高费用']\n",
    "labs = data['cluster'].unique()\n",
    "cols = data.columns\n",
    "\n",
    "res = {}\n",
    "for i in range(len(labs)):\n",
    "    tmp = data.loc[data['cluster'] == labs[i], :]\n",
    "    y = tmp['IS_LOST']\n",
    "    del tmp['IS_LOST']\n",
    "    del tmp['cluster']\n",
    "    x = tmp.copy()\n",
    "#     print(x.shape, y.shape)\n",
    "    etc = ExtraTreesClassifier().fit(x, y)\n",
    "    importances = etc.feature_importances_  # 获取模型重要程度\n",
    "    importances.sort()\n",
    "    sfm = SelectFromModel(etc, threshold=importances[13], prefit=True)\n",
    "    feature_ind = sfm.get_support(indices=True)\n",
    "    anchor = [cols[j] for j in feature_ind]\n",
    "    res[labs[i]] = anchor\n",
    "res"
   ]
  },
  {
   "cell_type": "markdown",
   "metadata": {},
   "source": [
    "# 模型构建"
   ]
  },
  {
   "cell_type": "code",
   "execution_count": 23,
   "metadata": {},
   "outputs": [
    {
     "name": "stdout",
     "output_type": "stream",
     "text": [
      "低费用 决策树 0.9554492321796929\n",
      "低费用 神经网络 0.9553919321567729\n"
     ]
    },
    {
     "name": "stderr",
     "output_type": "stream",
     "text": [
      "C:\\Users\\yang\\Anaconda3\\lib\\site-packages\\sklearn\\svm\\_base.py:986: ConvergenceWarning: Liblinear failed to converge, increase the number of iterations.\n",
      "  \"the number of iterations.\", ConvergenceWarning)\n"
     ]
    },
    {
     "name": "stdout",
     "output_type": "stream",
     "text": [
      "低费用 支持向量机 0.9494327297730919\n",
      "低费用 高斯朴素贝叶斯 0.8643135457254183\n",
      "一般费用 决策树 0.9929980903882877\n",
      "一般费用 神经网络 0.9830256736685763\n"
     ]
    },
    {
     "name": "stderr",
     "output_type": "stream",
     "text": [
      "C:\\Users\\yang\\Anaconda3\\lib\\site-packages\\sklearn\\svm\\_base.py:986: ConvergenceWarning: Liblinear failed to converge, increase the number of iterations.\n",
      "  \"the number of iterations.\", ConvergenceWarning)\n"
     ]
    },
    {
     "name": "stdout",
     "output_type": "stream",
     "text": [
      "一般费用 支持向量机 0.9448334394228729\n",
      "一般费用 高斯朴素贝叶斯 0.6768512624655209\n",
      "中低费用 决策树 0.9361080318452081\n",
      "中低费用 神经网络 0.9045651516678423\n"
     ]
    },
    {
     "name": "stderr",
     "output_type": "stream",
     "text": [
      "C:\\Users\\yang\\Anaconda3\\lib\\site-packages\\sklearn\\svm\\_base.py:986: ConvergenceWarning: Liblinear failed to converge, increase the number of iterations.\n",
      "  \"the number of iterations.\", ConvergenceWarning)\n"
     ]
    },
    {
     "name": "stdout",
     "output_type": "stream",
     "text": [
      "中低费用 支持向量机 0.9836742920487755\n",
      "中低费用 高斯朴素贝叶斯 0.9833719641237529\n",
      "中高费用 决策树 0.998015873015873\n",
      "中高费用 神经网络 0.998015873015873\n",
      "中高费用 支持向量机 0.007936507936507936\n",
      "中高费用 高斯朴素贝叶斯 0.1111111111111111\n",
      "高费用 决策树 1.0\n",
      "高费用 神经网络 1.0\n",
      "高费用 支持向量机 0.0\n",
      "高费用 高斯朴素贝叶斯 1.0\n"
     ]
    },
    {
     "name": "stderr",
     "output_type": "stream",
     "text": [
      "C:\\Users\\yang\\Anaconda3\\lib\\site-packages\\sklearn\\svm\\_base.py:986: ConvergenceWarning: Liblinear failed to converge, increase the number of iterations.\n",
      "  \"the number of iterations.\", ConvergenceWarning)\n"
     ]
    }
   ],
   "source": [
    "# \n",
    "from sklearn.model_selection import train_test_split\n",
    "from sklearn.naive_bayes import GaussianNB\n",
    "from sklearn.neural_network import MLPClassifier\n",
    "from sklearn.svm import LinearSVC\n",
    "from sklearn.tree import DecisionTreeClassifier\n",
    "from sklearn.preprocessing import StandardScaler\n",
    "from sklearn.metrics import classification_report\n",
    "\n",
    "model = [\n",
    "    DecisionTreeClassifier(),\n",
    "    MLPClassifier(hidden_layer_sizes=(17, 10), max_iter=900),\n",
    "    LinearSVC(),\n",
    "    GaussianNB(),\n",
    "]\n",
    "model_labs = ['决策树', '神经网络', '支持向量机', '高斯朴素贝叶斯']\n",
    "\n",
    "labs = data['cluster'].unique()\n",
    "for i in range(5):\n",
    "    tmp = data.loc[data['cluster'] == labs[i], :]\n",
    "    x = tmp.drop(['IS_LOST', 'cluster'], axis=1)\n",
    "    x = x[res[labs[i]]]\n",
    "    y = tmp['IS_LOST']\n",
    "    x_train, x_test, y_train, y_test = train_test_split(x, y, test_size=0.2)\n",
    "    ss = StandardScaler().fit(x_train)\n",
    "    x_train_ss = ss.transform(x_train)\n",
    "\n",
    "    for j in range(4):\n",
    "        model0 = model[j]\n",
    "        model0.fit(x_train_ss, y_train)\n",
    "        x_test_ss = ss.transform(x_test)\n",
    "        y_pre = model0.predict(x_test_ss)\n",
    "        print(labs[i], model_labs[j], model0.score(x_test, y_test))\n",
    "# print(x.shape, y.shape)"
   ]
  },
  {
   "cell_type": "markdown",
   "metadata": {},
   "source": [
    "# 展示"
   ]
  },
  {
   "cell_type": "code",
   "execution_count": 25,
   "metadata": {},
   "outputs": [],
   "source": [
    "def cm_plot(y, yp):\n",
    "    cm = confusion_matrix(y, yp) #混淆矩阵\n",
    "    plt.matshow(cm, cmap=plt.cm.Greens) #画混淆矩阵图，配色风格使用cm.Greens，更多风格请参考官网。\n",
    "    plt.colorbar() #颜色标签\n",
    "    for x in range(len(cm)): #数据标签\n",
    "        for y in range(len(cm)):\n",
    "            plt.annotate(cm[x,y], xy=(y, x), horizontalalignment='center', verticalalignment='center')\n",
    "    plt.ylabel('True label') #坐标轴标签\n",
    "    plt.xlabel('Predicted label') #坐标轴标签\n",
    "    return plt"
   ]
  },
  {
   "cell_type": "code",
   "execution_count": 29,
   "metadata": {},
   "outputs": [
    {
     "name": "stdout",
     "output_type": "stream",
     "text": [
      ">>>>>>>>>>>>>>>>>>>>>>>>>>>> 决策树 <<<<<<<<<<<<<<<<<<<<<<<<<<<<<<<<<<<<<<<<<\n",
      "                        \n",
      "低费用\n"
     ]
    },
    {
     "data": {
      "image/png": "[encoded data removed]",
      "text/plain": [
       "<Figure size 288x288 with 2 Axes>"
      ]
     },
     "metadata": {},
     "output_type": "display_data"
    },
    {
     "data": {
      "image/png": "[encoded data removed]",
      "text/plain": [
       "<Figure size 432x288 with 1 Axes>"
      ]
     },
     "metadata": {},
     "output_type": "display_data"
    },
    {
     "name": "stdout",
     "output_type": "stream",
     "text": [
      "              precision    recall  f1-score   support\n",
      "\n",
      "         0.0       0.82      0.84      0.83      1965\n",
      "         1.0       0.83      0.82      0.82      1907\n",
      "\n",
      "    accuracy                           0.83      3872\n",
      "   macro avg       0.83      0.83      0.83      3872\n",
      "weighted avg       0.83      0.83      0.83      3872\n",
      "\n",
      "准确率 0.8277376033057852\n",
      "召回率 0.816465652857892\n",
      "AUC值 0.8275712488208035\n",
      "\n",
      "中低费用\n"
     ]
    },
    {
     "data": {
      "image/png": "[encoded data removed]",
      "text/plain": [
       "<Figure size 288x288 with 2 Axes>"
      ]
     },
     "metadata": {},
     "output_type": "display_data"
    },
    {
     "data": {
      "image/png": "[encoded data removed]",
      "text/plain": [
       "<Figure size 432x288 with 1 Axes>"
      ]
     },
     "metadata": {},
     "output_type": "display_data"
    },
    {
     "name": "stdout",
     "output_type": "stream",
     "text": [
      "              precision    recall  f1-score   support\n",
      "\n",
      "         0.0       0.87      0.81      0.84      1980\n",
      "         1.0       0.82      0.87      0.84      1892\n",
      "\n",
      "    accuracy                           0.84      3872\n",
      "   macro avg       0.84      0.84      0.84      3872\n",
      "weighted avg       0.84      0.84      0.84      3872\n",
      "\n",
      "准确率 0.8416838842975206\n",
      "召回率 0.8726215644820295\n",
      "AUC值 0.8423713883016208\n",
      "\n",
      "一般费用\n"
     ]
    },
    {
     "data": {
      "image/png": "[encoded data removed]",
      "text/plain": [
       "<Figure size 288x288 with 2 Axes>"
      ]
     },
     "metadata": {},
     "output_type": "display_data"
    },
    {
     "data": {
      "image/png": "[encoded data removed]",
      "text/plain": [
       "<Figure size 432x288 with 1 Axes>"
      ]
     },
     "metadata": {},
     "output_type": "display_data"
    },
    {
     "name": "stdout",
     "output_type": "stream",
     "text": [
      "              precision    recall  f1-score   support\n",
      "\n",
      "         0.0       0.85      0.81      0.83      1951\n",
      "         1.0       0.82      0.86      0.84      1921\n",
      "\n",
      "    accuracy                           0.83      3872\n",
      "   macro avg       0.83      0.83      0.83      3872\n",
      "weighted avg       0.84      0.83      0.83      3872\n",
      "\n",
      "准确率 0.8341942148760331\n",
      "召回率 0.8578865174388339\n",
      "AUC值 0.8343763699444298\n",
      "\n",
      "中高费用\n"
     ]
    },
    {
     "data": {
      "image/png": "[encoded data removed]",
      "text/plain": [
       "<Figure size 288x288 with 2 Axes>"
      ]
     },
     "metadata": {},
     "output_type": "display_data"
    },
    {
     "data": {
      "image/png": "[encoded data removed]",
      "text/plain": [
       "<Figure size 432x288 with 1 Axes>"
      ]
     },
     "metadata": {},
     "output_type": "display_data"
    },
    {
     "name": "stdout",
     "output_type": "stream",
     "text": [
      "              precision    recall  f1-score   support\n",
      "\n",
      "         0.0       0.81      0.81      0.81      1952\n",
      "         1.0       0.81      0.81      0.81      1920\n",
      "\n",
      "    accuracy                           0.81      3872\n",
      "   macro avg       0.81      0.81      0.81      3872\n",
      "weighted avg       0.81      0.81      0.81      3872\n",
      "\n",
      "准确率 0.8106921487603306\n",
      "召回率 0.8114583333333333\n",
      "AUC值 0.8106984289617486\n",
      "\n",
      "高费用\n"
     ]
    },
    {
     "data": {
      "image/png": "[encoded data removed]",
      "text/plain": [
       "<Figure size 288x288 with 2 Axes>"
      ]
     },
     "metadata": {},
     "output_type": "display_data"
    },
    {
     "data": {
      "image/png": "[encoded data removed]",
      "text/plain": [
       "<Figure size 432x288 with 1 Axes>"
      ]
     },
     "metadata": {},
     "output_type": "display_data"
    },
    {
     "name": "stdout",
     "output_type": "stream",
     "text": [
      "              precision    recall  f1-score   support\n",
      "\n",
      "         0.0       0.84      0.83      0.83      1980\n",
      "         1.0       0.82      0.83      0.83      1892\n",
      "\n",
      "    accuracy                           0.83      3872\n",
      "   macro avg       0.83      0.83      0.83      3872\n",
      "weighted avg       0.83      0.83      0.83      3872\n",
      "\n",
      "准确率 0.828254132231405\n",
      "召回率 0.8308668076109936\n",
      "AUC值 0.8283121916842846\n",
      "\n",
      ">>>>>>>>>>>>>>>>>>>>>>>>>>>> 神经网络 <<<<<<<<<<<<<<<<<<<<<<<<<<<<<<<<<<<<<<<<<\n",
      "                        \n",
      "低费用\n"
     ]
    },
    {
     "name": "stderr",
     "output_type": "stream",
     "text": [
      "C:\\Users\\yang\\Anaconda3\\lib\\site-packages\\sklearn\\neural_network\\_multilayer_perceptron.py:500: ConvergenceWarning: lbfgs failed to converge (status=1):\n",
      "STOP: TOTAL NO. of ITERATIONS REACHED LIMIT.\n",
      "\n",
      "Increase the number of iterations (max_iter) or scale the data as shown in:\n",
      "    https://scikit-learn.org/stable/modules/preprocessing.html\n",
      "  self.n_iter_ = _check_optimize_result(\"lbfgs\", opt_res, self.max_iter)\n"
     ]
    },
    {
     "data": {
      "image/png": "[encoded data removed]",
      "text/plain": [
       "<Figure size 288x288 with 2 Axes>"
      ]
     },
     "metadata": {},
     "output_type": "display_data"
    },
    {
     "data": {
      "image/png": "[encoded data removed]",
      "text/plain": [
       "<Figure size 432x288 with 1 Axes>"
      ]
     },
     "metadata": {},
     "output_type": "display_data"
    },
    {
     "name": "stdout",
     "output_type": "stream",
     "text": [
      "              precision    recall  f1-score   support\n",
      "\n",
      "         0.0       0.84      0.75      0.79      1988\n",
      "         1.0       0.76      0.85      0.80      1884\n",
      "\n",
      "    accuracy                           0.80      3872\n",
      "   macro avg       0.80      0.80      0.80      3872\n",
      "weighted avg       0.80      0.80      0.80      3872\n",
      "\n",
      "准确率 0.7982954545454546\n",
      "召回率 0.8503184713375797\n",
      "AUC值 0.8815878284569412\n",
      "\n",
      "中低费用\n"
     ]
    },
    {
     "name": "stderr",
     "output_type": "stream",
     "text": [
      "C:\\Users\\yang\\Anaconda3\\lib\\site-packages\\sklearn\\neural_network\\_multilayer_perceptron.py:500: ConvergenceWarning: lbfgs failed to converge (status=1):\n",
      "STOP: TOTAL NO. of ITERATIONS REACHED LIMIT.\n",
      "\n",
      "Increase the number of iterations (max_iter) or scale the data as shown in:\n",
      "    https://scikit-learn.org/stable/modules/preprocessing.html\n",
      "  self.n_iter_ = _check_optimize_result(\"lbfgs\", opt_res, self.max_iter)\n"
     ]
    },
    {
     "data": {
      "image/png": "[encoded data removed]",
      "text/plain": [
       "<Figure size 288x288 with 2 Axes>"
      ]
     },
     "metadata": {},
     "output_type": "display_data"
    },
    {
     "data": {
      "image/png": "[encoded data removed]",
      "text/plain": [
       "<Figure size 432x288 with 1 Axes>"
      ]
     },
     "metadata": {},
     "output_type": "display_data"
    },
    {
     "name": "stdout",
     "output_type": "stream",
     "text": [
      "              precision    recall  f1-score   support\n",
      "\n",
      "         0.0       0.84      0.74      0.78      1999\n",
      "         1.0       0.75      0.85      0.80      1873\n",
      "\n",
      "    accuracy                           0.79      3872\n",
      "   macro avg       0.79      0.79      0.79      3872\n",
      "weighted avg       0.80      0.79      0.79      3872\n",
      "\n",
      "准确率 0.7900309917355371\n",
      "召回率 0.8462359850507207\n",
      "AUC值 0.8736494515276859\n",
      "\n",
      "一般费用\n"
     ]
    },
    {
     "name": "stderr",
     "output_type": "stream",
     "text": [
      "C:\\Users\\yang\\Anaconda3\\lib\\site-packages\\sklearn\\neural_network\\_multilayer_perceptron.py:500: ConvergenceWarning: lbfgs failed to converge (status=1):\n",
      "STOP: TOTAL NO. of ITERATIONS REACHED LIMIT.\n",
      "\n",
      "Increase the number of iterations (max_iter) or scale the data as shown in:\n",
      "    https://scikit-learn.org/stable/modules/preprocessing.html\n",
      "  self.n_iter_ = _check_optimize_result(\"lbfgs\", opt_res, self.max_iter)\n"
     ]
    },
    {
     "data": {
      "image/png": "[encoded data removed]",
      "text/plain": [
       "<Figure size 288x288 with 2 Axes>"
      ]
     },
     "metadata": {},
     "output_type": "display_data"
    },
    {
     "data": {
      "image/png": "[encoded data removed]",
      "text/plain": [
       "<Figure size 432x288 with 1 Axes>"
      ]
     },
     "metadata": {},
     "output_type": "display_data"
    },
    {
     "name": "stdout",
     "output_type": "stream",
     "text": [
      "              precision    recall  f1-score   support\n",
      "\n",
      "         0.0       0.82      0.73      0.77      1987\n",
      "         1.0       0.74      0.83      0.78      1885\n",
      "\n",
      "    accuracy                           0.78      3872\n",
      "   macro avg       0.78      0.78      0.78      3872\n",
      "weighted avg       0.78      0.78      0.78      3872\n",
      "\n",
      "准确率 0.7755681818181818\n",
      "召回率 0.826525198938992\n",
      "AUC值 0.8529809811520241\n",
      "\n",
      "中高费用\n"
     ]
    },
    {
     "name": "stderr",
     "output_type": "stream",
     "text": [
      "C:\\Users\\yang\\Anaconda3\\lib\\site-packages\\sklearn\\neural_network\\_multilayer_perceptron.py:500: ConvergenceWarning: lbfgs failed to converge (status=1):\n",
      "STOP: TOTAL NO. of ITERATIONS REACHED LIMIT.\n",
      "\n",
      "Increase the number of iterations (max_iter) or scale the data as shown in:\n",
      "    https://scikit-learn.org/stable/modules/preprocessing.html\n",
      "  self.n_iter_ = _check_optimize_result(\"lbfgs\", opt_res, self.max_iter)\n"
     ]
    },
    {
     "data": {
      "image/png": "[encoded data removed]",
      "text/plain": [
       "<Figure size 288x288 with 2 Axes>"
      ]
     },
     "metadata": {},
     "output_type": "display_data"
    },
    {
     "data": {
      "image/png": "[encoded data removed]",
      "text/plain": [
       "<Figure size 432x288 with 1 Axes>"
      ]
     },
     "metadata": {},
     "output_type": "display_data"
    },
    {
     "name": "stdout",
     "output_type": "stream",
     "text": [
      "              precision    recall  f1-score   support\n",
      "\n",
      "         0.0       0.79      0.74      0.76      1931\n",
      "         1.0       0.76      0.80      0.78      1941\n",
      "\n",
      "    accuracy                           0.77      3872\n",
      "   macro avg       0.77      0.77      0.77      3872\n",
      "weighted avg       0.77      0.77      0.77      3872\n",
      "\n",
      "准确率 0.7714359504132231\n",
      "召回率 0.8021638330757341\n",
      "AUC值 0.8414304318141252\n",
      "\n",
      "高费用\n"
     ]
    },
    {
     "name": "stderr",
     "output_type": "stream",
     "text": [
      "C:\\Users\\yang\\Anaconda3\\lib\\site-packages\\sklearn\\neural_network\\_multilayer_perceptron.py:500: ConvergenceWarning: lbfgs failed to converge (status=1):\n",
      "STOP: TOTAL NO. of ITERATIONS REACHED LIMIT.\n",
      "\n",
      "Increase the number of iterations (max_iter) or scale the data as shown in:\n",
      "    https://scikit-learn.org/stable/modules/preprocessing.html\n",
      "  self.n_iter_ = _check_optimize_result(\"lbfgs\", opt_res, self.max_iter)\n"
     ]
    },
    {
     "data": {
      "image/png": "[encoded data removed]",
      "text/plain": [
       "<Figure size 288x288 with 2 Axes>"
      ]
     },
     "metadata": {},
     "output_type": "display_data"
    },
    {
     "data": {
      "image/png": "[encoded data removed]",
      "text/plain": [
       "<Figure size 432x288 with 1 Axes>"
      ]
     },
     "metadata": {},
     "output_type": "display_data"
    },
    {
     "name": "stdout",
     "output_type": "stream",
     "text": [
      "              precision    recall  f1-score   support\n",
      "\n",
      "         0.0       0.82      0.72      0.77      1973\n",
      "         1.0       0.74      0.84      0.78      1899\n",
      "\n",
      "    accuracy                           0.78      3872\n",
      "   macro avg       0.78      0.78      0.78      3872\n",
      "weighted avg       0.78      0.78      0.77      3872\n",
      "\n",
      "准确率 0.7755681818181818\n",
      "召回率 0.8351764086361243\n",
      "AUC值 0.8488659568738263\n",
      "\n",
      ">>>>>>>>>>>>>>>>>>>>>>>>>>>> 朴素贝叶斯 <<<<<<<<<<<<<<<<<<<<<<<<<<<<<<<<<<<<<<<<<\n",
      "                        \n",
      "低费用\n"
     ]
    },
    {
     "data": {
      "image/png": "[encoded data removed]",
      "text/plain": [
       "<Figure size 288x288 with 2 Axes>"
      ]
     },
     "metadata": {},
     "output_type": "display_data"
    },
    {
     "data": {
      "image/png": "[encoded data removed]",
      "text/plain": [
       "<Figure size 432x288 with 1 Axes>"
      ]
     },
     "metadata": {},
     "output_type": "display_data"
    },
    {
     "name": "stdout",
     "output_type": "stream",
     "text": [
      "              precision    recall  f1-score   support\n",
      "\n",
      "         0.0       0.79      0.64      0.71      1947\n",
      "         1.0       0.69      0.83      0.76      1925\n",
      "\n",
      "    accuracy                           0.73      3872\n",
      "   macro avg       0.74      0.73      0.73      3872\n",
      "weighted avg       0.74      0.73      0.73      3872\n",
      "\n",
      "准确率 0.734245867768595\n",
      "召回率 0.8322077922077922\n",
      "AUC值 0.803183452397628\n",
      "\n",
      "中低费用\n"
     ]
    },
    {
     "data": {
      "image/png": "[encoded data removed]",
      "text/plain": [
       "<Figure size 288x288 with 2 Axes>"
      ]
     },
     "metadata": {},
     "output_type": "display_data"
    },
    {
     "data": {
      "image/png": "[encoded data removed]",
      "text/plain": [
       "<Figure size 432x288 with 1 Axes>"
      ]
     },
     "metadata": {},
     "output_type": "display_data"
    },
    {
     "name": "stdout",
     "output_type": "stream",
     "text": [
      "              precision    recall  f1-score   support\n",
      "\n",
      "         0.0       0.78      0.67      0.72      1986\n",
      "         1.0       0.70      0.80      0.74      1886\n",
      "\n",
      "    accuracy                           0.73      3872\n",
      "   macro avg       0.74      0.73      0.73      3872\n",
      "weighted avg       0.74      0.73      0.73      3872\n",
      "\n",
      "准确率 0.7329545454545454\n",
      "召回率 0.7979851537645811\n",
      "AUC值 0.800434697175029\n",
      "\n",
      "一般费用\n"
     ]
    },
    {
     "data": {
      "image/png": "[encoded data removed]",
      "text/plain": [
       "<Figure size 288x288 with 2 Axes>"
      ]
     },
     "metadata": {},
     "output_type": "display_data"
    },
    {
     "data": {
      "image/png": "[encoded data removed]",
      "text/plain": [
       "<Figure size 432x288 with 1 Axes>"
      ]
     },
     "metadata": {},
     "output_type": "display_data"
    },
    {
     "name": "stdout",
     "output_type": "stream",
     "text": [
      "              precision    recall  f1-score   support\n",
      "\n",
      "         0.0       0.80      0.67      0.73      1953\n",
      "         1.0       0.71      0.83      0.77      1919\n",
      "\n",
      "    accuracy                           0.75      3872\n",
      "   macro avg       0.76      0.75      0.75      3872\n",
      "weighted avg       0.76      0.75      0.75      3872\n",
      "\n",
      "准确率 0.7512913223140496\n",
      "召回率 0.8337675872850443\n",
      "AUC值 0.8094933917354868\n",
      "\n",
      "中高费用\n"
     ]
    },
    {
     "data": {
      "image/png": "[encoded data removed]",
      "text/plain": [
       "<Figure size 288x288 with 2 Axes>"
      ]
     },
     "metadata": {},
     "output_type": "display_data"
    },
    {
     "data": {
      "image/png": "[encoded data removed]",
      "text/plain": [
       "<Figure size 432x288 with 1 Axes>"
      ]
     },
     "metadata": {},
     "output_type": "display_data"
    },
    {
     "name": "stdout",
     "output_type": "stream",
     "text": [
      "              precision    recall  f1-score   support\n",
      "\n",
      "         0.0       0.79      0.64      0.71      1988\n",
      "         1.0       0.68      0.82      0.74      1884\n",
      "\n",
      "    accuracy                           0.73      3872\n",
      "   macro avg       0.74      0.73      0.73      3872\n",
      "weighted avg       0.74      0.73      0.72      3872\n",
      "\n",
      "准确率 0.7264979338842975\n",
      "召回率 0.8174097664543525\n",
      "AUC值 0.789150374647033\n",
      "\n",
      "高费用\n"
     ]
    },
    {
     "data": {
      "image/png": "[encoded data removed]",
      "text/plain": [
       "<Figure size 288x288 with 2 Axes>"
      ]
     },
     "metadata": {},
     "output_type": "display_data"
    },
    {
     "data": {
      "image/png": "[encoded data removed]",
      "text/plain": [
       "<Figure size 432x288 with 1 Axes>"
      ]
     },
     "metadata": {},
     "output_type": "display_data"
    },
    {
     "name": "stdout",
     "output_type": "stream",
     "text": [
      "              precision    recall  f1-score   support\n",
      "\n",
      "         0.0       0.86      0.47      0.60      1975\n",
      "         1.0       0.62      0.92      0.74      1897\n",
      "\n",
      "    accuracy                           0.69      3872\n",
      "   macro avg       0.74      0.69      0.67      3872\n",
      "weighted avg       0.74      0.69      0.67      3872\n",
      "\n",
      "准确率 0.68775826446281\n",
      "召回率 0.9188191881918819\n",
      "AUC值 0.791362377638243\n",
      "\n",
      ">>>>>>>>>>>>>>>>>>>>>>>>>>>> 支持向量机 <<<<<<<<<<<<<<<<<<<<<<<<<<<<<<<<<<<<<<<<<\n",
      "                        \n",
      "低费用\n"
     ]
    },
    {
     "data": {
      "image/png": "[encoded data removed]",
      "text/plain": [
       "<Figure size 288x288 with 2 Axes>"
      ]
     },
     "metadata": {},
     "output_type": "display_data"
    },
    {
     "data": {
      "image/png": "[encoded data removed]",
      "text/plain": [
       "<Figure size 432x288 with 1 Axes>"
      ]
     },
     "metadata": {},
     "output_type": "display_data"
    },
    {
     "name": "stdout",
     "output_type": "stream",
     "text": [
      "              precision    recall  f1-score   support\n",
      "\n",
      "         0.0       0.82      0.77      0.79      1981\n",
      "         1.0       0.77      0.82      0.79      1891\n",
      "\n",
      "    accuracy                           0.79      3872\n",
      "   macro avg       0.79      0.79      0.79      3872\n",
      "weighted avg       0.79      0.79      0.79      3872\n",
      "\n",
      "准确率 0.7928719008264463\n",
      "召回率 0.8207297726070862\n",
      "AUC值 0.8646819561081465\n",
      "\n",
      "中低费用\n"
     ]
    },
    {
     "data": {
      "image/png": "[encoded data removed]",
      "text/plain": [
       "<Figure size 288x288 with 2 Axes>"
      ]
     },
     "metadata": {},
     "output_type": "display_data"
    },
    {
     "data": {
      "image/png": "[encoded data removed]",
      "text/plain": [
       "<Figure size 432x288 with 1 Axes>"
      ]
     },
     "metadata": {},
     "output_type": "display_data"
    },
    {
     "name": "stdout",
     "output_type": "stream",
     "text": [
      "              precision    recall  f1-score   support\n",
      "\n",
      "         0.0       0.83      0.74      0.78      2007\n",
      "         1.0       0.75      0.83      0.79      1865\n",
      "\n",
      "    accuracy                           0.78      3872\n",
      "   macro avg       0.79      0.79      0.78      3872\n",
      "weighted avg       0.79      0.78      0.78      3872\n",
      "\n",
      "准确率 0.7846074380165289\n",
      "召回率 0.83485254691689\n",
      "AUC值 0.8564028580931886\n",
      "\n",
      "一般费用\n"
     ]
    },
    {
     "data": {
      "image/png": "[encoded data removed]",
      "text/plain": [
       "<Figure size 288x288 with 2 Axes>"
      ]
     },
     "metadata": {},
     "output_type": "display_data"
    },
    {
     "data": {
      "image/png": "[encoded data removed]",
      "text/plain": [
       "<Figure size 432x288 with 1 Axes>"
      ]
     },
     "metadata": {},
     "output_type": "display_data"
    },
    {
     "name": "stdout",
     "output_type": "stream",
     "text": [
      "              precision    recall  f1-score   support\n",
      "\n",
      "         0.0       0.82      0.74      0.77      1935\n",
      "         1.0       0.76      0.84      0.80      1937\n",
      "\n",
      "    accuracy                           0.79      3872\n",
      "   macro avg       0.79      0.79      0.79      3872\n",
      "weighted avg       0.79      0.79      0.79      3872\n",
      "\n",
      "准确率 0.7861570247933884\n",
      "召回率 0.8363448631905007\n",
      "AUC值 0.8540712015036972\n",
      "\n",
      "中高费用\n"
     ]
    },
    {
     "data": {
      "image/png": "[encoded data removed]",
      "text/plain": [
       "<Figure size 288x288 with 2 Axes>"
      ]
     },
     "metadata": {},
     "output_type": "display_data"
    },
    {
     "data": {
      "image/png": "[encoded data removed]",
      "text/plain": [
       "<Figure size 432x288 with 1 Axes>"
      ]
     },
     "metadata": {},
     "output_type": "display_data"
    },
    {
     "name": "stdout",
     "output_type": "stream",
     "text": [
      "              precision    recall  f1-score   support\n",
      "\n",
      "         0.0       0.79      0.74      0.76      2000\n",
      "         1.0       0.74      0.80      0.77      1872\n",
      "\n",
      "    accuracy                           0.77      3872\n",
      "   macro avg       0.77      0.77      0.77      3872\n",
      "weighted avg       0.77      0.77      0.77      3872\n",
      "\n",
      "准确率 0.765495867768595\n",
      "召回率 0.7959401709401709\n",
      "AUC值 0.8339276175213675\n",
      "\n",
      "高费用\n"
     ]
    },
    {
     "data": {
      "image/png": "[encoded data removed]",
      "text/plain": [
       "<Figure size 288x288 with 2 Axes>"
      ]
     },
     "metadata": {},
     "output_type": "display_data"
    },
    {
     "data": {
      "image/png": "[encoded data removed]",
      "text/plain": [
       "<Figure size 432x288 with 1 Axes>"
      ]
     },
     "metadata": {},
     "output_type": "display_data"
    },
    {
     "name": "stdout",
     "output_type": "stream",
     "text": [
      "              precision    recall  f1-score   support\n",
      "\n",
      "         0.0       0.80      0.70      0.75      1905\n",
      "         1.0       0.74      0.83      0.78      1967\n",
      "\n",
      "    accuracy                           0.77      3872\n",
      "   macro avg       0.77      0.76      0.76      3872\n",
      "weighted avg       0.77      0.77      0.76      3872\n",
      "\n",
      "准确率 0.7652376033057852\n",
      "召回率 0.8301982714794103\n",
      "AUC值 0.8417286807120641\n",
      "\n",
      "准确率\n",
      "{'决策树低费用': 0.8277376033057852, '决策树中低费用': 0.8416838842975206, '决策树一般费用': 0.8341942148760331, '决策树中高费用': 0.8106921487603306, '决策树高费用': 0.828254132231405, '神经网络低费用': 0.7982954545454546, '神经网络中低费用': 0.7900309917355371, '神经网络一般费用': 0.7755681818181818, '神经网络中高费用': 0.7714359504132231, '神经网络高费用': 0.7755681818181818, '朴素贝叶斯低费用': 0.734245867768595, '朴素贝叶斯中低费用': 0.7329545454545454, '朴素贝叶斯一般费用': 0.7512913223140496, '朴素贝叶斯中高费用': 0.7264979338842975, '朴素贝叶斯高费用': 0.68775826446281, '支持向量机低费用': 0.7928719008264463, '支持向量机中低费用': 0.7846074380165289, '支持向量机一般费用': 0.7861570247933884, '支持向量机中高费用': 0.765495867768595, '支持向量机高费用': 0.7652376033057852}\n",
      "               \n",
      "召回率\n",
      "{'决策树低费用': 0.816465652857892, '决策树中低费用': 0.8726215644820295, '决策树一般费用': 0.8578865174388339, '决策树中高费用': 0.8114583333333333, '决策树高费用': 0.8308668076109936, '神经网络低费用': 0.8503184713375797, '神经网络中低费用': 0.8462359850507207, '神经网络一般费用': 0.826525198938992, '神经网络中高费用': 0.8021638330757341, '神经网络高费用': 0.8351764086361243, '朴素贝叶斯低费用': 0.8322077922077922, '朴素贝叶斯中低费用': 0.7979851537645811, '朴素贝叶斯一般费用': 0.8337675872850443, '朴素贝叶斯中高费用': 0.8174097664543525, '朴素贝叶斯高费用': 0.9188191881918819, '支持向量机低费用': 0.8207297726070862, '支持向量机中低费用': 0.83485254691689, '支持向量机一般费用': 0.8363448631905007, '支持向量机中高费用': 0.7959401709401709, '支持向量机高费用': 0.8301982714794103}\n",
      "               \n",
      "AUC\n",
      "{'决策树低费用': 0.8275712488208035, '决策树中低费用': 0.8423713883016208, '决策树一般费用': 0.8343763699444298, '决策树中高费用': 0.8106984289617486, '决策树高费用': 0.8283121916842846, '神经网络低费用': 0.8815878284569412, '神经网络中低费用': 0.8736494515276859, '神经网络一般费用': 0.8529809811520241, '神经网络中高费用': 0.8414304318141252, '神经网络高费用': 0.8488659568738263, '朴素贝叶斯低费用': 0.803183452397628, '朴素贝叶斯中低费用': 0.800434697175029, '朴素贝叶斯一般费用': 0.8094933917354868, '朴素贝叶斯中高费用': 0.789150374647033, '朴素贝叶斯高费用': 0.791362377638243, '支持向量机低费用': 0.8646819561081465, '支持向量机中低费用': 0.8564028580931886, '支持向量机一般费用': 0.8540712015036972, '支持向量机中高费用': 0.8339276175213675, '支持向量机高费用': 0.8417286807120641}\n",
      "               \n"
     ]
    }
   ],
   "source": [
    "from sklearn.preprocessing import StandardScaler \n",
    "from sklearn.tree import DecisionTreeClassifier,export_graphviz\n",
    "from sklearn.neural_network import MLPClassifier \n",
    "from sklearn.naive_bayes import GaussianNB \n",
    "from sklearn.svm import SVC \n",
    "from sklearn import metrics\n",
    "import joblib\n",
    "import numpy as np\n",
    "import pandas as pd\n",
    "from random import shuffle  #导入随机函数shuffle，用来打乱数据\n",
    "import matplotlib.pyplot as plt\n",
    "import graphviz\n",
    "from sklearn.metrics import roc_curve,classification_report,confusion_matrix,accuracy_score,recall_score,auc\n",
    "\n",
    "model = [DecisionTreeClassifier(),\n",
    "         MLPClassifier(hidden_layer_sizes=(17,10),max_iter = 200,solver= 'lbfgs',random_state=50),\n",
    "         GaussianNB(),\n",
    "         SVC(probability=True)]\n",
    "model_name = ['决策树','神经网络','朴素贝叶斯','支持向量机']\n",
    "clss = ['低费用','中低费用','一般费用','中高费用','高费用']\n",
    "准确率_anchor = {}\n",
    "召回率_anchor = {}\n",
    "AUC_anchor = {}\n",
    "for k in range(len(model)):\n",
    "    print('>>>>>>>>>>>>>>>>>>>>>>>>>>>>',model_name[k],'<<<<<<<<<<<<<<<<<<<<<<<<<<<<<<<<<<<<<<<<<')\n",
    "    print('                        ')\n",
    "    for i in range(len(clss)):\n",
    "        print(clss[i])\n",
    "        columns = res[clss[i]]+['IS_LOST']\n",
    "        n_data = data[columns]\n",
    "        positive_number = len(n_data[n_data['IS_LOST'] == 1])\n",
    "        positive_indices = np.array(n_data[n_data['IS_LOST'] == 1].index)#.index是取出y=1对应的索引，并转化成np形式\n",
    "        negative_indices = np.array(n_data[n_data['IS_LOST'] == 0].index)#.index是取出y=0对应的索引，并转化成np形式\n",
    "        random_negative_indices = np.random.choice(negative_indices, positive_number, replace=False)#从negative_indices中选择出positive_number个数来，replace=false表没有重复替换的随机采样，也就是采出来的数据如果是一样的，不替换，也就是独立的。\n",
    "        random_negative_indices = np.array(random_negative_indices)#选出来的数做成np格式\n",
    "        under_sample_indices = np.concatenate([positive_indices, random_negative_indices])#把两个数组串联起来\n",
    "        under_sample_data = n_data[n_data.index.isin(under_sample_indices)]\n",
    "        under_sample_data = under_sample_data.values #将表格转换为矩阵 \n",
    "        shuffle(under_sample_data)\n",
    "        p = 0.8 #设置训练数据比例\n",
    "        x_train = under_sample_data[:int(len(under_sample_data)*p),:][:,:-1] #前80%为训练集\n",
    "        y_train = under_sample_data[:int(len(under_sample_data)*p),:][:,-1]\n",
    "        x_test = under_sample_data[int(len(under_sample_data)*p):,:][:,:-1] #后20%为测试集\n",
    "        y_test = under_sample_data[int(len(under_sample_data)*p):,:][:,-1]    \n",
    "        stdScaler = StandardScaler().fit(x_train)\n",
    "        x_train_std = stdScaler.transform(x_train)\n",
    "        x_test_std = stdScaler.transform(x_test)\n",
    "        clf = model[k]\n",
    "        clf.fit(x_train_std,y_train) #训练\n",
    "        pre = clf.predict(x_test_std)\n",
    "        cm_plot(y_test,pre).show() #显示混淆矩阵可视化结果\n",
    "        fpr, tpr, thresholds = roc_curve(y_test,clf.predict_proba(x_test_std)[:,1], pos_label=1)\n",
    "        plt.plot(fpr, tpr, linewidth=2, label = 'ROC of CART', color = 'green') #作出ROC曲线\n",
    "        plt.xlabel('False Positive Rate') #坐标轴标签\n",
    "        plt.ylabel('True Positive Rate') #坐标轴标签\n",
    "        plt.ylim(0,1.05) #边界范围\n",
    "        plt.xlim(0,1.05) #边界范围\n",
    "        plt.legend(loc=4) #图例\n",
    "        plt.show() #显示作图结果\n",
    "        pre == y_test    # 比较模型预测值与样本实际值是否一致\n",
    "        print(classification_report(y_test, pre))\n",
    "        print('准确率',accuracy_score(y_test, pre))\n",
    "        准确率_anchor[model_name[k]+clss[i]] = accuracy_score(y_test, pre)\n",
    "        print('召回率',recall_score(y_test, pre))\n",
    "        召回率_anchor[model_name[k]+clss[i]] = recall_score(y_test, pre)\n",
    "        print('AUC值',metrics.auc(fpr,tpr))\n",
    "        AUC_anchor[model_name[k]+clss[i]] = metrics.auc(fpr,tpr)\n",
    "        print('')\n",
    "print('准确率')\n",
    "print(准确率_anchor)\n",
    "print(\"               \")\n",
    "print('召回率')\n",
    "print(召回率_anchor)\n",
    "print(\"               \")\n",
    "print('AUC')\n",
    "print(AUC_anchor)\n",
    "print(\"               \")"
   ]
  },
  {
   "cell_type": "code",
   "execution_count": 30,
   "metadata": {},
   "outputs": [
    {
     "data": {
      "text/html": [
       "<div>\n",
       "<style scoped>\n",
       "    .dataframe tbody tr th:only-of-type {\n",
       "        vertical-align: middle;\n",
       "    }\n",
       "\n",
       "    .dataframe tbody tr th {\n",
       "        vertical-align: top;\n",
       "    }\n",
       "\n",
       "    .dataframe thead th {\n",
       "        text-align: right;\n",
       "    }\n",
       "</style>\n",
       "<table border=\"1\" class=\"dataframe\">\n",
       "  <thead>\n",
       "    <tr style=\"text-align: right;\">\n",
       "      <th></th>\n",
       "      <th>准确率</th>\n",
       "      <th>召回率</th>\n",
       "      <th>AUC</th>\n",
       "      <th>labels</th>\n",
       "    </tr>\n",
       "  </thead>\n",
       "  <tbody>\n",
       "    <tr>\n",
       "      <th>神经网络高费用</th>\n",
       "      <td>0.775568</td>\n",
       "      <td>0.835176</td>\n",
       "      <td>0.848866</td>\n",
       "      <td>高费用</td>\n",
       "    </tr>\n",
       "    <tr>\n",
       "      <th>支持向量机高费用</th>\n",
       "      <td>0.765238</td>\n",
       "      <td>0.830198</td>\n",
       "      <td>0.841729</td>\n",
       "      <td>高费用</td>\n",
       "    </tr>\n",
       "    <tr>\n",
       "      <th>决策树高费用</th>\n",
       "      <td>0.828254</td>\n",
       "      <td>0.830867</td>\n",
       "      <td>0.828312</td>\n",
       "      <td>高费用</td>\n",
       "    </tr>\n",
       "    <tr>\n",
       "      <th>朴素贝叶斯高费用</th>\n",
       "      <td>0.687758</td>\n",
       "      <td>0.918819</td>\n",
       "      <td>0.791362</td>\n",
       "      <td>高费用</td>\n",
       "    </tr>\n",
       "    <tr>\n",
       "      <th>神经网络低费用</th>\n",
       "      <td>0.798295</td>\n",
       "      <td>0.850318</td>\n",
       "      <td>0.881588</td>\n",
       "      <td>低费用</td>\n",
       "    </tr>\n",
       "    <tr>\n",
       "      <th>支持向量机低费用</th>\n",
       "      <td>0.792872</td>\n",
       "      <td>0.820730</td>\n",
       "      <td>0.864682</td>\n",
       "      <td>低费用</td>\n",
       "    </tr>\n",
       "    <tr>\n",
       "      <th>决策树低费用</th>\n",
       "      <td>0.827738</td>\n",
       "      <td>0.816466</td>\n",
       "      <td>0.827571</td>\n",
       "      <td>低费用</td>\n",
       "    </tr>\n",
       "    <tr>\n",
       "      <th>朴素贝叶斯低费用</th>\n",
       "      <td>0.734246</td>\n",
       "      <td>0.832208</td>\n",
       "      <td>0.803183</td>\n",
       "      <td>低费用</td>\n",
       "    </tr>\n",
       "    <tr>\n",
       "      <th>神经网络中高费用</th>\n",
       "      <td>0.771436</td>\n",
       "      <td>0.802164</td>\n",
       "      <td>0.841430</td>\n",
       "      <td>中高费用</td>\n",
       "    </tr>\n",
       "    <tr>\n",
       "      <th>支持向量机中高费用</th>\n",
       "      <td>0.765496</td>\n",
       "      <td>0.795940</td>\n",
       "      <td>0.833928</td>\n",
       "      <td>中高费用</td>\n",
       "    </tr>\n",
       "    <tr>\n",
       "      <th>决策树中高费用</th>\n",
       "      <td>0.810692</td>\n",
       "      <td>0.811458</td>\n",
       "      <td>0.810698</td>\n",
       "      <td>中高费用</td>\n",
       "    </tr>\n",
       "    <tr>\n",
       "      <th>朴素贝叶斯中高费用</th>\n",
       "      <td>0.726498</td>\n",
       "      <td>0.817410</td>\n",
       "      <td>0.789150</td>\n",
       "      <td>中高费用</td>\n",
       "    </tr>\n",
       "    <tr>\n",
       "      <th>神经网络中低费用</th>\n",
       "      <td>0.790031</td>\n",
       "      <td>0.846236</td>\n",
       "      <td>0.873649</td>\n",
       "      <td>中低费用</td>\n",
       "    </tr>\n",
       "    <tr>\n",
       "      <th>支持向量机中低费用</th>\n",
       "      <td>0.784607</td>\n",
       "      <td>0.834853</td>\n",
       "      <td>0.856403</td>\n",
       "      <td>中低费用</td>\n",
       "    </tr>\n",
       "    <tr>\n",
       "      <th>决策树中低费用</th>\n",
       "      <td>0.841684</td>\n",
       "      <td>0.872622</td>\n",
       "      <td>0.842371</td>\n",
       "      <td>中低费用</td>\n",
       "    </tr>\n",
       "    <tr>\n",
       "      <th>朴素贝叶斯中低费用</th>\n",
       "      <td>0.732955</td>\n",
       "      <td>0.797985</td>\n",
       "      <td>0.800435</td>\n",
       "      <td>中低费用</td>\n",
       "    </tr>\n",
       "    <tr>\n",
       "      <th>支持向量机一般费用</th>\n",
       "      <td>0.786157</td>\n",
       "      <td>0.836345</td>\n",
       "      <td>0.854071</td>\n",
       "      <td>一般费用</td>\n",
       "    </tr>\n",
       "    <tr>\n",
       "      <th>神经网络一般费用</th>\n",
       "      <td>0.775568</td>\n",
       "      <td>0.826525</td>\n",
       "      <td>0.852981</td>\n",
       "      <td>一般费用</td>\n",
       "    </tr>\n",
       "    <tr>\n",
       "      <th>决策树一般费用</th>\n",
       "      <td>0.834194</td>\n",
       "      <td>0.857887</td>\n",
       "      <td>0.834376</td>\n",
       "      <td>一般费用</td>\n",
       "    </tr>\n",
       "    <tr>\n",
       "      <th>朴素贝叶斯一般费用</th>\n",
       "      <td>0.751291</td>\n",
       "      <td>0.833768</td>\n",
       "      <td>0.809493</td>\n",
       "      <td>一般费用</td>\n",
       "    </tr>\n",
       "  </tbody>\n",
       "</table>\n",
       "</div>"
      ],
      "text/plain": [
       "                准确率       召回率       AUC labels\n",
       "神经网络高费用    0.775568  0.835176  0.848866    高费用\n",
       "支持向量机高费用   0.765238  0.830198  0.841729    高费用\n",
       "决策树高费用     0.828254  0.830867  0.828312    高费用\n",
       "朴素贝叶斯高费用   0.687758  0.918819  0.791362    高费用\n",
       "神经网络低费用    0.798295  0.850318  0.881588    低费用\n",
       "支持向量机低费用   0.792872  0.820730  0.864682    低费用\n",
       "决策树低费用     0.827738  0.816466  0.827571    低费用\n",
       "朴素贝叶斯低费用   0.734246  0.832208  0.803183    低费用\n",
       "神经网络中高费用   0.771436  0.802164  0.841430   中高费用\n",
       "支持向量机中高费用  0.765496  0.795940  0.833928   中高费用\n",
       "决策树中高费用    0.810692  0.811458  0.810698   中高费用\n",
       "朴素贝叶斯中高费用  0.726498  0.817410  0.789150   中高费用\n",
       "神经网络中低费用   0.790031  0.846236  0.873649   中低费用\n",
       "支持向量机中低费用  0.784607  0.834853  0.856403   中低费用\n",
       "决策树中低费用    0.841684  0.872622  0.842371   中低费用\n",
       "朴素贝叶斯中低费用  0.732955  0.797985  0.800435   中低费用\n",
       "支持向量机一般费用  0.786157  0.836345  0.854071   一般费用\n",
       "神经网络一般费用   0.775568  0.826525  0.852981   一般费用\n",
       "决策树一般费用    0.834194  0.857887  0.834376   一般费用\n",
       "朴素贝叶斯一般费用  0.751291  0.833768  0.809493   一般费用"
      ]
     },
     "execution_count": 30,
     "metadata": {},
     "output_type": "execute_result"
    }
   ],
   "source": [
    "import pandas as pd\n",
    "\n",
    "res = pd.concat([pd.Series(准确率_anchor), pd.Series(召回率_anchor), pd.Series(AUC_anchor)], axis=1)\n",
    "res.columns = ['准确率', '召回率', 'AUC']\n",
    "res['labels'] = res.index\n",
    "res['labels'] = res['labels'].str.replace('决策树|神经网络|支持向量机|朴素贝叶斯', '')\n",
    "res.sort_values(['labels', 'AUC'], ascending=False)"
   ]
  },
  {
   "cell_type": "code",
   "execution_count": null,
   "metadata": {},
   "outputs": [],
   "source": []
  }
 ],
 "metadata": {
  "kernelspec": {
   "display_name": "Python 3",
   "language": "python",
   "name": "python3"
  },
  "language_info": {
   "codemirror_mode": {
    "name": "ipython",
    "version": 3
   },
   "file_extension": ".py",
   "mimetype": "text/x-python",
   "name": "python",
   "nbconvert_exporter": "python",
   "pygments_lexer": "ipython3",
   "version": "3.8.8"
  },
  "toc": {
   "base_numbering": 1,
   "nav_menu": {},
   "number_sections": true,
   "sideBar": true,
   "skip_h1_title": false,
   "title_cell": "Table of Contents",
   "title_sidebar": "Contents",
   "toc_cell": false,
   "toc_position": {},
   "toc_section_display": true,
   "toc_window_display": false
  }
 },
 "nbformat": 4,
 "nbformat_minor": 2
}
