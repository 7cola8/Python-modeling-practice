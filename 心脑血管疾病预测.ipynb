{
 "cells": [
  {
   "cell_type": "code",
   "execution_count": 1,
   "id": "b0f1c84c",
   "metadata": {},
   "outputs": [
    {
     "data": {
      "text/html": [
       "<div>\n",
       "<style scoped>\n",
       "    .dataframe tbody tr th:only-of-type {\n",
       "        vertical-align: middle;\n",
       "    }\n",
       "\n",
       "    .dataframe tbody tr th {\n",
       "        vertical-align: top;\n",
       "    }\n",
       "\n",
       "    .dataframe thead th {\n",
       "        text-align: right;\n",
       "    }\n",
       "</style>\n",
       "<table border=\"1\" class=\"dataframe\">\n",
       "  <thead>\n",
       "    <tr style=\"text-align: right;\">\n",
       "      <th></th>\n",
       "      <th>age</th>\n",
       "      <th>gender</th>\n",
       "      <th>height</th>\n",
       "      <th>weight</th>\n",
       "      <th>ap_hi</th>\n",
       "      <th>ap_lo</th>\n",
       "      <th>cholesterol</th>\n",
       "      <th>gluc</th>\n",
       "      <th>smoke</th>\n",
       "      <th>alco</th>\n",
       "      <th>active</th>\n",
       "      <th>cardio</th>\n",
       "    </tr>\n",
       "    <tr>\n",
       "      <th>id</th>\n",
       "      <th></th>\n",
       "      <th></th>\n",
       "      <th></th>\n",
       "      <th></th>\n",
       "      <th></th>\n",
       "      <th></th>\n",
       "      <th></th>\n",
       "      <th></th>\n",
       "      <th></th>\n",
       "      <th></th>\n",
       "      <th></th>\n",
       "      <th></th>\n",
       "    </tr>\n",
       "  </thead>\n",
       "  <tbody>\n",
       "    <tr>\n",
       "      <th>0</th>\n",
       "      <td>18393</td>\n",
       "      <td>2</td>\n",
       "      <td>168</td>\n",
       "      <td>62.0</td>\n",
       "      <td>110</td>\n",
       "      <td>80</td>\n",
       "      <td>1</td>\n",
       "      <td>1</td>\n",
       "      <td>0</td>\n",
       "      <td>0</td>\n",
       "      <td>1</td>\n",
       "      <td>0</td>\n",
       "    </tr>\n",
       "    <tr>\n",
       "      <th>1</th>\n",
       "      <td>20228</td>\n",
       "      <td>1</td>\n",
       "      <td>156</td>\n",
       "      <td>85.0</td>\n",
       "      <td>140</td>\n",
       "      <td>90</td>\n",
       "      <td>3</td>\n",
       "      <td>1</td>\n",
       "      <td>0</td>\n",
       "      <td>0</td>\n",
       "      <td>1</td>\n",
       "      <td>1</td>\n",
       "    </tr>\n",
       "    <tr>\n",
       "      <th>2</th>\n",
       "      <td>18857</td>\n",
       "      <td>1</td>\n",
       "      <td>165</td>\n",
       "      <td>64.0</td>\n",
       "      <td>130</td>\n",
       "      <td>70</td>\n",
       "      <td>3</td>\n",
       "      <td>1</td>\n",
       "      <td>0</td>\n",
       "      <td>0</td>\n",
       "      <td>0</td>\n",
       "      <td>1</td>\n",
       "    </tr>\n",
       "    <tr>\n",
       "      <th>3</th>\n",
       "      <td>17623</td>\n",
       "      <td>2</td>\n",
       "      <td>169</td>\n",
       "      <td>82.0</td>\n",
       "      <td>150</td>\n",
       "      <td>100</td>\n",
       "      <td>1</td>\n",
       "      <td>1</td>\n",
       "      <td>0</td>\n",
       "      <td>0</td>\n",
       "      <td>1</td>\n",
       "      <td>1</td>\n",
       "    </tr>\n",
       "    <tr>\n",
       "      <th>4</th>\n",
       "      <td>17474</td>\n",
       "      <td>1</td>\n",
       "      <td>156</td>\n",
       "      <td>56.0</td>\n",
       "      <td>100</td>\n",
       "      <td>60</td>\n",
       "      <td>1</td>\n",
       "      <td>1</td>\n",
       "      <td>0</td>\n",
       "      <td>0</td>\n",
       "      <td>0</td>\n",
       "      <td>0</td>\n",
       "    </tr>\n",
       "  </tbody>\n",
       "</table>\n",
       "</div>"
      ],
      "text/plain": [
       "      age  gender  height  weight  ap_hi  ap_lo  cholesterol  gluc  smoke  \\\n",
       "id                                                                          \n",
       "0   18393       2     168    62.0    110     80            1     1      0   \n",
       "1   20228       1     156    85.0    140     90            3     1      0   \n",
       "2   18857       1     165    64.0    130     70            3     1      0   \n",
       "3   17623       2     169    82.0    150    100            1     1      0   \n",
       "4   17474       1     156    56.0    100     60            1     1      0   \n",
       "\n",
       "    alco  active  cardio  \n",
       "id                        \n",
       "0      0       1       0  \n",
       "1      0       1       1  \n",
       "2      0       0       1  \n",
       "3      0       1       1  \n",
       "4      0       0       0  "
      ]
     },
     "execution_count": 1,
     "metadata": {},
     "output_type": "execute_result"
    }
   ],
   "source": [
    "#二分类任务：只有发病不发病\n",
    "#目标：根据指标建立模型，可以准确识别心脑血管疾病\n",
    "#重点：数据分析与探索，优化模型\n",
    "import numpy as np\n",
    "import pandas as pd\n",
    "import matplotlib.pyplot as plt\n",
    "from sklearn.model_selection import train_test_split\n",
    "from sklearn.tree import DecisionTreeClassifier\n",
    "from sklearn.metrics import accuracy_score\n",
    "import matplotlib.pyplot as plt\n",
    "import seaborn as sns\n",
    "from sklearn.model_selection import KFold\n",
    "from sklearn.linear_model import LogisticRegressionCV\n",
    "from sklearn.neighbors import KNeighborsClassifier\n",
    "from sklearn.preprocessing import StandardScaler\n",
    "from tqdm import tqdm#进度条工具\n",
    "data=pd.read_csv('C:/Users/86156/Desktop/生产实习/cardio_train.csv',\n",
    "                sep=';',#设置分隔符\n",
    "                index_col=0)\n",
    "data.head()"
   ]
  },
  {
   "cell_type": "code",
   "execution_count": 2,
   "id": "c0d1aab1",
   "metadata": {},
   "outputs": [
    {
     "data": {
      "text/plain": [
       "<matplotlib.legend.Legend at 0x1b90be784f0>"
      ]
     },
     "execution_count": 2,
     "metadata": {},
     "output_type": "execute_result"
    },
    {
     "data": {
      "image/png": "[encoded data removed]",
      "text/plain": [
       "<Figure size 432x288 with 1 Axes>"
      ]
     },
     "metadata": {
      "needs_background": "light"
     },
     "output_type": "display_data"
    }
   ],
   "source": [
    "#特征探索\n",
    "#探索标签与数据之间的关系\n",
    "#年龄特征\n",
    "#把天数处理成年\n",
    "data['age']=data['age']/365\n",
    "data['age']=data['age'].astype('int')\n",
    "#round是取小数，括号里几位数字就几位小数，返回的是浮点型数\n",
    "# data['age'].round(0)\n",
    "#心脑血管疾病与年龄是否有关\n",
    "#数据透视表观察\n",
    "ans_age=pd.pivot_table(data,index='age',columns='cardio',\n",
    "               values='gender',#统计个数，随便挑一列\n",
    "               aggfunc='count'#统计方法\n",
    "              )\n",
    "#29，30人数较少，选择删除(dropna)\n",
    "ans_age=ans_age.dropna(axis=0,how='any')\n",
    "#数据可视化\n",
    "ans_age.plot.bar()\n",
    "plt.rcParams['font.sans-serif'] = ['SimHei']\n",
    "# 解决汉字显示为□指定默认字体为黑体。\n",
    "plt.rcParams['axes.unicode_minus'] = False  \n",
    "#解决保存图像时 负号'-' 显示为□和报错的问题。\n",
    "plt.legend(['没发病','发病'])"
   ]
  },
  {
   "cell_type": "code",
   "execution_count": 3,
   "id": "bf0479bd",
   "metadata": {},
   "outputs": [
    {
     "data": {
      "image/png": "[encoded data removed]",
      "text/plain": [
       "<Figure size 720x720 with 4 Axes>"
      ]
     },
     "metadata": {
      "needs_background": "light"
     },
     "output_type": "display_data"
    }
   ],
   "source": [
    "#同时探究四列\n",
    "#性别，吸烟喝酒，运动\n",
    "#参考上面方法，用for循环解决\n",
    "# ['gender','smoke','alco','active'] #列表\n",
    "# {'gender','smoke','alco','active'} #集合，运算：交并差\n",
    "# ('gender','smoke','alco','active') #元组：作为函数的参数进行传递\n",
    "# {'gender':1,'smoke':2,'alco':3,'active':4} #字典：关系映射\n",
    "# array(['gender','smoke','alco','active']) #数组\n",
    "\n",
    "#创建一个画布\n",
    "fig=plt.figure(figsize=(10,10))\n",
    "#创建一个列表放四个信息\n",
    "list1=['gender','smoke','alco','active']\n",
    "for ind,col in enumerate(list1):\n",
    "    ans_=pd.pivot_table(data,index=col,columns='cardio',\n",
    "               values='gluc',#统计个数，随便挑一列\n",
    "               aggfunc='count'#统计方法\n",
    "              )\n",
    "    #指定子图\n",
    "    ax_=fig.add_subplot(2,2,ind+1)\n",
    "    ans_.plot.bar(ax=ax_,#指定把图划到哪个子图里\n",
    "                 title=f'{col}与发病的关系',#设置一个标题\n",
    "                 label='人数')\n",
    "    plt.legend(['没发病','发病'])\n",
    "#添加一个大标题\n",
    "plt.suptitle('四个变量与发病的关系柱状图')\n",
    "#调整布局\n",
    "plt.tight_layout()\n",
    "#将图片保存下来方便使用\n",
    "plt.savefig('四个变量的关系.jpg')"
   ]
  },
  {
   "cell_type": "code",
   "execution_count": 4,
   "id": "4f229bb1",
   "metadata": {},
   "outputs": [
    {
     "data": {
      "text/plain": [
       "65.0    3850\n",
       "70.0    3764\n",
       "68.0    2831\n",
       "75.0    2740\n",
       "60.0    2710\n",
       "        ... \n",
       "64.8       1\n",
       "80.7       1\n",
       "61.3       1\n",
       "78.5       1\n",
       "74.3       1\n",
       "Name: weight, Length: 287, dtype: int64"
      ]
     },
     "execution_count": 4,
     "metadata": {},
     "output_type": "execute_result"
    },
    {
     "data": {
      "image/png": "[encoded data removed]",
      "text/plain": [
       "<Figure size 432x288 with 1 Axes>"
      ]
     },
     "metadata": {
      "needs_background": "light"
     },
     "output_type": "display_data"
    }
   ],
   "source": [
    "#身高体重\n",
    "#查看数据的分布\n",
    "data['height'].plot.hist(bins=100)\n",
    "#查看各变量分别有多少个\n",
    "data['weight'].value_counts()"
   ]
  },
  {
   "cell_type": "code",
   "execution_count": 5,
   "id": "9b408e50",
   "metadata": {},
   "outputs": [
    {
     "data": {
      "text/plain": [
       "Text(0, 0.5, '身高')"
      ]
     },
     "execution_count": 5,
     "metadata": {},
     "output_type": "execute_result"
    },
    {
     "data": {
      "image/png": "[encoded data removed]",
      "text/plain": [
       "<Figure size 432x288 with 1 Axes>"
      ]
     },
     "metadata": {
      "needs_background": "light"
     },
     "output_type": "display_data"
    }
   ],
   "source": [
    "#种类太多，选择做箱线图\n",
    "#matplotlib方法\n",
    "#分别作出发病人的身高箱线图，没发病人的身高箱线图\n",
    "#提取发病数据和没发病数据\n",
    "h1=data.loc[data['cardio']==1,'height'].tolist()\n",
    "h0=data.loc[data['cardio']==0,'height'].tolist()\n",
    "#将数据转换成箱线图\n",
    "plt.boxplot([h0,h1])\n",
    "#修改X轴名称\n",
    "plt.xticks([1,2],['没发病','发病'])\n",
    "plt.ylabel('身高')"
   ]
  },
  {
   "cell_type": "code",
   "execution_count": 6,
   "id": "b3265975",
   "metadata": {},
   "outputs": [
    {
     "data": {
      "text/plain": [
       "Text(0, 0.5, '体重')"
      ]
     },
     "execution_count": 6,
     "metadata": {},
     "output_type": "execute_result"
    },
    {
     "data": {
      "image/png": "[encoded data removed]",
      "text/plain": [
       "<Figure size 432x288 with 1 Axes>"
      ]
     },
     "metadata": {
      "needs_background": "light"
     },
     "output_type": "display_data"
    }
   ],
   "source": [
    "#适用于绘制统计图形\n",
    "#方法二\n",
    "#体重箱线图\n",
    "sns.boxplot(data=data,x='cardio',y='weight')\n",
    "plt.xticks([0,1],['没发病','发病'])\n",
    "plt.ylabel('体重')"
   ]
  },
  {
   "cell_type": "code",
   "execution_count": 7,
   "id": "aa4371c3",
   "metadata": {},
   "outputs": [
    {
     "data": {
      "text/plain": [
       "age            0.237985\n",
       "cholesterol    0.221147\n",
       "weight         0.181660\n",
       "gluc           0.089307\n",
       "ap_lo          0.065719\n",
       "ap_hi          0.054475\n",
       "active         0.035653\n",
       "smoke          0.015486\n",
       "height         0.010821\n",
       "gender         0.008109\n",
       "alco           0.007330\n",
       "Name: cardio, dtype: float64"
      ]
     },
     "execution_count": 7,
     "metadata": {},
     "output_type": "execute_result"
    }
   ],
   "source": [
    "#其他病理性因素的相关性分析\n",
    "corr_data=data.corr()['cardio'].abs().sort_values(ascending=False)[1:]\n",
    "#提取特征和发病的相关系数\n",
    "#从第一个往后取，第一个是发病，决定性因素，要看除自身以外的相关系数\n",
    "#abs()求绝对值，目前不看正负相关，只看相关系数大小\n",
    "corr_data"
   ]
  },
  {
   "cell_type": "code",
   "execution_count": 8,
   "id": "dcd961f4",
   "metadata": {},
   "outputs": [
    {
     "data": {
      "text/plain": [
       "0.6112"
      ]
     },
     "execution_count": 8,
     "metadata": {},
     "output_type": "execute_result"
    }
   ],
   "source": [
    "#模型处理\n",
    "#数据集分割\n",
    "#提取xy\n",
    "#提取前n个为特征\n",
    "n=3\n",
    "#获取前三个特征并将提取数据的行索引，并将其处理成列表\n",
    "feature_list=corr_data[:3].index.tolist()\n",
    "#提取n个特征对应的列\n",
    "x,y=data[feature_list],data['cardio']\n",
    "tr_x,te_x,tr_y,te_y=train_test_split(x,y)\n",
    "model=DecisionTreeClassifier().fit(tr_x,tr_y)\n",
    "prey=model.predict(te_x)\n",
    "accuracy_score(te_y,prey)"
   ]
  },
  {
   "cell_type": "code",
   "execution_count": 9,
   "id": "166ca94f",
   "metadata": {},
   "outputs": [
    {
     "name": "stdout",
     "output_type": "stream",
     "text": [
      "0.62\n",
      "0.6\n",
      "0.62\n",
      "0.62\n",
      "0.62\n",
      "0.61\n",
      "0.62\n",
      "0.61\n",
      "0.61\n",
      "0.62\n"
     ]
    }
   ],
   "source": [
    "#如何使用k折交叉验证得出结果\n",
    "for train,test in KFold(n_splits=10).split(x,y):\n",
    "    #pandas进行数据提取，每一次都被再次训练\n",
    "    #ioc训练时数据数不匹配，因此需要指定\n",
    "    #model.fit(x..iloc[train,[1,2,3]])\n",
    "    #找训练数据的行索引\n",
    "    tr_index=x.index[train]\n",
    "    model.fit(x.loc[tr_index,feature_list],y[tr_index])\n",
    "    #找到测试数据的行做因\n",
    "    te_index=x.index[test]\n",
    "    train_secore=model.score(x.loc[te_index,feature_list],y[te_index])\n",
    "    print(np.round(train_secore,2))"
   ]
  },
  {
   "cell_type": "code",
   "execution_count": 14,
   "id": "822c49b4",
   "metadata": {},
   "outputs": [
    {
     "name": "stdout",
     "output_type": "stream",
     "text": [
      "DecisionTreeClassifier模型\n",
      "第1训练结果是0.5993828747750064\n",
      "DecisionTreeClassifier模型\n",
      "第2训练结果是0.6049372133887627\n",
      "DecisionTreeClassifier模型\n",
      "第3训练结果是0.6031371876741096\n",
      "******************************\n",
      "LogisticRegressionCV模型\n",
      "第1训练结果是0.637996057255507\n",
      "LogisticRegressionCV模型\n",
      "第2训练结果是0.6407662966613809\n",
      "LogisticRegressionCV模型\n",
      "第3训练结果是0.6405948656409377\n",
      "******************************\n",
      "KNeighborsClassifier模型\n",
      "第1训练结果是0.5955686980371989\n",
      "KNeighborsClassifier模型\n",
      "第2训练结果是0.595594222774611\n",
      "KNeighborsClassifier模型\n",
      "第3训练结果是0.5977371105301504\n",
      "******************************\n"
     ]
    }
   ],
   "source": [
    "#训练过程打包\n",
    "#函数输入：模型，feature_list\n",
    "#返回最终评价结果：train_secore\n",
    "def model_fit(model,feature_list,data,train,test):\n",
    "    y=data['cardio']\n",
    "    tr_index=x.index[train]\n",
    "    model.fit(data.loc[tr_index,feature_list],y[tr_index])\n",
    "    te_index=x.index[test]\n",
    "    train_score=model.score(data.loc[te_index,feature_list],y[te_index])\n",
    "    return train_score,model    \n",
    "#更换模型，批量训练\n",
    "#定义一个列表，储存模型\n",
    "models=[DecisionTreeClassifier(),LogisticRegressionCV(),KNeighborsClassifier()]\n",
    "#定义一个列表，储存模型\n",
    "for mo in models:\n",
    "    #对数据进行分割，使用k折交叉验证，同时返回第几次分割和分割结果\n",
    "    for i,(train,test) in enumerate(KFold(n_splits=3).split(x,y)):\n",
    "        #调用定义的函数并返回所得数据\n",
    "        tr_secore,model=model_fit(mo,feature_list,data,train,test)\n",
    "        #输出解释使数据更清晰\n",
    "        print(f'{str(model)[:-2]}模型\\n第{i+1}训练结果是{tr_secore}')\n",
    "    #增加间隔符\n",
    "    print('*'*30)"
   ]
  },
  {
   "cell_type": "code",
   "execution_count": 11,
   "id": "52fdf89a",
   "metadata": {},
   "outputs": [
    {
     "name": "stdout",
     "output_type": "stream",
     "text": [
      "LogisticRegressionCV模型\n",
      "第1训练结果是0.49507156938373187\n",
      "LogisticRegressionCV模型\n",
      "第2训练结果是0.5027214674495349\n",
      "LogisticRegressionCV模型\n",
      "第3训练结果是0.5013071615308791\n"
     ]
    }
   ],
   "source": [
    "#数据标准化\n",
    "#上面的结果显示LogisticRegressionCV模型最好\n",
    "#调用标准化模型\n",
    "S_arr=StandardScaler().fit_transform(data)\n",
    "#将标准化后的数据设置成dataframe\n",
    "S_data=pd.DataFrame(S_arr,index=data.index,columns=data.columns)\n",
    "S_data['cardio']=data['cardio']\n",
    "for i,(train,test) in enumerate(KFold(n_splits=3).split(x,y)):\n",
    "    tr_secore,model=model_fit(LogisticRegressionCV(),feature_list,S_data,train,test)\n",
    "    #打印格式化结果\n",
    "    print(f'{str(model)[:-2]}模型\\n第{i+1}训练结果是{tr_secore}')"
   ]
  },
  {
   "cell_type": "code",
   "execution_count": 16,
   "id": "f9ef599a",
   "metadata": {},
   "outputs": [
    {
     "name": "stderr",
     "output_type": "stream",
     "text": [
      "100%|██████████████████████████████████████████████████████████████████████████████████| 11/11 [00:02<00:00,  3.84it/s]\n",
      "100%|██████████████████████████████████████████████████████████████████████████████████| 11/11 [00:20<00:00,  1.89s/it]\n",
      "100%|██████████████████████████████████████████████████████████████████████████████████| 11/11 [01:08<00:00,  6.27s/it]\n"
     ]
    },
    {
     "data": {
      "text/plain": [
       "<matplotlib.legend.Legend at 0x1b911e0f640>"
      ]
     },
     "execution_count": 16,
     "metadata": {},
     "output_type": "execute_result"
    },
    {
     "data": {
      "image/png": "[encoded data removed]",
      "text/plain": [
       "<Figure size 432x288 with 1 Axes>"
      ]
     },
     "metadata": {
      "needs_background": "light"
     },
     "output_type": "display_data"
    }
   ],
   "source": [
    "#特征选择：过滤法\n",
    "#选择特征过程打包\n",
    "#输入n （小于特征）\n",
    "#返回feature_list\n",
    "#提取前n个特征\n",
    "def get_feature(corr_data,n=3):#n=3:默认一个参数为3\n",
    "    #获取前三个特征并将提取数据的行索引，并将其处理成列表\n",
    "    feature_list=corr_data[:n].index.tolist()\n",
    "    return feature_list\n",
    "#对不同的模型进行循环\n",
    "for mo in models:\n",
    "    #定义一个空间，存储不同特征对应的平均得分\n",
    "    feature_train_ans=[]\n",
    "    #对特征进行筛选，依次选择n个特征\n",
    "    for fn in tqdm(range(1,12)):\n",
    "        #根据特征的个数提取特征名称\n",
    "        feature_list=get_feature(corr_data,n=fn)\n",
    "        #定义一个数字，记录精确度\n",
    "        ts=0\n",
    "        #对数据进行k折分割\n",
    "        for i,(train,test) in enumerate(KFold(n_splits=3).split(x,y)):\n",
    "            #使用循环中的模型，筛选的特征，标准化后的数据进行模型训练并评估\n",
    "            tr_secore,model=model_fit(mo,feature_list,S_data,train,test)\n",
    "            #计算准确度之和\n",
    "            ts+=tr_secore\n",
    "        #将当前特征对应的准确度求平均（ts/5）或平均错误率（1-ts/5）\n",
    "        #记录到特征对应的平均得分空间中\n",
    "        feature_train_ans.append(1-ts/5)#1-ts/5:平均错误率\n",
    "    #画出当前模型在不同特征下的平均精度/错误率\n",
    "    plt.plot(feature_train_ans,label=str(mo)[:-2])\n",
    "#添加标题\n",
    "plt.title('四个模型特征结果对比')\n",
    "plt.legend()"
   ]
  },
  {
   "cell_type": "code",
   "execution_count": 15,
   "id": "09156abb",
   "metadata": {},
   "outputs": [
    {
     "name": "stderr",
     "output_type": "stream",
     "text": [
      "100%|██████████████████████████████████████████████████████████████████████████████████| 11/11 [00:24<00:00,  2.26s/it]\n"
     ]
    },
    {
     "data": {
      "image/png": "[encoded data removed]",
      "text/plain": [
       "<Figure size 432x288 with 1 Axes>"
      ]
     },
     "metadata": {
      "needs_background": "light"
     },
     "output_type": "display_data"
    }
   ],
   "source": [
    "LR_model=LogisticRegressionCV()\n",
    "feature_train_ans=[]\n",
    "for fn in tqdm(range(1,12)):\n",
    "    feature_list=get_feature(corr_data,n=fn)\n",
    "    ts=0\n",
    "    for i,(train,test) in enumerate(KFold(n_splits=3).split(x,y)):\n",
    "        tr_secore,model=model_fit(LR_model,feature_list,S_data,train,test)\n",
    "        ts+=tr_secore\n",
    "    feature_train_ans.append(ts/5)\n",
    "    plt.plot(feature_train_ans)"
   ]
  },
  {
   "cell_type": "code",
   "execution_count": null,
   "id": "0157a7ae",
   "metadata": {},
   "outputs": [],
   "source": []
  }
 ],
 "metadata": {
  "kernelspec": {
   "display_name": "Python 3",
   "language": "python",
   "name": "python3"
  },
  "language_info": {
   "codemirror_mode": {
    "name": "ipython",
    "version": 3
   },
   "file_extension": ".py",
   "mimetype": "text/x-python",
   "name": "python",
   "nbconvert_exporter": "python",
   "pygments_lexer": "ipython3",
   "version": "3.8.8"
  },
  "toc": {
   "base_numbering": 1,
   "nav_menu": {},
   "number_sections": true,
   "sideBar": true,
   "skip_h1_title": false,
   "title_cell": "Table of Contents",
   "title_sidebar": "Contents",
   "toc_cell": false,
   "toc_position": {},
   "toc_section_display": true,
   "toc_window_display": false
  }
 },
 "nbformat": 4,
 "nbformat_minor": 5
}
