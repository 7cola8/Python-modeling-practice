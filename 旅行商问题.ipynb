{
 "cells": [
  {
   "cell_type": "code",
   "execution_count": 1,
   "id": "0941e54b",
   "metadata": {},
   "outputs": [
    {
     "data": {
      "text/plain": [
       "<matplotlib.collections.PathCollection at 0x29834fa3dc0>"
      ]
     },
     "execution_count": 1,
     "metadata": {},
     "output_type": "execute_result"
    },
    {
     "data": {
      "image/png": "[encoded data removed]",
      "text/plain": [
       "<Figure size 432x288 with 1 Axes>"
      ]
     },
     "metadata": {
      "needs_background": "light"
     },
     "output_type": "display_data"
    }
   ],
   "source": [
    "import numpy as np\n",
    "import matplotlib.pyplot as plt\n",
    "import matplotlib.pyplot as plt\n",
    "plt.rcParams['font.sans-serif'] = ['SimHei']\n",
    "plt.rcParams['axes.unicode_minus'] = False\n",
    "#生成城市的点\n",
    "citys=np.random.randint(0,100,(10,2))\n",
    "plt.scatter(citys[:,0],citys[:,1])"
   ]
  },
  {
   "cell_type": "code",
   "execution_count": 2,
   "id": "b8b397c6",
   "metadata": {},
   "outputs": [
    {
     "data": {
      "text/plain": [
       "569.0511698001831"
      ]
     },
     "execution_count": 2,
     "metadata": {},
     "output_type": "execute_result"
    }
   ],
   "source": [
    "#指定目标函数\n",
    "#输入：城市的排序\n",
    "#输出：总的距离数\n",
    "#先假设城市排序为\n",
    "def distance(x,y):\n",
    "    return np.sqrt(abs((y[1]-x[1])**2+(y[0]-x[0])**2))\n",
    "#总距离函数\n",
    "def PDistance(Gen):\n",
    "    #输入城市的顺序\n",
    "    dis=0\n",
    "    citys_num=len(Gen)-1\n",
    "    for i in range(citys_num):\n",
    "        dis+=distance(citys[Gen[i],:],citys[Gen[i+1],:])\n",
    "    #输出总距离数\n",
    "    return dis\n",
    "#先假设城市的顺序\n",
    "gen=[0,1,2,3,4,5,6,7,8,9,0]\n",
    "PDistance(gen)"
   ]
  },
  {
   "cell_type": "code",
   "execution_count": 3,
   "id": "e73e49b2",
   "metadata": {},
   "outputs": [
    {
     "data": {
      "text/plain": [
       "[1, 7, 6, 8, 0, 5, 9, 2, 4, 3, 0]"
      ]
     },
     "execution_count": 3,
     "metadata": {},
     "output_type": "execute_result"
    }
   ],
   "source": [
    "#怎样产生一个基因种群\n",
    "#从0开始，回到0\n",
    "#在指定的citys_num:n\n",
    "#在指定的种群个数：m\n",
    "#打乱排序的函数\n",
    "np.random.shuffle(gen)\n",
    "gen"
   ]
  },
  {
   "cell_type": "code",
   "execution_count": 4,
   "id": "e7c48147",
   "metadata": {},
   "outputs": [
    {
     "data": {
      "text/plain": [
       "array([619.21641013, 649.70566187, 555.12343466, 622.29728284,\n",
       "       603.27010931, 534.6788126 , 460.18189724, 529.99231972,\n",
       "       669.60328366, 610.17423108, 627.6498896 , 637.71119919,\n",
       "       688.22799978, 478.74521422, 621.96129485, 518.30317754,\n",
       "       544.44512707, 487.25671538, 493.2772341 , 637.11369528])"
      ]
     },
     "execution_count": 4,
     "metadata": {},
     "output_type": "execute_result"
    }
   ],
   "source": [
    "m=20\n",
    "citys_num=10\n",
    "def Gen_inti_(m,citys_num):\n",
    "    Gen_pool=[]\n",
    "    for i in range(m):\n",
    "        a=[n for n in range(1,citys_num)]\n",
    "        np.random.shuffle(a)\n",
    "        aa=[0]+a+[0]\n",
    "        Gen_pool.append(aa)\n",
    "    Gen_pool=np.array(Gen_pool)\n",
    "    return Gen_pool\n",
    "pool=Gen_inti_(m,citys_num)\n",
    "#适应度计算\n",
    "fitness=np.ones(m)\n",
    "for gindex,gen in enumerate(pool):\n",
    "    fitness[gindex]=PDistance(gen)\n",
    "fitness"
   ]
  },
  {
   "cell_type": "code",
   "execution_count": 5,
   "id": "3266842e",
   "metadata": {},
   "outputs": [
    {
     "data": {
      "text/plain": [
       "460.1818972402122"
      ]
     },
     "execution_count": 5,
     "metadata": {},
     "output_type": "execute_result"
    }
   ],
   "source": [
    "#找最小的适应度值\n",
    "np.min(fitness)"
   ]
  },
  {
   "cell_type": "code",
   "execution_count": 6,
   "id": "919f7243",
   "metadata": {},
   "outputs": [
    {
     "data": {
      "text/plain": [
       "6"
      ]
     },
     "execution_count": 6,
     "metadata": {},
     "output_type": "execute_result"
    }
   ],
   "source": [
    "#找找最好的个体\n",
    "best_index=np.argmin(fitness)\n",
    "best_index"
   ]
  },
  {
   "cell_type": "code",
   "execution_count": 7,
   "id": "3ebdc17f",
   "metadata": {},
   "outputs": [
    {
     "data": {
      "text/plain": [
       "array([[0, 9, 3, 8, 6, 1, 4, 5, 7, 2, 0],\n",
       "       [0, 8, 1, 3, 7, 5, 6, 9, 2, 4, 0],\n",
       "       [0, 6, 2, 4, 7, 8, 1, 3, 5, 9, 0],\n",
       "       [0, 1, 8, 7, 9, 6, 2, 5, 4, 3, 0],\n",
       "       [0, 1, 3, 4, 5, 7, 2, 6, 8, 9, 0],\n",
       "       [0, 3, 8, 2, 1, 7, 4, 6, 5, 9, 0],\n",
       "       [0, 7, 8, 6, 4, 1, 3, 5, 2, 9, 0],\n",
       "       [0, 9, 2, 3, 7, 4, 6, 5, 8, 1, 0],\n",
       "       [0, 7, 1, 4, 5, 3, 2, 6, 8, 9, 0],\n",
       "       [0, 2, 9, 3, 6, 4, 5, 7, 1, 8, 0],\n",
       "       [0, 4, 1, 7, 2, 3, 5, 9, 8, 6, 0],\n",
       "       [0, 6, 8, 7, 9, 3, 4, 2, 1, 5, 0],\n",
       "       [0, 9, 3, 2, 6, 8, 1, 7, 5, 4, 0],\n",
       "       [0, 9, 2, 8, 5, 1, 3, 4, 7, 6, 0],\n",
       "       [0, 1, 2, 8, 3, 5, 7, 4, 6, 9, 0],\n",
       "       [0, 5, 1, 9, 2, 3, 7, 4, 6, 8, 0],\n",
       "       [0, 7, 3, 6, 4, 5, 1, 9, 2, 8, 0],\n",
       "       [0, 4, 2, 5, 9, 6, 7, 8, 1, 3, 0],\n",
       "       [0, 9, 5, 3, 6, 4, 1, 2, 8, 7, 0],\n",
       "       [0, 5, 9, 6, 4, 3, 1, 2, 8, 7, 0]])"
      ]
     },
     "execution_count": 7,
     "metadata": {},
     "output_type": "execute_result"
    }
   ],
   "source": [
    "#有些地点重复出现\n",
    "#基因变异\n",
    "def variation(Gen):\n",
    "    points=Gen[1:-1].tolist()\n",
    "    #找到缺失数据\n",
    "    na_list=list(set(np.arange(1,10))-set(points))\n",
    "    #找到重复数据\n",
    "    duplicate_set=set([i for i in points if points.count(i)>1])\n",
    "    for i,item in enumerate(duplicate_set):\n",
    "        points[points.index(item)]=na_list[i]\n",
    "    Gen[1:-1]=points\n",
    "    return Gen\n",
    "#基因交叉\n",
    "def exchang(gen1,gen2,n=10):\n",
    "    pointloc=np.random.randint(0,n)\n",
    "    new_gen1=np.concatenate((gen1[:pointloc],gen2[pointloc:]))\n",
    "    new_gen2=np.concatenate((gen2[:pointloc],gen1[pointloc:]))\n",
    "    if np.random.random()<0.5:\n",
    "        return new_gen1\n",
    "    else:\n",
    "        return new_gen2\n",
    "#基因池处理\n",
    "for gindx,gen in enumerate(pool):\n",
    "    pool[gindex]=variation(exchang(pool[best_index],gen,n=citys_num+1))\n",
    "pool"
   ]
  },
  {
   "cell_type": "code",
   "execution_count": 11,
   "id": "8b24345e",
   "metadata": {},
   "outputs": [
    {
     "name": "stdout",
     "output_type": "stream",
     "text": [
      "[0. 5. 9. 2. 8. 7. 6. 3. 4. 1. 0.]\n",
      "313.86653006355664\n",
      "13\n"
     ]
    },
    {
     "data": {
      "image/png": "[encoded data removed]",
      "text/plain": [
       "<Figure size 432x288 with 1 Axes>"
      ]
     },
     "metadata": {
      "needs_background": "light"
     },
     "output_type": "display_data"
    }
   ],
   "source": [
    "#整合前面所有准备\n",
    "#迭代多次\n",
    "# 有了一个初始种群，有了计算的目标函数\n",
    "m=50\n",
    "citys_num=10\n",
    "it,Max_iter=0,100\n",
    "best_gen=np.ones((Max_iter,citys_num+1))\n",
    "# 一个空间用于存放最优值\n",
    "best_value=np.ones(Max_iter)\n",
    "# 完成适应度的计算\n",
    "Gen_pool=Gen_inti_(m,citys_num)\n",
    "for it in range(Max_iter):\n",
    "    fitness=np.zeros(m)\n",
    "    for gindx,gen in enumerate(Gen_pool):\n",
    "        fitness[gindx]=PDistance(gen)\n",
    "    # 选择最优个体\n",
    "    # 最优个体适应度\n",
    "    best_value[it]=np.min(fitness)\n",
    "    # 最优个体的位置\n",
    "    best_index=np.argmin(fitness)\n",
    "    best_gen[it]=Gen_pool[best_index]\n",
    "    for gindx,gen in enumerate(Gen_pool):\n",
    "        # 生成的新基因重新变异以后放到基因池里面\n",
    "        Gen_pool[gindx]=variation(exchang(Gen_pool[best_index],\n",
    "                                   gen,n=citys_num+1))\n",
    "    if it>10 and len(set(best_value[it-5:it]))==1:\n",
    "        break\n",
    "# 用迭代截止的数据画图\n",
    "for i in range(citys_num):\n",
    "    x=citys[int(best_gen[it][i])]\n",
    "    y=citys[int(best_gen[it][i+1])]\n",
    "    plt.plot([x[0],y[0]],[x[1],y[1]],'r')\n",
    "plt.scatter(citys[:,0],citys[:,1])\n",
    "print(best_gen[it])\n",
    "print(best_value[it])\n",
    "print(it)"
   ]
  },
  {
   "cell_type": "code",
   "execution_count": null,
   "id": "cd69d585",
   "metadata": {},
   "outputs": [],
   "source": []
  }
 ],
 "metadata": {
  "kernelspec": {
   "display_name": "Python 3",
   "language": "python",
   "name": "python3"
  },
  "language_info": {
   "codemirror_mode": {
    "name": "ipython",
    "version": 3
   },
   "file_extension": ".py",
   "mimetype": "text/x-python",
   "name": "python",
   "nbconvert_exporter": "python",
   "pygments_lexer": "ipython3",
   "version": "3.8.8"
  },
  "toc": {
   "base_numbering": 1,
   "nav_menu": {},
   "number_sections": true,
   "sideBar": true,
   "skip_h1_title": false,
   "title_cell": "Table of Contents",
   "title_sidebar": "Contents",
   "toc_cell": false,
   "toc_position": {},
   "toc_section_display": true,
   "toc_window_display": false
  }
 },
 "nbformat": 4,
 "nbformat_minor": 5
}
