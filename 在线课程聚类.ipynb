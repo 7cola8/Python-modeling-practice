{
 "cells": [
  {
   "cell_type": "markdown",
   "id": "57060626",
   "metadata": {},
   "source": [
    "# 导入库，导入数据"
   ]
  },
  {
   "cell_type": "code",
   "execution_count": 1,
   "id": "81e198bc",
   "metadata": {},
   "outputs": [],
   "source": [
    "import pandas as pd\n",
    "data=pd.read_csv('C:/Users/86156/Desktop/生产实习/原始数据/study_information.csv',\n",
    "                header=None,\n",
    "                parse_dates=[2])\n",
    "data.columns=['uid','cid','time','progress','price']"
   ]
  },
  {
   "cell_type": "markdown",
   "id": "63a8f22a",
   "metadata": {},
   "source": [
    "# 准备好数据后筛选属性"
   ]
  },
  {
   "cell_type": "markdown",
   "id": "92f1c7e1",
   "metadata": {},
   "source": [
    "## 课程新旧"
   ]
  },
  {
   "cell_type": "code",
   "execution_count": 2,
   "id": "68b30521",
   "metadata": {},
   "outputs": [],
   "source": [
    "#计算相差天数\n",
    "data['days']=data['time'].max()-data['time']\n",
    "#提取天数信息\n",
    "data['days']=data['days'].dt.days\n",
    "ans1=data.groupby('cid')[['days']].max()"
   ]
  },
  {
   "cell_type": "markdown",
   "id": "fae4896d",
   "metadata": {},
   "source": [
    "## 课程平均进度"
   ]
  },
  {
   "cell_type": "code",
   "execution_count": 3,
   "id": "e0502e1f",
   "metadata": {},
   "outputs": [],
   "source": [
    "def fun2(x):\n",
    "    return int(x.split(':')[1].replace('%;',''))\n",
    "data['学习进度_数字']=data['progress'].map(fun2)\n",
    "ans3=data.groupby('cid')[['学习进度_数字']].mean()"
   ]
  },
  {
   "cell_type": "markdown",
   "id": "620371cd",
   "metadata": {},
   "source": [
    "## 课程平均售价"
   ]
  },
  {
   "cell_type": "code",
   "execution_count": 4,
   "id": "63a6bdfa",
   "metadata": {},
   "outputs": [],
   "source": [
    "ans2=data.groupby('cid')[['price']].mean()\n",
    "ans2.fillna(value=0,inplace=True)"
   ]
  },
  {
   "cell_type": "markdown",
   "id": "999401ee",
   "metadata": {},
   "source": [
    "## 课程销量"
   ]
  },
  {
   "cell_type": "code",
   "execution_count": 5,
   "id": "a844ae68",
   "metadata": {},
   "outputs": [],
   "source": [
    "ans4=data.groupby('cid')[['uid']].count()"
   ]
  },
  {
   "cell_type": "markdown",
   "id": "8bad84d7",
   "metadata": {},
   "source": [
    "# 特征合并"
   ]
  },
  {
   "cell_type": "markdown",
   "id": "5c10f766",
   "metadata": {},
   "source": [
    "## 教学代码"
   ]
  },
  {
   "cell_type": "code",
   "execution_count": 6,
   "id": "2ccc02a5",
   "metadata": {},
   "outputs": [
    {
     "data": {
      "text/html": [
       "<div>\n",
       "<style scoped>\n",
       "    .dataframe tbody tr th:only-of-type {\n",
       "        vertical-align: middle;\n",
       "    }\n",
       "\n",
       "    .dataframe tbody tr th {\n",
       "        vertical-align: top;\n",
       "    }\n",
       "\n",
       "    .dataframe thead th {\n",
       "        text-align: right;\n",
       "    }\n",
       "</style>\n",
       "<table border=\"1\" class=\"dataframe\">\n",
       "  <thead>\n",
       "    <tr style=\"text-align: right;\">\n",
       "      <th></th>\n",
       "      <th>days</th>\n",
       "      <th>price</th>\n",
       "      <th>学习进度_数字</th>\n",
       "      <th>uid</th>\n",
       "    </tr>\n",
       "    <tr>\n",
       "      <th>cid</th>\n",
       "      <th></th>\n",
       "      <th></th>\n",
       "      <th></th>\n",
       "      <th></th>\n",
       "    </tr>\n",
       "  </thead>\n",
       "  <tbody>\n",
       "    <tr>\n",
       "      <th>课程0</th>\n",
       "      <td>51</td>\n",
       "      <td>199.0</td>\n",
       "      <td>0.000000</td>\n",
       "      <td>2</td>\n",
       "    </tr>\n",
       "    <tr>\n",
       "      <th>课程1</th>\n",
       "      <td>58</td>\n",
       "      <td>199.0</td>\n",
       "      <td>0.000000</td>\n",
       "      <td>4</td>\n",
       "    </tr>\n",
       "    <tr>\n",
       "      <th>课程10</th>\n",
       "      <td>135</td>\n",
       "      <td>0.0</td>\n",
       "      <td>0.000000</td>\n",
       "      <td>35</td>\n",
       "    </tr>\n",
       "    <tr>\n",
       "      <th>课程100</th>\n",
       "      <td>39</td>\n",
       "      <td>199.0</td>\n",
       "      <td>0.000000</td>\n",
       "      <td>5</td>\n",
       "    </tr>\n",
       "    <tr>\n",
       "      <th>课程101</th>\n",
       "      <td>406</td>\n",
       "      <td>0.0</td>\n",
       "      <td>53.475104</td>\n",
       "      <td>482</td>\n",
       "    </tr>\n",
       "    <tr>\n",
       "      <th>...</th>\n",
       "      <td>...</td>\n",
       "      <td>...</td>\n",
       "      <td>...</td>\n",
       "      <td>...</td>\n",
       "    </tr>\n",
       "    <tr>\n",
       "      <th>课程95</th>\n",
       "      <td>536</td>\n",
       "      <td>499.0</td>\n",
       "      <td>5.565217</td>\n",
       "      <td>115</td>\n",
       "    </tr>\n",
       "    <tr>\n",
       "      <th>课程96</th>\n",
       "      <td>419</td>\n",
       "      <td>0.0</td>\n",
       "      <td>7.224670</td>\n",
       "      <td>227</td>\n",
       "    </tr>\n",
       "    <tr>\n",
       "      <th>课程97</th>\n",
       "      <td>419</td>\n",
       "      <td>29.0</td>\n",
       "      <td>8.156425</td>\n",
       "      <td>179</td>\n",
       "    </tr>\n",
       "    <tr>\n",
       "      <th>课程98</th>\n",
       "      <td>371</td>\n",
       "      <td>99.0</td>\n",
       "      <td>14.722997</td>\n",
       "      <td>574</td>\n",
       "    </tr>\n",
       "    <tr>\n",
       "      <th>课程99</th>\n",
       "      <td>419</td>\n",
       "      <td>59.0</td>\n",
       "      <td>5.345745</td>\n",
       "      <td>188</td>\n",
       "    </tr>\n",
       "  </tbody>\n",
       "</table>\n",
       "<p>241 rows × 4 columns</p>\n",
       "</div>"
      ],
      "text/plain": [
       "       days  price    学习进度_数字  uid\n",
       "cid                               \n",
       "课程0      51  199.0   0.000000    2\n",
       "课程1      58  199.0   0.000000    4\n",
       "课程10    135    0.0   0.000000   35\n",
       "课程100    39  199.0   0.000000    5\n",
       "课程101   406    0.0  53.475104  482\n",
       "...     ...    ...        ...  ...\n",
       "课程95    536  499.0   5.565217  115\n",
       "课程96    419    0.0   7.224670  227\n",
       "课程97    419   29.0   8.156425  179\n",
       "课程98    371   99.0  14.722997  574\n",
       "课程99    419   59.0   5.345745  188\n",
       "\n",
       "[241 rows x 4 columns]"
      ]
     },
     "execution_count": 6,
     "metadata": {},
     "output_type": "execute_result"
    }
   ],
   "source": [
    "#合并ans1,ans2\n",
    "#行索引一样的数据，用concat\n",
    "#concat可以放多个变量\n",
    "ans=pd.concat((ans1,ans2),axis=1)\n",
    "#axis=1控制按行合并\n",
    "ans=pd.concat((ans,ans3),axis=1)\n",
    "ans=pd.concat((ans,ans4),axis=1)\n",
    "ans"
   ]
  },
  {
   "cell_type": "code",
   "execution_count": 7,
   "id": "536119c5",
   "metadata": {},
   "outputs": [
    {
     "data": {
      "text/html": [
       "<div>\n",
       "<style scoped>\n",
       "    .dataframe tbody tr th:only-of-type {\n",
       "        vertical-align: middle;\n",
       "    }\n",
       "\n",
       "    .dataframe tbody tr th {\n",
       "        vertical-align: top;\n",
       "    }\n",
       "\n",
       "    .dataframe thead th {\n",
       "        text-align: right;\n",
       "    }\n",
       "</style>\n",
       "<table border=\"1\" class=\"dataframe\">\n",
       "  <thead>\n",
       "    <tr style=\"text-align: right;\">\n",
       "      <th></th>\n",
       "      <th>days</th>\n",
       "      <th>price</th>\n",
       "    </tr>\n",
       "    <tr>\n",
       "      <th>cid</th>\n",
       "      <th></th>\n",
       "      <th></th>\n",
       "    </tr>\n",
       "  </thead>\n",
       "  <tbody>\n",
       "    <tr>\n",
       "      <th>课程0</th>\n",
       "      <td>51</td>\n",
       "      <td>199.0</td>\n",
       "    </tr>\n",
       "    <tr>\n",
       "      <th>课程1</th>\n",
       "      <td>58</td>\n",
       "      <td>199.0</td>\n",
       "    </tr>\n",
       "    <tr>\n",
       "      <th>课程10</th>\n",
       "      <td>135</td>\n",
       "      <td>0.0</td>\n",
       "    </tr>\n",
       "    <tr>\n",
       "      <th>课程100</th>\n",
       "      <td>39</td>\n",
       "      <td>199.0</td>\n",
       "    </tr>\n",
       "    <tr>\n",
       "      <th>课程101</th>\n",
       "      <td>406</td>\n",
       "      <td>0.0</td>\n",
       "    </tr>\n",
       "    <tr>\n",
       "      <th>...</th>\n",
       "      <td>...</td>\n",
       "      <td>...</td>\n",
       "    </tr>\n",
       "    <tr>\n",
       "      <th>课程95</th>\n",
       "      <td>536</td>\n",
       "      <td>499.0</td>\n",
       "    </tr>\n",
       "    <tr>\n",
       "      <th>课程96</th>\n",
       "      <td>419</td>\n",
       "      <td>0.0</td>\n",
       "    </tr>\n",
       "    <tr>\n",
       "      <th>课程97</th>\n",
       "      <td>419</td>\n",
       "      <td>29.0</td>\n",
       "    </tr>\n",
       "    <tr>\n",
       "      <th>课程98</th>\n",
       "      <td>371</td>\n",
       "      <td>99.0</td>\n",
       "    </tr>\n",
       "    <tr>\n",
       "      <th>课程99</th>\n",
       "      <td>419</td>\n",
       "      <td>59.0</td>\n",
       "    </tr>\n",
       "  </tbody>\n",
       "</table>\n",
       "<p>241 rows × 2 columns</p>\n",
       "</div>"
      ],
      "text/plain": [
       "       days  price\n",
       "cid               \n",
       "课程0      51  199.0\n",
       "课程1      58  199.0\n",
       "课程10    135    0.0\n",
       "课程100    39  199.0\n",
       "课程101   406    0.0\n",
       "...     ...    ...\n",
       "课程95    536  499.0\n",
       "课程96    419    0.0\n",
       "课程97    419   29.0\n",
       "课程98    371   99.0\n",
       "课程99    419   59.0\n",
       "\n",
       "[241 rows x 2 columns]"
      ]
     },
     "execution_count": 7,
     "metadata": {},
     "output_type": "execute_result"
    }
   ],
   "source": [
    "#用merge合并，只要有值一样就行，按照值合并\n",
    "#merge一次只能放两个变量\n",
    "pd.merge(ans1,ans2,\n",
    "        left_index=True,right_index=True,#指定连接数据为两个行索引\n",
    "        )"
   ]
  },
  {
   "cell_type": "code",
   "execution_count": 8,
   "id": "fc441c0b",
   "metadata": {},
   "outputs": [
    {
     "data": {
      "text/html": [
       "<div>\n",
       "<style scoped>\n",
       "    .dataframe tbody tr th:only-of-type {\n",
       "        vertical-align: middle;\n",
       "    }\n",
       "\n",
       "    .dataframe tbody tr th {\n",
       "        vertical-align: top;\n",
       "    }\n",
       "\n",
       "    .dataframe thead th {\n",
       "        text-align: right;\n",
       "    }\n",
       "</style>\n",
       "<table border=\"1\" class=\"dataframe\">\n",
       "  <thead>\n",
       "    <tr style=\"text-align: right;\">\n",
       "      <th></th>\n",
       "      <th>uid</th>\n",
       "      <th>cid</th>\n",
       "      <th>time</th>\n",
       "      <th>progress</th>\n",
       "      <th>price</th>\n",
       "      <th>days_间隔</th>\n",
       "      <th>学习进度_数字</th>\n",
       "      <th>days_最大值</th>\n",
       "    </tr>\n",
       "  </thead>\n",
       "  <tbody>\n",
       "    <tr>\n",
       "      <th>0</th>\n",
       "      <td>用户3</td>\n",
       "      <td>课程106</td>\n",
       "      <td>2020-04-21 10:11:50</td>\n",
       "      <td>width: 0%;</td>\n",
       "      <td>0.0</td>\n",
       "      <td>57</td>\n",
       "      <td>0</td>\n",
       "      <td>83</td>\n",
       "    </tr>\n",
       "    <tr>\n",
       "      <th>1972</th>\n",
       "      <td>用户296</td>\n",
       "      <td>课程106</td>\n",
       "      <td>2020-04-05 19:55:36</td>\n",
       "      <td>width: 0%;</td>\n",
       "      <td>0.0</td>\n",
       "      <td>73</td>\n",
       "      <td>0</td>\n",
       "      <td>83</td>\n",
       "    </tr>\n",
       "    <tr>\n",
       "      <th>7580</th>\n",
       "      <td>用户2160</td>\n",
       "      <td>课程106</td>\n",
       "      <td>2020-04-13 15:13:04</td>\n",
       "      <td>width: 100%;</td>\n",
       "      <td>0.0</td>\n",
       "      <td>65</td>\n",
       "      <td>100</td>\n",
       "      <td>83</td>\n",
       "    </tr>\n",
       "    <tr>\n",
       "      <th>8029</th>\n",
       "      <td>用户2394</td>\n",
       "      <td>课程106</td>\n",
       "      <td>2020-04-18 00:23:13</td>\n",
       "      <td>width: 0%;</td>\n",
       "      <td>0.0</td>\n",
       "      <td>61</td>\n",
       "      <td>0</td>\n",
       "      <td>83</td>\n",
       "    </tr>\n",
       "    <tr>\n",
       "      <th>11982</th>\n",
       "      <td>用户4129</td>\n",
       "      <td>课程106</td>\n",
       "      <td>2020-04-29 20:04:07</td>\n",
       "      <td>width: 0%;</td>\n",
       "      <td>0.0</td>\n",
       "      <td>49</td>\n",
       "      <td>0</td>\n",
       "      <td>83</td>\n",
       "    </tr>\n",
       "    <tr>\n",
       "      <th>...</th>\n",
       "      <td>...</td>\n",
       "      <td>...</td>\n",
       "      <td>...</td>\n",
       "      <td>...</td>\n",
       "      <td>...</td>\n",
       "      <td>...</td>\n",
       "      <td>...</td>\n",
       "      <td>...</td>\n",
       "    </tr>\n",
       "    <tr>\n",
       "      <th>176350</th>\n",
       "      <td>用户38324</td>\n",
       "      <td>课程79</td>\n",
       "      <td>2020-04-27 11:17:44</td>\n",
       "      <td>width: 100%;</td>\n",
       "      <td>0.0</td>\n",
       "      <td>51</td>\n",
       "      <td>100</td>\n",
       "      <td>51</td>\n",
       "    </tr>\n",
       "    <tr>\n",
       "      <th>176356</th>\n",
       "      <td>用户38325</td>\n",
       "      <td>课程79</td>\n",
       "      <td>2020-04-27 11:17:44</td>\n",
       "      <td>width: 100%;</td>\n",
       "      <td>0.0</td>\n",
       "      <td>51</td>\n",
       "      <td>100</td>\n",
       "      <td>51</td>\n",
       "    </tr>\n",
       "    <tr>\n",
       "      <th>176362</th>\n",
       "      <td>用户38326</td>\n",
       "      <td>课程79</td>\n",
       "      <td>2020-04-27 11:17:44</td>\n",
       "      <td>width: 0%;</td>\n",
       "      <td>0.0</td>\n",
       "      <td>51</td>\n",
       "      <td>0</td>\n",
       "      <td>51</td>\n",
       "    </tr>\n",
       "    <tr>\n",
       "      <th>176368</th>\n",
       "      <td>用户38327</td>\n",
       "      <td>课程79</td>\n",
       "      <td>2020-04-27 11:17:44</td>\n",
       "      <td>width: 100%;</td>\n",
       "      <td>0.0</td>\n",
       "      <td>51</td>\n",
       "      <td>100</td>\n",
       "      <td>51</td>\n",
       "    </tr>\n",
       "    <tr>\n",
       "      <th>181873</th>\n",
       "      <td>用户39712</td>\n",
       "      <td>课程91</td>\n",
       "      <td>2020-06-11 10:18:41</td>\n",
       "      <td>width: 50%;</td>\n",
       "      <td>800.0</td>\n",
       "      <td>6</td>\n",
       "      <td>50</td>\n",
       "      <td>6</td>\n",
       "    </tr>\n",
       "  </tbody>\n",
       "</table>\n",
       "<p>194974 rows × 8 columns</p>\n",
       "</div>"
      ],
      "text/plain": [
       "            uid    cid                time      progress  price  days_间隔  \\\n",
       "0           用户3  课程106 2020-04-21 10:11:50    width: 0%;    0.0       57   \n",
       "1972      用户296  课程106 2020-04-05 19:55:36    width: 0%;    0.0       73   \n",
       "7580     用户2160  课程106 2020-04-13 15:13:04  width: 100%;    0.0       65   \n",
       "8029     用户2394  课程106 2020-04-18 00:23:13    width: 0%;    0.0       61   \n",
       "11982    用户4129  课程106 2020-04-29 20:04:07    width: 0%;    0.0       49   \n",
       "...         ...    ...                 ...           ...    ...      ...   \n",
       "176350  用户38324   课程79 2020-04-27 11:17:44  width: 100%;    0.0       51   \n",
       "176356  用户38325   课程79 2020-04-27 11:17:44  width: 100%;    0.0       51   \n",
       "176362  用户38326   课程79 2020-04-27 11:17:44    width: 0%;    0.0       51   \n",
       "176368  用户38327   课程79 2020-04-27 11:17:44  width: 100%;    0.0       51   \n",
       "181873  用户39712   课程91 2020-06-11 10:18:41   width: 50%;  800.0        6   \n",
       "\n",
       "        学习进度_数字  days_最大值  \n",
       "0             0        83  \n",
       "1972          0        83  \n",
       "7580        100        83  \n",
       "8029          0        83  \n",
       "11982         0        83  \n",
       "...         ...       ...  \n",
       "176350      100        51  \n",
       "176356      100        51  \n",
       "176362        0        51  \n",
       "176368      100        51  \n",
       "181873       50         6  \n",
       "\n",
       "[194974 rows x 8 columns]"
      ]
     },
     "execution_count": 8,
     "metadata": {},
     "output_type": "execute_result"
    }
   ],
   "source": [
    "pd.merge(data,ans1,\n",
    "        left_on='cid',right_index=True,#指定连接数据为两个行索引\n",
    "         suffixes=('_间隔','_最大值'),#设置后缀，取分两个数据中相同名字的列\n",
    "        )"
   ]
  },
  {
   "cell_type": "markdown",
   "id": "64de184d",
   "metadata": {},
   "source": [
    "## 项目代码"
   ]
  },
  {
   "cell_type": "code",
   "execution_count": 9,
   "id": "fd75cdb5",
   "metadata": {},
   "outputs": [
    {
     "data": {
      "text/plain": [
       "days       0\n",
       "price      0\n",
       "学习进度_数字    0\n",
       "uid        0\n",
       "dtype: int64"
      ]
     },
     "execution_count": 9,
     "metadata": {},
     "output_type": "execute_result"
    }
   ],
   "source": [
    "ans=pd.concat((ans1,ans2,ans3,ans4),axis=1)\n",
    "ans.isnull().sum()#检查是否有空数据"
   ]
  },
  {
   "cell_type": "code",
   "execution_count": 10,
   "id": "cabf0cb6",
   "metadata": {},
   "outputs": [
    {
     "data": {
      "text/html": [
       "<div>\n",
       "<style scoped>\n",
       "    .dataframe tbody tr th:only-of-type {\n",
       "        vertical-align: middle;\n",
       "    }\n",
       "\n",
       "    .dataframe tbody tr th {\n",
       "        vertical-align: top;\n",
       "    }\n",
       "\n",
       "    .dataframe thead th {\n",
       "        text-align: right;\n",
       "    }\n",
       "</style>\n",
       "<table border=\"1\" class=\"dataframe\">\n",
       "  <thead>\n",
       "    <tr style=\"text-align: right;\">\n",
       "      <th></th>\n",
       "      <th>days</th>\n",
       "      <th>price</th>\n",
       "      <th>学习进度_数字</th>\n",
       "      <th>uid</th>\n",
       "    </tr>\n",
       "  </thead>\n",
       "  <tbody>\n",
       "    <tr>\n",
       "      <th>count</th>\n",
       "      <td>241.000000</td>\n",
       "      <td>241.000000</td>\n",
       "      <td>241.000000</td>\n",
       "      <td>241.000000</td>\n",
       "    </tr>\n",
       "    <tr>\n",
       "      <th>mean</th>\n",
       "      <td>285.887967</td>\n",
       "      <td>199.215768</td>\n",
       "      <td>20.155177</td>\n",
       "      <td>809.020747</td>\n",
       "    </tr>\n",
       "    <tr>\n",
       "      <th>std</th>\n",
       "      <td>221.234886</td>\n",
       "      <td>432.364674</td>\n",
       "      <td>25.008135</td>\n",
       "      <td>1751.486289</td>\n",
       "    </tr>\n",
       "    <tr>\n",
       "      <th>min</th>\n",
       "      <td>5.000000</td>\n",
       "      <td>0.000000</td>\n",
       "      <td>0.000000</td>\n",
       "      <td>1.000000</td>\n",
       "    </tr>\n",
       "    <tr>\n",
       "      <th>25%</th>\n",
       "      <td>62.000000</td>\n",
       "      <td>0.000000</td>\n",
       "      <td>0.406964</td>\n",
       "      <td>19.000000</td>\n",
       "    </tr>\n",
       "    <tr>\n",
       "      <th>50%</th>\n",
       "      <td>246.000000</td>\n",
       "      <td>79.000000</td>\n",
       "      <td>11.213018</td>\n",
       "      <td>138.000000</td>\n",
       "    </tr>\n",
       "    <tr>\n",
       "      <th>75%</th>\n",
       "      <td>529.000000</td>\n",
       "      <td>199.000000</td>\n",
       "      <td>26.804979</td>\n",
       "      <td>478.000000</td>\n",
       "    </tr>\n",
       "    <tr>\n",
       "      <th>max</th>\n",
       "      <td>646.000000</td>\n",
       "      <td>3000.000000</td>\n",
       "      <td>93.871324</td>\n",
       "      <td>13265.000000</td>\n",
       "    </tr>\n",
       "  </tbody>\n",
       "</table>\n",
       "</div>"
      ],
      "text/plain": [
       "             days        price     学习进度_数字           uid\n",
       "count  241.000000   241.000000  241.000000    241.000000\n",
       "mean   285.887967   199.215768   20.155177    809.020747\n",
       "std    221.234886   432.364674   25.008135   1751.486289\n",
       "min      5.000000     0.000000    0.000000      1.000000\n",
       "25%     62.000000     0.000000    0.406964     19.000000\n",
       "50%    246.000000    79.000000   11.213018    138.000000\n",
       "75%    529.000000   199.000000   26.804979    478.000000\n",
       "max    646.000000  3000.000000   93.871324  13265.000000"
      ]
     },
     "execution_count": 10,
     "metadata": {},
     "output_type": "execute_result"
    }
   ],
   "source": [
    "#检查数据是否正常\n",
    "ans.describe()"
   ]
  },
  {
   "cell_type": "markdown",
   "id": "ff6b23ce",
   "metadata": {},
   "source": [
    "# 数据标准化"
   ]
  },
  {
   "cell_type": "code",
   "execution_count": 11,
   "id": "8c81e1cc",
   "metadata": {},
   "outputs": [],
   "source": [
    "from sklearn.preprocessing import MinMaxScaler\n",
    "MMmodel=MinMaxScaler()\n",
    "mm_data=MMmodel.fit_transform(ans)"
   ]
  },
  {
   "cell_type": "markdown",
   "id": "922f06af",
   "metadata": {},
   "source": [
    "# 聚类"
   ]
  },
  {
   "cell_type": "code",
   "execution_count": 12,
   "id": "071e5544",
   "metadata": {},
   "outputs": [
    {
     "data": {
      "text/plain": [
       "array([0, 0, 0, 0, 3, 0, 0, 0, 0, 0, 0, 0, 0, 2, 0, 0, 0, 0, 0, 0, 0, 0,\n",
       "       0, 0, 3, 0, 0, 0, 0, 0, 0, 0, 0, 0, 0, 2, 1, 0, 1, 1, 2, 1, 2, 2,\n",
       "       3, 2, 2, 0, 1, 0, 3, 1, 3, 3, 3, 1, 3, 2, 3, 3, 3, 3, 3, 3, 3, 3,\n",
       "       3, 3, 3, 3, 3, 1, 1, 2, 0, 2, 2, 3, 3, 1, 0, 1, 0, 0, 3, 1, 2, 0,\n",
       "       0, 0, 2, 1, 2, 2, 2, 1, 2, 3, 3, 3, 3, 3, 2, 1, 2, 3, 3, 3, 3, 3,\n",
       "       3, 2, 0, 3, 2, 1, 0, 1, 0, 3, 2, 0, 0, 0, 2, 3, 2, 2, 2, 2, 2, 3,\n",
       "       3, 0, 0, 1, 3, 3, 3, 3, 3, 3, 3, 3, 3, 3, 2, 3, 3, 3, 3, 3, 2, 3,\n",
       "       3, 3, 3, 1, 2, 0, 1, 2, 0, 1, 0, 0, 1, 3, 3, 1, 2, 3, 3, 3, 0, 3,\n",
       "       1, 0, 3, 0, 3, 3, 3, 3, 1, 0, 1, 1, 1, 1, 1, 0, 3, 1, 3, 3, 0, 3,\n",
       "       0, 0, 3, 3, 0, 0, 0, 0, 2, 2, 3, 2, 3, 3, 0, 2, 3, 1, 3, 2, 2, 3,\n",
       "       0, 0, 0, 0, 0, 3, 3, 3, 0, 2, 0, 0, 2, 0, 3, 3, 3, 3, 3, 3, 3])"
      ]
     },
     "execution_count": 12,
     "metadata": {},
     "output_type": "execute_result"
    }
   ],
   "source": [
    "from sklearn.cluster import KMeans\n",
    "model=KMeans(4).fit(mm_data)\n",
    "#查看聚类结果\n",
    "model.labels_"
   ]
  },
  {
   "cell_type": "code",
   "execution_count": 13,
   "id": "b530a465",
   "metadata": {},
   "outputs": [
    {
     "data": {
      "text/plain": [
       "array([[0.11911898, 0.07467982, 0.07652614, 0.01517166],\n",
       "       [0.47562402, 0.05425   , 0.10604072, 0.32924881],\n",
       "       [0.15147825, 0.1258374 , 0.72444068, 0.01599598],\n",
       "       [0.81655701, 0.03731159, 0.13949913, 0.02539646]])"
      ]
     },
     "execution_count": 13,
     "metadata": {},
     "output_type": "execute_result"
    }
   ],
   "source": [
    "#查看聚类中心\n",
    "model.cluster_centers_"
   ]
  },
  {
   "cell_type": "markdown",
   "id": "22a71186",
   "metadata": {},
   "source": [
    "# 雷达图"
   ]
  },
  {
   "cell_type": "markdown",
   "id": "6b732b62",
   "metadata": {},
   "source": [
    "## 可视化第一种方法"
   ]
  },
  {
   "cell_type": "code",
   "execution_count": 18,
   "id": "6d78fced",
   "metadata": {},
   "outputs": [
    {
     "data": {
      "text/plain": [
       "'C:\\\\Users\\\\86156\\\\Desktop\\\\生产实习\\\\render.html'"
      ]
     },
     "execution_count": 18,
     "metadata": {},
     "output_type": "execute_result"
    }
   ],
   "source": [
    "from pyecharts import options as opts\n",
    "from pyecharts.charts import Radar\n",
    "# 虚假数据\n",
    "data=model.cluster_centers_.tolist()\n",
    "radar=(Radar()\n",
    "      .add_schema(schema=[\n",
    "          opts.RadarIndicatorItem(name=\"课程时间\",max_=1),\n",
    "          opts.RadarIndicatorItem(name=\"课程价格\",max_=1),\n",
    "          opts.RadarIndicatorItem(name=\"平均进度\",max_=1),\n",
    "          opts.RadarIndicatorItem(name=\"销售数量\",max_=1),\n",
    "      ]\n",
    ")\n",
    "      .add('',data)\n",
    ")\n",
    "radar.render()\n",
    "#返回的是地址，根据地址可以找到图\n",
    "#非常好看且好用，但是逻辑基于java，操作较为复杂"
   ]
  },
  {
   "cell_type": "markdown",
   "id": "d8fd79ac",
   "metadata": {},
   "source": [
    "## matplotlib"
   ]
  },
  {
   "cell_type": "code",
   "execution_count": 23,
   "id": "890732c4",
   "metadata": {},
   "outputs": [
    {
     "data": {
      "text/plain": [
       "[<matplotlib.lines.Line2D at 0x23ec85013d0>]"
      ]
     },
     "execution_count": 23,
     "metadata": {},
     "output_type": "execute_result"
    },
    {
     "data": {
      "image/png": "[encoded data removed]",
      "text/plain": [
       "<Figure size 432x288 with 1 Axes>"
      ]
     },
     "metadata": {
      "needs_background": "light"
     },
     "output_type": "display_data"
    }
   ],
   "source": [
    "import matplotlib.pyplot as plt\n",
    "import numpy as np\n",
    "#中文和符号的正常显示\n",
    "plt.rcParams['font.family']='youyuan'\n",
    "plt.rcParams['axes.unicode_minus']=False\n",
    "#创建一个画布\n",
    "fig=plt.figure()\n",
    "ax=fig.add_subplot(1,1,1,#一行一列第一个\n",
    "                   polar=True)#这里一定要设置成极坐标格式\n",
    "x=np.linspace(0,2*np.pi,5).tolist()\n",
    "x.append(0)\n",
    "plt.plot(x,[0.5,1,2,3,4,0.5])"
   ]
  },
  {
   "cell_type": "code",
   "execution_count": 32,
   "id": "e0aa55a8",
   "metadata": {},
   "outputs": [
    {
     "data": {
      "text/plain": [
       "([<matplotlib.projections.polar.ThetaTick at 0x23ec9f78dc0>,\n",
       "  <matplotlib.projections.polar.ThetaTick at 0x23ec9f8aeb0>,\n",
       "  <matplotlib.projections.polar.ThetaTick at 0x23ec9fab820>,\n",
       "  <matplotlib.projections.polar.ThetaTick at 0x23ec9fa0fd0>,\n",
       "  <matplotlib.projections.polar.ThetaTick at 0x23ec9fabd90>],\n",
       " [Text(0.0, 0, '课程时间'),\n",
       "  Text(1.5707963267948966, 0, '课程价格'),\n",
       "  Text(3.141592653589793, 0, '平均进度'),\n",
       "  Text(4.71238898038469, 0, '销售数量'),\n",
       "  Text(6.283185307179586, 0, '课程时间')])"
      ]
     },
     "execution_count": 32,
     "metadata": {},
     "output_type": "execute_result"
    },
    {
     "data": {
      "image/png": "[encoded data removed]",
      "text/plain": [
       "<Figure size 432x288 with 1 Axes>"
      ]
     },
     "metadata": {
      "needs_background": "light"
     },
     "output_type": "display_data"
    }
   ],
   "source": [
    "#创建一个画布\n",
    "fig=plt.figure()\n",
    "ax=fig.add_subplot(1,1,1,#一行一列第一个\n",
    "                   polar=True)#这里一定要设置成极坐标格式\n",
    "#聚类中心数据\n",
    "data=model.cluster_centers_.tolist()\n",
    "#把圆均分\n",
    "x=np.linspace(0,2*np.pi,5).tolist()\n",
    "#依次绘制雷达图\n",
    "for i in range(4):\n",
    "    #将聚类中心的数第一个重复一次，让曲线可以回到开头\n",
    "    data[i].append(data[i][0])\n",
    "    #绘制雷达图像\n",
    "    plt.plot(x,data[i],label=f'第{i}个聚类中心')\n",
    "    #给每个点添加标签数据\n",
    "    for j in range(4):\n",
    "        plt.text(x[j],data[i][j],np.round(data[i][j],3))\n",
    "#显示图例\n",
    "plt.legend()\n",
    "ax.grid(True)\n",
    "#加标签\n",
    "plt.xticks(x,['课程时间','课程价格','平均进度','销售数量','课程时间'])"
   ]
  },
  {
   "cell_type": "code",
   "execution_count": null,
   "id": "d66fa516",
   "metadata": {},
   "outputs": [],
   "source": []
  }
 ],
 "metadata": {
  "kernelspec": {
   "display_name": "Python 3",
   "language": "python",
   "name": "python3"
  },
  "language_info": {
   "codemirror_mode": {
    "name": "ipython",
    "version": 3
   },
   "file_extension": ".py",
   "mimetype": "text/x-python",
   "name": "python",
   "nbconvert_exporter": "python",
   "pygments_lexer": "ipython3",
   "version": "3.8.8"
  },
  "toc": {
   "base_numbering": 1,
   "nav_menu": {},
   "number_sections": true,
   "sideBar": true,
   "skip_h1_title": false,
   "title_cell": "Table of Contents",
   "title_sidebar": "Contents",
   "toc_cell": false,
   "toc_position": {},
   "toc_section_display": true,
   "toc_window_display": false
  }
 },
 "nbformat": 4,
 "nbformat_minor": 5
}
