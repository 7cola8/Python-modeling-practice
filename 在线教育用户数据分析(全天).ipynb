{
 "cells": [
  {
   "cell_type": "code",
   "execution_count": 1,
   "id": "af193ecc-264d-499e-88aa-857900371cdb",
   "metadata": {},
   "outputs": [],
   "source": [
    "import pandas as pd"
   ]
  },
  {
   "cell_type": "markdown",
   "id": "189c26cf-c1c7-40bf-ab36-5c7a8e1f7f54",
   "metadata": {},
   "source": [
    "# 导入数据"
   ]
  },
  {
   "cell_type": "code",
   "execution_count": 2,
   "id": "ef272536-e79f-400a-a7a6-1a25ed785b2a",
   "metadata": {},
   "outputs": [
    {
     "name": "stdout",
     "output_type": "stream",
     "text": [
      "<class 'pandas.core.frame.DataFrame'>\n",
      "RangeIndex: 194974 entries, 0 to 194973\n",
      "Data columns (total 5 columns):\n",
      " #   Column  Non-Null Count   Dtype         \n",
      "---  ------  --------------   -----         \n",
      " 0   0       194974 non-null  object        \n",
      " 1   1       194974 non-null  object        \n",
      " 2   2       194974 non-null  datetime64[ns]\n",
      " 3   3       194974 non-null  object        \n",
      " 4   4       190736 non-null  float64       \n",
      "dtypes: datetime64[ns](1), float64(1), object(3)\n",
      "memory usage: 7.4+ MB\n"
     ]
    }
   ],
   "source": [
    "study_information=pd.read_csv('study_information.csv',\n",
    "                             header=None,# 设置第一行开始就是数据\n",
    "                             parse_dates=[2] # 设置第二列是时间格式\n",
    "                             )\n",
    "study_information.head() #只想显示数据前5行？\n",
    "study_information.info()  # 显示数据基本信息\n",
    "# 查看数据统计信息？ (只针对数字)\n",
    "study_information.describe()\n",
    "# 修改列名？\n",
    "study_information.columns=['用户id','课程id','加入课程的时间','学习进度','课程单价']"
   ]
  },
  {
   "cell_type": "code",
   "execution_count": 3,
   "id": "46721710-bddb-4f6e-b822-7f8fec010dc4",
   "metadata": {
    "scrolled": true
   },
   "outputs": [
    {
     "name": "stdout",
     "output_type": "stream",
     "text": [
      "<class 'pandas.core.frame.DataFrame'>\n",
      "Int64Index: 43916 entries, 0 to 43982\n",
      "Data columns (total 7 columns):\n",
      " #   Column  Non-Null Count  Dtype         \n",
      "---  ------  --------------  -----         \n",
      " 0   1       43916 non-null  object        \n",
      " 1   2       43916 non-null  datetime64[ns]\n",
      " 2   3       43724 non-null  object        \n",
      " 3   4       43916 non-null  int64         \n",
      " 4   5       43916 non-null  int64         \n",
      " 5   6       43916 non-null  object        \n",
      " 6   7       10569 non-null  object        \n",
      "dtypes: datetime64[ns](1), int64(2), object(4)\n",
      "memory usage: 2.7+ MB\n"
     ]
    }
   ],
   "source": [
    "new_users=pd.read_csv('new_users.csv',\n",
    "                     header=None,# 设置第一行开始就是数据\n",
    "                     parse_dates=[1,2], # 设置第一、二列是时间格式\n",
    "                     index_col=0# 不要序号列,把第一列设置成行索引        \n",
    "                     )\n",
    "# 查看数据统计信息？ (只针对数字)\n",
    "new_users.info()\n",
    "# 修改列名？\n",
    "new_users.columns=[\n",
    "                    '用户id',\n",
    "                    '注册时间',\n",
    "                    '最近访问时间',\n",
    "                    '学习时长',\n",
    "                    '加入班级数',\n",
    "                    '退出班级数',\n",
    "                    '用户所属学校',]\n",
    "new_users.head()\n",
    "new_users['最近访问时间']=pd.to_datetime(new_users['最近访问时间'])"
   ]
  },
  {
   "cell_type": "code",
   "execution_count": 4,
   "id": "679c3b98-1dd3-44bc-8042-a2d9d8ad64c8",
   "metadata": {},
   "outputs": [
    {
     "name": "stdout",
     "output_type": "stream",
     "text": [
      "<class 'pandas.core.frame.DataFrame'>\n",
      "RangeIndex: 387144 entries, 0 to 387143\n",
      "Data columns (total 3 columns):\n",
      " #   Column  Non-Null Count   Dtype         \n",
      "---  ------  --------------   -----         \n",
      " 0   0       387144 non-null  object        \n",
      " 1   1       387144 non-null  datetime64[ns]\n",
      " 2   2       387144 non-null  object        \n",
      "dtypes: datetime64[ns](1), object(2)\n",
      "memory usage: 8.9+ MB\n"
     ]
    },
    {
     "data": {
      "text/html": [
       "<div>\n",
       "<style scoped>\n",
       "    .dataframe tbody tr th:only-of-type {\n",
       "        vertical-align: middle;\n",
       "    }\n",
       "\n",
       "    .dataframe tbody tr th {\n",
       "        vertical-align: top;\n",
       "    }\n",
       "\n",
       "    .dataframe thead th {\n",
       "        text-align: right;\n",
       "    }\n",
       "</style>\n",
       "<table border=\"1\" class=\"dataframe\">\n",
       "  <thead>\n",
       "    <tr style=\"text-align: right;\">\n",
       "      <th></th>\n",
       "      <th>用户id</th>\n",
       "      <th>登陆时间</th>\n",
       "      <th>登陆地点</th>\n",
       "    </tr>\n",
       "  </thead>\n",
       "  <tbody>\n",
       "    <tr>\n",
       "      <th>0</th>\n",
       "      <td>用户3</td>\n",
       "      <td>2018-09-06 09:32:47</td>\n",
       "      <td>中国广东广州</td>\n",
       "    </tr>\n",
       "    <tr>\n",
       "      <th>1</th>\n",
       "      <td>用户3</td>\n",
       "      <td>2018-09-07 09:28:28</td>\n",
       "      <td>中国广东广州</td>\n",
       "    </tr>\n",
       "    <tr>\n",
       "      <th>2</th>\n",
       "      <td>用户3</td>\n",
       "      <td>2018-09-07 09:57:44</td>\n",
       "      <td>中国广东广州</td>\n",
       "    </tr>\n",
       "    <tr>\n",
       "      <th>3</th>\n",
       "      <td>用户3</td>\n",
       "      <td>2018-09-07 10:55:07</td>\n",
       "      <td>中国广东广州</td>\n",
       "    </tr>\n",
       "    <tr>\n",
       "      <th>4</th>\n",
       "      <td>用户3</td>\n",
       "      <td>2018-09-07 12:28:42</td>\n",
       "      <td>中国广东广州</td>\n",
       "    </tr>\n",
       "  </tbody>\n",
       "</table>\n",
       "</div>"
      ],
      "text/plain": [
       "  用户id                登陆时间    登陆地点\n",
       "0  用户3 2018-09-06 09:32:47  中国广东广州\n",
       "1  用户3 2018-09-07 09:28:28  中国广东广州\n",
       "2  用户3 2018-09-07 09:57:44  中国广东广州\n",
       "3  用户3 2018-09-07 10:55:07  中国广东广州\n",
       "4  用户3 2018-09-07 12:28:42  中国广东广州"
      ]
     },
     "execution_count": 4,
     "metadata": {},
     "output_type": "execute_result"
    }
   ],
   "source": [
    "login=pd.read_csv('login.csv',\n",
    "                    header=None,# 设置第一行开始就是数据\n",
    "                    parse_dates=[1], # 设置第二列是时间格式\n",
    "                     )\n",
    "# 查看数据统计信息？ (只针对数字)\n",
    "login.info()\n",
    "login.head()\n",
    "# # 修改列名？\n",
    "login.columns=[\n",
    "'用户id',\n",
    "'登陆时间',\n",
    "'登陆地点',\n",
    "]\n",
    "login.head()"
   ]
  },
  {
   "cell_type": "markdown",
   "id": "7398241d-4964-4e05-8a87-82da62a022dc",
   "metadata": {},
   "source": [
    "# 数据检查"
   ]
  },
  {
   "cell_type": "markdown",
   "id": "96580470-95bb-4c58-b3f0-099fc96257df",
   "metadata": {},
   "source": [
    "## 重复值处理"
   ]
  },
  {
   "cell_type": "code",
   "execution_count": 5,
   "id": "49bc921a-a870-4e8e-93a4-05de30dac00e",
   "metadata": {},
   "outputs": [
    {
     "data": {
      "text/plain": [
       "0"
      ]
     },
     "execution_count": 5,
     "metadata": {},
     "output_type": "execute_result"
    }
   ],
   "source": [
    "# 查看重复数据\n",
    "study_information.duplicated().sum()"
   ]
  },
  {
   "cell_type": "code",
   "execution_count": 6,
   "id": "d2741380-db6e-4a48-ad5f-74fa9341e906",
   "metadata": {},
   "outputs": [
    {
     "data": {
      "text/plain": [
       "3"
      ]
     },
     "execution_count": 6,
     "metadata": {},
     "output_type": "execute_result"
    }
   ],
   "source": [
    "new_users.duplicated().sum()"
   ]
  },
  {
   "cell_type": "code",
   "execution_count": 7,
   "id": "d2a7c5f2-48dd-45d5-a05b-4b2f7ceaa80a",
   "metadata": {},
   "outputs": [
    {
     "data": {
      "text/plain": [
       "0"
      ]
     },
     "execution_count": 7,
     "metadata": {},
     "output_type": "execute_result"
    }
   ],
   "source": [
    "login.duplicated().sum()"
   ]
  },
  {
   "cell_type": "code",
   "execution_count": 8,
   "id": "4a95647d-e70c-4a9d-ad23-aa45ffc97896",
   "metadata": {
    "scrolled": true
   },
   "outputs": [],
   "source": [
    "# 怎么删除重复数据？\n",
    "#方法一\n",
    "new_users=new_users.drop_duplicates()\n",
    "# 方法二\n",
    "new_users.drop_duplicates(inplace=True)"
   ]
  },
  {
   "cell_type": "markdown",
   "id": "23f037d2-d2a7-4b8a-aa25-35e051199103",
   "metadata": {},
   "source": [
    "## 缺失值处理"
   ]
  },
  {
   "cell_type": "code",
   "execution_count": 9,
   "id": "836fb2b8-c8dd-4b6b-89a4-aaf8a98d4158",
   "metadata": {},
   "outputs": [
    {
     "name": "stdout",
     "output_type": "stream",
     "text": [
      "用户id 0\n",
      "注册时间 0\n",
      "最近访问时间 192\n",
      "学习时长 0\n",
      "加入班级数 0\n",
      "退出班级数 0\n",
      "用户所属学校 33344\n",
      "用户id 0\n",
      "登陆时间 0\n",
      "登陆地点 0\n",
      "用户id 0\n",
      "课程id 0\n",
      "加入课程的时间 0\n",
      "学习进度 0\n",
      "课程单价 4238\n"
     ]
    }
   ],
   "source": [
    "# 查看各数据每列缺了多少个? √‘\n",
    "\n",
    "for i in new_users.columns:\n",
    "    print(i,new_users[i].isnull().sum())\n",
    "for i in login.columns:\n",
    "    print(i,login[i].isnull().sum())\n",
    "for i in study_information.columns:\n",
    "    print(i,study_information[i].isnull().sum())"
   ]
  },
  {
   "cell_type": "code",
   "execution_count": 10,
   "id": "05844619-2ebb-477e-a3b2-e6a691041b40",
   "metadata": {},
   "outputs": [
    {
     "name": "stdout",
     "output_type": "stream",
     "text": [
      "<class 'pandas.core.frame.DataFrame'>\n",
      "Int64Index: 43913 entries, 0 to 43982\n",
      "Data columns (total 6 columns):\n",
      " #   Column  Non-Null Count  Dtype         \n",
      "---  ------  --------------  -----         \n",
      " 0   用户id    43913 non-null  object        \n",
      " 1   注册时间    43913 non-null  datetime64[ns]\n",
      " 2   最近访问时间  43721 non-null  datetime64[ns]\n",
      " 3   学习时长    43913 non-null  int64         \n",
      " 4   加入班级数   43913 non-null  int64         \n",
      " 5   退出班级数   43913 non-null  object        \n",
      "dtypes: datetime64[ns](2), int64(2), object(2)\n",
      "memory usage: 2.3+ MB\n"
     ]
    }
   ],
   "source": [
    "# 怎么处理空缺数据？\n",
    "# 1\\new_users里面的学校信息：删除一列？\n",
    "# del new_users['用户所属学校']\n",
    "# new_users.drop('用户所属学校',axis=1,inplace=True)\n",
    "new_users=new_users.drop('用户所属学校',axis=1)\n",
    "new_users.info()"
   ]
  },
  {
   "cell_type": "code",
   "execution_count": 11,
   "id": "0718445b-928e-45db-8fd2-2fdbe7acb956",
   "metadata": {
    "scrolled": true
   },
   "outputs": [],
   "source": [
    "# 删除行，删除没有最近访问时间的行数据\n",
    "# DataFrame.dropna(self, axis=0, how='any', thresh=None, subset=None, inplace=False)\n",
    "# how： 选择方式是全为空还是部分为空\n",
    "new_users=new_users.dropna(subset=['最近访问时间'],  # 指定判断缺失数据的列\n",
    "                           axis=0,  # 删除行或者列，0：行\n",
    "                           how='any'  #判断subset里面的缺失类型\n",
    "                          )"
   ]
  },
  {
   "cell_type": "code",
   "execution_count": 12,
   "id": "efda0fed-0647-4d35-9b79-ec4c06335e9b",
   "metadata": {},
   "outputs": [],
   "source": [
    "# 课程单价怎么处理？\n",
    "# 缺失的课程单价都填充成0 怎么做？\n",
    "study_information['课程单价'].fillna(value=0,inplace=True)"
   ]
  },
  {
   "cell_type": "code",
   "execution_count": 13,
   "id": "fb6223b4-6968-46d3-b65d-b545a3db5225",
   "metadata": {
    "scrolled": true
   },
   "outputs": [
    {
     "name": "stdout",
     "output_type": "stream",
     "text": [
      "<class 'pandas.core.frame.DataFrame'>\n",
      "RangeIndex: 194974 entries, 0 to 194973\n",
      "Data columns (total 5 columns):\n",
      " #   Column   Non-Null Count   Dtype         \n",
      "---  ------   --------------   -----         \n",
      " 0   用户id     194974 non-null  object        \n",
      " 1   课程id     194974 non-null  object        \n",
      " 2   加入课程的时间  194974 non-null  datetime64[ns]\n",
      " 3   学习进度     194974 non-null  object        \n",
      " 4   课程单价     194974 non-null  float64       \n",
      "dtypes: datetime64[ns](1), float64(1), object(3)\n",
      "memory usage: 7.4+ MB\n"
     ]
    }
   ],
   "source": [
    "study_information.info()"
   ]
  },
  {
   "cell_type": "code",
   "execution_count": 14,
   "id": "de433e9a-52d2-4048-8b56-d4559db0665e",
   "metadata": {},
   "outputs": [
    {
     "data": {
      "text/plain": [
       "False"
      ]
     },
     "execution_count": 14,
     "metadata": {},
     "output_type": "execute_result"
    }
   ],
   "source": [
    "# new_users['最近访问时间'].unique()  查看不重复的元素\n",
    "# .tolist()  数据转成列表\n",
    "# '#/NA' in XX 判断元素是否存在\n",
    "'#/NA' in new_users['最近访问时间'].unique().tolist()  #查看不重复元素信息"
   ]
  },
  {
   "cell_type": "markdown",
   "id": "a59e2658-cd73-4705-8b25-20d327a19bb3",
   "metadata": {},
   "source": [
    "# 数据预处理"
   ]
  },
  {
   "cell_type": "markdown",
   "id": "60ac424c-b87f-4d81-a8a8-c2cae4934f23",
   "metadata": {},
   "source": [
    "## 处理登陆数据"
   ]
  },
  {
   "cell_type": "code",
   "execution_count": null,
   "id": "2311e3a1-9507-42b1-b6c5-af8ea8bf5c76",
   "metadata": {},
   "outputs": [],
   "source": [
    "login['登陆地点'].unique()"
   ]
  },
  {
   "cell_type": "code",
   "execution_count": 16,
   "id": "1bf32046-16c4-414f-8df1-4315251e63b1",
   "metadata": {},
   "outputs": [],
   "source": [
    "# 提取登录地点的前两个字作为国家信息\n",
    "# x[:2]:取字符串前两个字符\n",
    "# lambda x: x[:2]:搭建一个函数\n",
    "# login['登陆地点'].apply :对一列数据整体应用函数\n",
    "login['国家']=login['登陆地点'].apply(lambda x: x[:2])\n"
   ]
  },
  {
   "cell_type": "code",
   "execution_count": 42,
   "id": "04e8eb82-242a-4f36-8105-062a3c726a40",
   "metadata": {
    "scrolled": true
   },
   "outputs": [
    {
     "name": "stderr",
     "output_type": "stream",
     "text": [
      "100%|█████████████████████████████████████████████████████████████████████████| 387144/387144 [28:41<00:00, 224.89it/s]\n"
     ]
    }
   ],
   "source": [
    "# 提取省市信息\n",
    "#                 ['省','市']\n",
    "# 中国湖南'         湖南   nan\n",
    "# '中国湖北武汉',    湖北   武汉\n",
    "import numpy as np\n",
    "import tqdm\n",
    "Province=pd.read_csv('省市数据.csv')\n",
    "login[['省','市']]=np.nan\n",
    "for i in tqdm.tqdm(login.index):\n",
    "    # 判断有没有省份信息:\n",
    "    for p in Province['省'].unique():\n",
    "        if p in login.iloc[i,2]:\n",
    "            # 如果在，返回省份信息\n",
    "            login.iloc[i,4]=p\n",
    "            break\n",
    "    # 查找市的信息\n",
    "    for c in Province['市']:\n",
    "        # 判断有没有市份信息\n",
    "        if str(c) in login.iloc[i,2]:\n",
    "            # 返回市的信息\n",
    "            login.iloc[i,5]=c\n",
    "            break"
   ]
  },
  {
   "cell_type": "code",
   "execution_count": 43,
   "id": "382088e0-07c8-4b65-ba49-96147d320ddc",
   "metadata": {},
   "outputs": [],
   "source": [
    "login.to_csv('加省份信息的登陆数据.csv')"
   ]
  },
  {
   "cell_type": "code",
   "execution_count": null,
   "id": "55e07d65-dd8c-402b-ad68-640dab2bf41b",
   "metadata": {
    "scrolled": true
   },
   "outputs": [],
   "source": [
    "# # 构建结果字典\n",
    "data_dict={}\n",
    "Province['省市']=Province['省']+Province['市']\n",
    "data_dict={i:[i,np.nan] for i in Province['省']}\n",
    "data_dict2={item:[Province.iloc[i,0],Province.iloc[i,1]] \n",
    "            for i,item in enumerate(Province['省市'])}\n",
    "\n",
    "data_dict.update(data_dict2)\n",
    "\n",
    "def fun1(x):\n",
    "    if len(x)>2:\n",
    "        return data_dict[x[2:]]\n",
    "    else:\n",
    "        return [np.nan,np.nan]\n",
    "login['登陆地点'].map(fun1)"
   ]
  },
  {
   "cell_type": "markdown",
   "id": "a2d54d29-9cff-43b3-98fc-f99d04ed7bd4",
   "metadata": {},
   "source": [
    "## 处理时间数据"
   ]
  },
  {
   "cell_type": "code",
   "execution_count": 44,
   "id": "2eac8440-e3b0-4584-88a6-f449d22e0caf",
   "metadata": {},
   "outputs": [],
   "source": [
    "login['登陆小时']=login['登陆时间'].dt.hour\n",
    "login['登陆周几']=login['登陆时间'].dt.weekday\n",
    "login['登陆月份']=login['登陆时间'].dt.month"
   ]
  },
  {
   "cell_type": "markdown",
   "id": "13fdabf7-ed2d-4b1d-b56d-4bc4e9c74af2",
   "metadata": {},
   "source": [
    "## 处理进度数据"
   ]
  },
  {
   "cell_type": "code",
   "execution_count": 46,
   "id": "3f4857b4-fc17-4c9b-b104-11e6457eae84",
   "metadata": {
    "scrolled": true
   },
   "outputs": [],
   "source": [
    "def fun2(x):\n",
    "    # 根据字符串规则进行处理\n",
    "    return int(x.split(':')[1].replace('%;',''))\n",
    "study_information['学习进度_数字']=study_information['学习进度'].map(fun2)"
   ]
  },
  {
   "cell_type": "code",
   "execution_count": 47,
   "id": "ead482ac-13c9-471d-b392-2f3169ae2f43",
   "metadata": {},
   "outputs": [],
   "source": [
    "# 借助正则匹配进行处理\n",
    "import re\n",
    "def fun3(x):\n",
    "    pat = '\\d+'\n",
    "    rst = re.search(pat,x)\n",
    "    return int(rst.group())\n",
    "study_information['学习进度_数字']=study_information['学习进度'].map(fun3)"
   ]
  },
  {
   "cell_type": "markdown",
   "id": "20953cfc-f4c7-4609-9c64-dda73c072639",
   "metadata": {},
   "source": [
    "# 数据分析"
   ]
  },
  {
   "cell_type": "markdown",
   "id": "ba8a4359-637a-4d64-9b0b-5c6b163c213f",
   "metadata": {},
   "source": [
    "## 登录数前10的省份"
   ]
  },
  {
   "cell_type": "code",
   "execution_count": 69,
   "id": "f4e16d9f-986b-433e-b41d-a63f2617544d",
   "metadata": {
    "scrolled": true
   },
   "outputs": [
    {
     "data": {
      "text/plain": [
       "<Axes: title={'center': '登录次数排名前十的省份'}, xlabel='省', ylabel='登录次数'>"
      ]
     },
     "execution_count": 69,
     "metadata": {},
     "output_type": "execute_result"
    },
    {
     "data": {
      "image/png": "[encoded data removed]",
      "text/plain": [
       "<Figure size 640x480 with 1 Axes>"
      ]
     },
     "metadata": {},
     "output_type": "display_data"
    }
   ],
   "source": [
    "import matplotlib.pyplot as plt\n",
    "plt.rcParams['font.sans-serif'] = ['SimHei'] # 解决汉字显示为□指定默认字体为黑体。\n",
    "plt.rcParams['axes.unicode_minus'] = False   # 解决保存图像时 负号'-' 显示为□和报错的问题。\n",
    "# 分析登录前10的省份数据\n",
    "# 1、对省份进行分组聚合\n",
    "ans=login.groupby('省')['用户id'].count()\n",
    "# value_counts()：查看一列元素的数量\n",
    "# login['省'].value_counts()  # 直接就是排序后的结果\n",
    "# 2、排序\n",
    "ans.sort_values(ascending=False,  # 升序降序,true:↑\n",
    "               inplace=True)\n",
    "# 3、取前十\n",
    "ans[:10].plot.bar(title='登录次数排名前十的省份',ylabel='登录次数')\n",
    "# 4、可视化\n",
    "# plt.title('登录次数排名前十的省份')\n",
    "# plt.ylabel('登录次数')"
   ]
  },
  {
   "cell_type": "markdown",
   "id": "3d0bdf8c-a397-43f3-a474-23d3c2ada4e1",
   "metadata": {},
   "source": [
    "## 登陆数据每月环比图"
   ]
  },
  {
   "cell_type": "code",
   "execution_count": 84,
   "id": "aa190b18-f26e-4275-bcba-4b1bb9f6c1b8",
   "metadata": {
    "scrolled": true
   },
   "outputs": [
    {
     "data": {
      "text/plain": [
       "([<matplotlib.axis.XTick at 0x2de6144fcd0>,\n",
       "  <matplotlib.axis.XTick at 0x2de6144fca0>,\n",
       "  <matplotlib.axis.XTick at 0x2de613d84c0>,\n",
       "  <matplotlib.axis.XTick at 0x2de614882e0>,\n",
       "  <matplotlib.axis.XTick at 0x2de613d4fd0>,\n",
       "  <matplotlib.axis.XTick at 0x2de613fb2b0>,\n",
       "  <matplotlib.axis.XTick at 0x2de613d8ac0>,\n",
       "  <matplotlib.axis.XTick at 0x2de61488dc0>,\n",
       "  <matplotlib.axis.XTick at 0x2de6148faf0>,\n",
       "  <matplotlib.axis.XTick at 0x2de614888b0>,\n",
       "  <matplotlib.axis.XTick at 0x2de61495430>,\n",
       "  <matplotlib.axis.XTick at 0x2de61495ee0>],\n",
       " [Text(1, 0, '1月'),\n",
       "  Text(2, 0, '2月'),\n",
       "  Text(3, 0, '3月'),\n",
       "  Text(4, 0, '4月'),\n",
       "  Text(5, 0, '5月'),\n",
       "  Text(6, 0, '6月'),\n",
       "  Text(7, 0, '7月'),\n",
       "  Text(8, 0, '8月'),\n",
       "  Text(9, 0, '9月'),\n",
       "  Text(10, 0, '10月'),\n",
       "  Text(11, 0, '11月'),\n",
       "  Text(12, 0, '12月')])"
      ]
     },
     "execution_count": 84,
     "metadata": {},
     "output_type": "execute_result"
    },
    {
     "data": {
      "image/png": "[encoded data removed]",
      "text/plain": [
       "<Figure size 500x500 with 2 Axes>"
      ]
     },
     "metadata": {},
     "output_type": "display_data"
    }
   ],
   "source": [
    "#每月环比图\n",
    "ans=login.groupby('登陆月份')['用户id'].count()\n",
    "# 环比数据：（这个-上）/上\n",
    "huanbi=(ans[1:].values-ans[:-1].values)/ans[:-1].values\n",
    "# 正常画柱状图\n",
    "# 创建一个画布\n",
    "fig=plt.figure(figsize=(5,5))\n",
    "# 在画布上创建一个子图\n",
    "ax=fig.add_subplot(111)\n",
    "# 献花柱状图\n",
    "plt.bar(ans.index,ans.values)\n",
    "plt.ylabel('浏览量')\n",
    "# 创建一个新的子图，子图复制X轴，这样可以产生不同的y轴\n",
    "ax1=ax.twinx()\n",
    "plt.plot(np.arange(2,13),huanbi,color='red')\n",
    "plt.ylabel('环比数')\n",
    "# 设置X轴的刻度数据\n",
    "plt.xticks(np.arange(1,13),[f'{i}月' for i in range(1,13)])"
   ]
  },
  {
   "cell_type": "markdown",
   "id": "eb7d1053-9c30-4158-8d95-03aaa993ae24",
   "metadata": {},
   "source": [
    "## 课程销售、销售额散点图"
   ]
  },
  {
   "cell_type": "code",
   "execution_count": 90,
   "id": "d6140d68-0e64-4330-ac2c-1e73fae1222c",
   "metadata": {},
   "outputs": [
    {
     "data": {
      "image/png": "[encoded data removed]",
      "text/plain": [
       "<Figure size 640x480 with 1 Axes>"
      ]
     },
     "metadata": {},
     "output_type": "display_data"
    }
   ],
   "source": [
    "ans=study_information.groupby('课程id').agg({'用户id':'count',\n",
    "                                      '课程单价':'sum'})\n",
    "ans.columns=['销量','销售额']\n",
    "plt.scatter(ans['销量'],ans['销售额'])\n",
    "for i in ans.index:\n",
    "    plt.text(ans.loc[i,'销量'],ans.loc[i,'销售额'],i)"
   ]
  },
  {
   "cell_type": "code",
   "execution_count": 85,
   "id": "228ba419-e49c-43c9-a125-31661a85b8d0",
   "metadata": {},
   "outputs": [
    {
     "name": "stdout",
     "output_type": "stream",
     "text": [
      "<class 'pandas.core.frame.DataFrame'>\n",
      "RangeIndex: 194974 entries, 0 to 194973\n",
      "Data columns (total 6 columns):\n",
      " #   Column   Non-Null Count   Dtype         \n",
      "---  ------   --------------   -----         \n",
      " 0   用户id     194974 non-null  object        \n",
      " 1   课程id     194974 non-null  object        \n",
      " 2   加入课程的时间  194974 non-null  datetime64[ns]\n",
      " 3   学习进度     194974 non-null  object        \n",
      " 4   课程单价     194974 non-null  float64       \n",
      " 5   学习进度_数字  194974 non-null  int64         \n",
      "dtypes: datetime64[ns](1), float64(1), int64(1), object(3)\n",
      "memory usage: 8.9+ MB\n"
     ]
    }
   ],
   "source": [
    "study_information.info()"
   ]
  }
 ],
 "metadata": {
  "kernelspec": {
   "display_name": "Python 3",
   "language": "python",
   "name": "python3"
  },
  "language_info": {
   "codemirror_mode": {
    "name": "ipython",
    "version": 3
   },
   "file_extension": ".py",
   "mimetype": "text/x-python",
   "name": "python",
   "nbconvert_exporter": "python",
   "pygments_lexer": "ipython3",
   "version": "3.8.8"
  },
  "toc": {
   "base_numbering": 1,
   "nav_menu": {},
   "number_sections": true,
   "sideBar": true,
   "skip_h1_title": false,
   "title_cell": "Table of Contents",
   "title_sidebar": "Contents",
   "toc_cell": false,
   "toc_position": {},
   "toc_section_display": true,
   "toc_window_display": false
  },
  "widgets": {
   "application/vnd.jupyter.widget-state+json": {
    "state": {},
    "version_major": 2,
    "version_minor": 0
   }
  }
 },
 "nbformat": 4,
 "nbformat_minor": 5
}
